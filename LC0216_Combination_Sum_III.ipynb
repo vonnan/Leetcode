{
  "nbformat": 4,
  "nbformat_minor": 0,
  "metadata": {
    "colab": {
      "name": "LC0216 Combination Sum III.ipynb",
      "provenance": [],
      "authorship_tag": "ABX9TyPjsW/ml0D2j7sQaOnZZqi9",
      "include_colab_link": true
    },
    "kernelspec": {
      "name": "python3",
      "display_name": "Python 3"
    },
    "language_info": {
      "name": "python"
    }
  },
  "cells": [
    {
      "cell_type": "markdown",
      "metadata": {
        "id": "view-in-github",
        "colab_type": "text"
      },
      "source": [
        "<a href=\"https://colab.research.google.com/github/vonnan/Leetcode/blob/main/LC0216_Combination_Sum_III.ipynb\" target=\"_parent\"><img src=\"https://colab.research.google.com/assets/colab-badge.svg\" alt=\"Open In Colab\"/></a>"
      ]
    },
    {
      "cell_type": "code",
      "metadata": {
        "id": "fys6aabIqeP-"
      },
      "source": [
        "\"\"\"\n",
        "216. Combination Sum III\n",
        "Medium\n",
        "\n",
        "1716\n",
        "\n",
        "64\n",
        "\n",
        "Add to List\n",
        "\n",
        "Share\n",
        "Find all valid combinations of k numbers that sum up to n such that the following conditions are true:\n",
        "\n",
        "Only numbers 1 through 9 are used.\n",
        "Each number is used at most once.\n",
        "Return a list of all possible valid combinations. The list must not contain the same combination twice, and the combinations may be returned in any order.\n",
        "\n",
        " \n",
        "\n",
        "Example 1:\n",
        "\n",
        "Input: k = 3, n = 7\n",
        "Output: [[1,2,4]]\n",
        "Explanation:\n",
        "1 + 2 + 4 = 7\n",
        "There are no other valid combinations.\n",
        "Example 2:\n",
        "\n",
        "Input: k = 3, n = 9\n",
        "Output: [[1,2,6],[1,3,5],[2,3,4]]\n",
        "Explanation:\n",
        "1 + 2 + 6 = 9\n",
        "1 + 3 + 5 = 9\n",
        "2 + 3 + 4 = 9\n",
        "There are no other valid combinations.\n",
        "Example 3:\n",
        "\n",
        "Input: k = 4, n = 1\n",
        "Output: []\n",
        "Explanation: There are no valid combinations. [1,2,1] is not valid because 1 is used twice.\n",
        "Example 4:\n",
        "\n",
        "Input: k = 3, n = 2\n",
        "Output: []\n",
        "Explanation: There are no valid combinations.\n",
        "Example 5:\n",
        "\n",
        "Input: k = 9, n = 45\n",
        "Output: [[1,2,3,4,5,6,7,8,9]]\n",
        "Explanation:\n",
        "1 + 2 + 3 + 4 + 5 + 6 + 7 + 8 + 9 = 45\n",
        "​​​​​​​There are no other valid combinations.\n",
        " \n",
        "\n",
        "Constraints:\n",
        "\n",
        "2 <= k <= 9\n",
        "1 <= n <= 60\n",
        "\"\"\"\n",
        "from itertools import combinations\n",
        "class Solution:\n",
        "    def combinationSum3(self, k: int, n: int) -> List[List[int]]:\n",
        "        candidates =[i for i in range(1,10)]\n",
        "        if n > 45 or n < k*(k+1)//2:\n",
        "            return []\n",
        "        res = []\n",
        "        \n",
        "        for v in combinations(candidates, k):\n",
        "            if sum(v)== n:\n",
        "                res.append(list(v))\n",
        "                \n",
        "        return res"
      ],
      "execution_count": null,
      "outputs": []
    }
  ]
}