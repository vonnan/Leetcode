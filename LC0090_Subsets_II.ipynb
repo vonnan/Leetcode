{
  "nbformat": 4,
  "nbformat_minor": 0,
  "metadata": {
    "colab": {
      "name": "LC0090 Subsets II.ipynb",
      "provenance": [],
      "authorship_tag": "ABX9TyPhpIcur++oz6bmY2eTopMo",
      "include_colab_link": true
    },
    "kernelspec": {
      "name": "python3",
      "display_name": "Python 3"
    },
    "language_info": {
      "name": "python"
    }
  },
  "cells": [
    {
      "cell_type": "markdown",
      "metadata": {
        "id": "view-in-github",
        "colab_type": "text"
      },
      "source": [
        "<a href=\"https://colab.research.google.com/github/vonnan/Leetcode/blob/main/LC0090_Subsets_II.ipynb\" target=\"_parent\"><img src=\"https://colab.research.google.com/assets/colab-badge.svg\" alt=\"Open In Colab\"/></a>"
      ]
    },
    {
      "cell_type": "code",
      "metadata": {
        "id": "6f6qrZwmc8Or"
      },
      "source": [
        "\"\"\"\n",
        "90. Subsets II\n",
        "Medium\n",
        "\n",
        "2367\n",
        "\n",
        "104\n",
        "\n",
        "Add to List\n",
        "\n",
        "Share\n",
        "Given an integer array nums that may contain duplicates, return all possible subsets (the power set).\n",
        "\n",
        "The solution set must not contain duplicate subsets. Return the solution in any order.\n",
        "\n",
        " \n",
        "\n",
        "Example 1:\n",
        "\n",
        "Input: nums = [1,2,2]\n",
        "Output: [[],[1],[1,2],[1,2,2],[2],[2,2]]\n",
        "Example 2:\n",
        "\n",
        "Input: nums = [0]\n",
        "Output: [[],[0]]\n",
        " \n",
        "\n",
        "Constraints:\n",
        "\n",
        "1 <= nums.length <= 10\n",
        "-10 <= nums[i] <= 10\n",
        "\"\"\"\n",
        "\n",
        "from collections import Counter\n",
        "class Solution:\n",
        "    def subsetsWithDup(self, nums: List[int]) -> List[List[int]]:\n",
        "        res = [[]]\n",
        "        \n",
        "        for num, freq in Counter(nums).items():\n",
        "            \n",
        "            res.extend([subset +[num]*k for subset in res for k in range(1,freq +1)] )\n",
        "            \n",
        "        return res\n",
        "            \n",
        "        \n",
        "\n"
      ],
      "execution_count": null,
      "outputs": []
    }
  ]
}