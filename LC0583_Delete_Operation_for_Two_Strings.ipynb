{
  "nbformat": 4,
  "nbformat_minor": 0,
  "metadata": {
    "colab": {
      "name": "LC0583 Delete Operation for Two Strings.ipynb",
      "provenance": [],
      "authorship_tag": "ABX9TyNkGwvn/4j51CkuBmWgJLfI",
      "include_colab_link": true
    },
    "kernelspec": {
      "name": "python3",
      "display_name": "Python 3"
    },
    "language_info": {
      "name": "python"
    }
  },
  "cells": [
    {
      "cell_type": "markdown",
      "metadata": {
        "id": "view-in-github",
        "colab_type": "text"
      },
      "source": [
        "<a href=\"https://colab.research.google.com/github/vonnan/Leetcode/blob/main/LC0583_Delete_Operation_for_Two_Strings.ipynb\" target=\"_parent\"><img src=\"https://colab.research.google.com/assets/colab-badge.svg\" alt=\"Open In Colab\"/></a>"
      ]
    },
    {
      "cell_type": "code",
      "metadata": {
        "id": "fhhUcZrBcvlG"
      },
      "source": [
        "\"\"\"\n",
        "583. Delete Operation for Two Strings\n",
        "Medium\n",
        "\n",
        "1477\n",
        "\n",
        "36\n",
        "\n",
        "Add to List\n",
        "\n",
        "Share\n",
        "Given two strings word1 and word2, return the minimum number of steps required to make word1 and word2 the same.\n",
        "\n",
        "In one step, you can delete exactly one character in either string.\n",
        "\n",
        " \n",
        "\n",
        "Example 1:\n",
        "\n",
        "Input: word1 = \"sea\", word2 = \"eat\"\n",
        "Output: 2\n",
        "Explanation: You need one step to make \"sea\" to \"ea\" and another step to make \"eat\" to \"ea\".\n",
        "Example 2:\n",
        "\n",
        "Input: word1 = \"leetcode\", word2 = \"etco\"\n",
        "Output: 4\n",
        " \n",
        "\n",
        "Constraints:\n",
        "\n",
        "1 <= word1.length, word2.length <= 500\n",
        "word1 and word2 consist of only lowercase English letters.\n",
        "\"\"\"\n",
        "\n",
        "from collections import Counter\n",
        "class Solution:\n",
        "    def minDistance(self, word1: str, word2: str) -> int:\n",
        "        \n",
        "        l1 = len(word1)\n",
        "        l2 = len(word2)\n",
        "        dp = [[0]*(l2 + 1) for i in range(l1 + 1)]\n",
        "        \n",
        "        for i in range(l1):\n",
        "            for j in range(l2):\n",
        "                dp[i+1][j+1] = max(dp[i][j+1], dp[i+1][j], dp[i][j] + (word1[i]== word2[j]))\n",
        "        \n",
        "        return l1 + l2 - 2 * dp[l1][l2]"
      ],
      "execution_count": null,
      "outputs": []
    }
  ]
}