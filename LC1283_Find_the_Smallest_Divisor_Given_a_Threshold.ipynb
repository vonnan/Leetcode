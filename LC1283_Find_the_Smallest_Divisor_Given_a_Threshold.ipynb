{
  "nbformat": 4,
  "nbformat_minor": 0,
  "metadata": {
    "colab": {
      "name": "LC1283 Find the Smallest Divisor Given a Threshold.ipynb",
      "provenance": [],
      "authorship_tag": "ABX9TyMZhEQNRokwNsUxgnGtdi7B",
      "include_colab_link": true
    },
    "kernelspec": {
      "name": "python3",
      "display_name": "Python 3"
    },
    "language_info": {
      "name": "python"
    }
  },
  "cells": [
    {
      "cell_type": "markdown",
      "metadata": {
        "id": "view-in-github",
        "colab_type": "text"
      },
      "source": [
        "<a href=\"https://colab.research.google.com/github/vonnan/Leetcode/blob/main/LC1283_Find_the_Smallest_Divisor_Given_a_Threshold.ipynb\" target=\"_parent\"><img src=\"https://colab.research.google.com/assets/colab-badge.svg\" alt=\"Open In Colab\"/></a>"
      ]
    },
    {
      "cell_type": "code",
      "metadata": {
        "id": "FRt0IvN-IPCC"
      },
      "source": [
        "\"\"\"\n",
        "1283. Find the Smallest Divisor Given a Threshold\n",
        "Medium\n",
        "\n",
        "716\n",
        "\n",
        "128\n",
        "\n",
        "Add to List\n",
        "\n",
        "Share\n",
        "Given an array of integers nums and an integer threshold, we will choose a positive integer divisor, divide all the array by it, and sum the division's result. Find the smallest divisor such that the result mentioned above is less than or equal to threshold.\n",
        "\n",
        "Each result of the division is rounded to the nearest integer greater than or equal to that element. (For example: 7/3 = 3 and 10/2 = 5).\n",
        "\n",
        "It is guaranteed that there will be an answer.\n",
        "\n",
        " \n",
        "\n",
        "Example 1:\n",
        "\n",
        "Input: nums = [1,2,5,9], threshold = 6\n",
        "Output: 5\n",
        "Explanation: We can get a sum to 17 (1+2+5+9) if the divisor is 1. \n",
        "If the divisor is 4 we can get a sum of 7 (1+1+2+3) and if the divisor is 5 the sum will be 5 (1+1+1+2). \n",
        "Example 2:\n",
        "\n",
        "Input: nums = [44,22,33,11,1], threshold = 5\n",
        "Output: 44\n",
        "Example 3:\n",
        "\n",
        "Input: nums = [21212,10101,12121], threshold = 1000000\n",
        "Output: 1\n",
        "Example 4:\n",
        "\n",
        "Input: nums = [2,3,5,7,11], threshold = 11\n",
        "Output: 3\n",
        " \n",
        "\n",
        "Constraints:\n",
        "\n",
        "1 <= nums.length <= 5 * 104\n",
        "1 <= nums[i] <= 106\n",
        "nums.length <= threshold <= 106\n",
        "\"\"\"\n",
        "\n",
        "from math import ceil\n",
        "class Solution:\n",
        "    def smallestDivisor(self, nums: List[int], threshold: int) -> int:\n",
        "        left, right = 1, max(nums)\n",
        "        while left < right:\n",
        "            mid = (left + right)//2\n",
        "            res = sum(ceil(num/mid) for num in nums)\n",
        "            if res > threshold:\n",
        "                left = mid + 1\n",
        "            else:\n",
        "                right = mid\n",
        "        return left\n"
      ],
      "execution_count": null,
      "outputs": []
    }
  ]
}