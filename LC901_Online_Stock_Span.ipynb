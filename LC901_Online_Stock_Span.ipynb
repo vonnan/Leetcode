{
  "nbformat": 4,
  "nbformat_minor": 0,
  "metadata": {
    "colab": {
      "name": "LC901_Online_Stock_Span.ipynb",
      "provenance": [],
      "authorship_tag": "ABX9TyN0GZfdkW/5H2SlEiTOYGQJ",
      "include_colab_link": true
    },
    "kernelspec": {
      "name": "python3",
      "display_name": "Python 3"
    }
  },
  "cells": [
    {
      "cell_type": "markdown",
      "metadata": {
        "id": "view-in-github",
        "colab_type": "text"
      },
      "source": [
        "<a href=\"https://colab.research.google.com/github/vonnan/Leetcode/blob/main/LC901_Online_Stock_Span.ipynb\" target=\"_parent\"><img src=\"https://colab.research.google.com/assets/colab-badge.svg\" alt=\"Open In Colab\"/></a>"
      ]
    },
    {
      "cell_type": "code",
      "metadata": {
        "id": "X7OBDrmXn3ep"
      },
      "source": [
        "\"\"\"\n",
        "901. Online Stock Span\n",
        "Medium\n",
        "\n",
        "1358\n",
        "\n",
        "158\n",
        "\n",
        "Add to List\n",
        "\n",
        "Share\n",
        "Write a class StockSpanner which collects daily price quotes for some stock, and returns the span of that stock's price for the current day.\n",
        "\n",
        "The span of the stock's price today is defined as the maximum number of consecutive days (starting from today and going backwards) for which the price of the stock was less than or equal to today's price.\n",
        "\n",
        "For example, if the price of a stock over the next 7 days were [100, 80, 60, 70, 60, 75, 85], then the stock spans would be [1, 1, 1, 2, 1, 4, 6].\n",
        "\n",
        " \n",
        "\n",
        "Example 1:\n",
        "\n",
        "Input: [\"StockSpanner\",\"next\",\"next\",\"next\",\"next\",\"next\",\"next\",\"next\"], [[],[100],[80],[60],[70],[60],[75],[85]]\n",
        "Output: [null,1,1,1,2,1,4,6]\n",
        "Explanation: \n",
        "First, S = StockSpanner() is initialized.  Then:\n",
        "S.next(100) is called and returns 1,\n",
        "S.next(80) is called and returns 1,\n",
        "S.next(60) is called and returns 1,\n",
        "S.next(70) is called and returns 2,\n",
        "S.next(60) is called and returns 1,\n",
        "S.next(75) is called and returns 4,\n",
        "S.next(85) is called and returns 6.\n",
        "\n",
        "Note that (for example) S.next(75) returned 4, because the last 4 prices\n",
        "(including today's price of 75) were less than or equal to today's price.\n",
        " \"\"\"\n",
        "\n",
        "class StockSpanner:\n",
        "\n",
        "    def __init__(self):\n",
        "        self.stack = []\n",
        "        \n",
        "\n",
        "    def next(self, price: int) -> int:\n",
        "        res = 1\n",
        "        \n",
        "        while self.stack and self.stack[-1][0] <= price:\n",
        "            res += self.stack.pop()[1]\n",
        "        \n",
        "        self.stack.append([price, res])\n",
        "        \n",
        "        return res\n",
        "        \n",
        "    \n",
        "        \n",
        "\n",
        "\n",
        "# Your StockSpanner object will be instantiated and called as such:\n",
        "# obj = StockSpanner()\n",
        "# param_1 = obj.next(price)"
      ],
      "execution_count": null,
      "outputs": []
    }
  ]
}