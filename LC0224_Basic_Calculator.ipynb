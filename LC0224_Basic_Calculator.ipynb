{
  "nbformat": 4,
  "nbformat_minor": 0,
  "metadata": {
    "colab": {
      "name": "LC0224_Basic_Calculator.ipynb",
      "provenance": [],
      "authorship_tag": "ABX9TyORcylEzQedjs9iD1eG3ugo",
      "include_colab_link": true
    },
    "kernelspec": {
      "name": "python3",
      "display_name": "Python 3"
    },
    "language_info": {
      "name": "python"
    }
  },
  "cells": [
    {
      "cell_type": "markdown",
      "metadata": {
        "id": "view-in-github",
        "colab_type": "text"
      },
      "source": [
        "<a href=\"https://colab.research.google.com/github/vonnan/Leetcode/blob/main/LC0224_Basic_Calculator.ipynb\" target=\"_parent\"><img src=\"https://colab.research.google.com/assets/colab-badge.svg\" alt=\"Open In Colab\"/></a>"
      ]
    },
    {
      "cell_type": "code",
      "metadata": {
        "id": "6xrXXIYcVVuO"
      },
      "source": [
        "\"\"\"\n",
        "224. Basic Calculator\n",
        "Hard\n",
        "https://leetcode.com/problems/basic-calculator/\n",
        "\n",
        "2093\n",
        "\n",
        "172\n",
        "\n",
        "Add to List\n",
        "\n",
        "Share\n",
        "Given a string s representing an expression, implement a basic calculator to evaluate it.\n",
        "\n",
        " \n",
        "\n",
        "Example 1:\n",
        "\n",
        "Input: s = \"1 + 1\"\n",
        "Output: 2\n",
        "Example 2:\n",
        "\n",
        "Input: s = \" 2-1 + 2 \"\n",
        "Output: 3\n",
        "Example 3:\n",
        "\n",
        "Input: s = \"(1+(4+5+2)-3)+(6+8)\"\n",
        "Output: 23\n",
        " \n",
        "\n",
        "Constraints:\n",
        "\n",
        "1 <= s.length <= 3 * 105\n",
        "s consists of digits, '+', '-', '(', ')', and ' '.\n",
        "s represents a valid expression.\n",
        "\"\"\"\n",
        "\n",
        "class Solution:\n",
        "    def calculate(self, s: str) -> int:\n",
        "        s= \"+(+\" + s + \")\"\n",
        "        s = s.replace(\"++\", \"+\").replace(\"+-\", \"-\")\n",
        "        # this is a smart way of adding the sign and bracket for teh whole equation\n",
        "        \n",
        "        res = 0\n",
        "        stack = []\n",
        "        \n",
        "        for ss in s:\n",
        "            if ss == \")\":\n",
        "                total = 0\n",
        "                while stack[-1] != \"(\":\n",
        "                    total += int(stack.pop())\n",
        "                stack.pop() #pop \"(\"\n",
        "                sign = 1 if stack.pop()==\"+\" else -1\n",
        "                stack.append(total * sign)\n",
        "                #calculate what is inside the bracket and then multiplied by the sign to the left the bracket\n",
        "                \n",
        "            elif ss.isdigit() and stack[-1][-1] in \"+-0123456789\":\n",
        "                stack[-1] += ss\n",
        "            # build stack. Put all the digit together with the sign, for example, 36+24-->[36, +24]\n",
        "\n",
        "            elif ss != \" \":\n",
        "                stack.append(ss)\n",
        "                \n",
        "        return stack[0]\n",
        "                \n",
        "                "
      ],
      "execution_count": null,
      "outputs": []
    }
  ]
}