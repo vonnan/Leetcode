{
  "nbformat": 4,
  "nbformat_minor": 0,
  "metadata": {
    "colab": {
      "name": "LC1035 Uncrossed Lines.ipynb",
      "provenance": [],
      "authorship_tag": "ABX9TyNETL9bByGaCbPHObId5RxM",
      "include_colab_link": true
    },
    "kernelspec": {
      "name": "python3",
      "display_name": "Python 3"
    },
    "language_info": {
      "name": "python"
    }
  },
  "cells": [
    {
      "cell_type": "markdown",
      "metadata": {
        "id": "view-in-github",
        "colab_type": "text"
      },
      "source": [
        "<a href=\"https://colab.research.google.com/github/vonnan/Leetcode/blob/main/LC1035_Uncrossed_Lines.ipynb\" target=\"_parent\"><img src=\"https://colab.research.google.com/assets/colab-badge.svg\" alt=\"Open In Colab\"/></a>"
      ]
    },
    {
      "cell_type": "code",
      "metadata": {
        "id": "i1rfgZpoHXUv"
      },
      "source": [
        "\"\"\"\n",
        "1035. Uncrossed Lines\n",
        "Medium\n",
        "\n",
        "1123\n",
        "\n",
        "23\n",
        "\n",
        "Add to List\n",
        "\n",
        "Share\n",
        "We write the integers of A and B (in the order they are given) on two separate horizontal lines.\n",
        "\n",
        "Now, we may draw connecting lines: a straight line connecting two numbers A[i] and B[j] such that:\n",
        "\n",
        "A[i] == B[j];\n",
        "The line we draw does not intersect any other connecting (non-horizontal) line.\n",
        "Note that a connecting lines cannot intersect even at the endpoints: each number can only belong to one connecting line.\n",
        "\n",
        "Return the maximum number of connecting lines we can draw in this way.\n",
        "\n",
        " \n",
        "\n",
        "Example 1:\n",
        "\n",
        "\n",
        "Input: A = [1,4,2], B = [1,2,4]\n",
        "Output: 2\n",
        "Explanation: We can draw 2 uncrossed lines as in the diagram.\n",
        "We cannot draw 3 uncrossed lines, because the line from A[1]=4 to B[2]=4 will intersect the line from A[2]=2 to B[1]=2.\n",
        "Example 2:\n",
        "\n",
        "Input: A = [2,5,1,2,5], B = [10,5,2,1,5,2]\n",
        "Output: 3\n",
        "Example 3:\n",
        "\n",
        "Input: A = [1,3,7,1,7,5], B = [1,9,2,5,1]\n",
        "Output: 2\n",
        " \n",
        "\n",
        "Note:\n",
        "\n",
        "1 <= A.length <= 500\n",
        "1 <= B.length <= 500\n",
        "1 <= A[i], B[i] <= 2000\n",
        "Accepted\n",
        "53,033\n",
        "Submissions\n",
        "94,345\n",
        "Seen this question in a real interview before?\n",
        "\n",
        "Yes\n",
        "\n",
        "No\n",
        "\"\"\"\n",
        "class Solution:\n",
        "    def maxUncrossedLines(self, A: List[int], B: List[int]) -> int:\n",
        "        \n",
        "        m,n = len(A), len(B)\n",
        "        memo = [[0] *(n + 1) for i in range(m+1)]\n",
        "        \n",
        "        for i in range(m):\n",
        "            for j in range(n):\n",
        "                memo[i+1][j+1] = max(memo[i+1][j], memo[i][j+1], (A[i] == B[j]) + memo[i][j])\n",
        "                \n",
        "        return memo[m][n]"
      ],
      "execution_count": null,
      "outputs": []
    }
  ]
}