{
  "nbformat": 4,
  "nbformat_minor": 0,
  "metadata": {
    "colab": {
      "name": "LC1498 Number of Subsequences That Satisfy the Given Sum Condition.ipynb",
      "provenance": [],
      "authorship_tag": "ABX9TyM7P6IbWNQPEoVL/XXOz6dD",
      "include_colab_link": true
    },
    "kernelspec": {
      "name": "python3",
      "display_name": "Python 3"
    },
    "language_info": {
      "name": "python"
    }
  },
  "cells": [
    {
      "cell_type": "markdown",
      "metadata": {
        "id": "view-in-github",
        "colab_type": "text"
      },
      "source": [
        "<a href=\"https://colab.research.google.com/github/vonnan/Leetcode/blob/main/LC1498_Number_of_Subsequences_That_Satisfy_the_Given_Sum_Condition.ipynb\" target=\"_parent\"><img src=\"https://colab.research.google.com/assets/colab-badge.svg\" alt=\"Open In Colab\"/></a>"
      ]
    },
    {
      "cell_type": "code",
      "metadata": {
        "id": "vCg14uJ0wNGJ"
      },
      "source": [
        "\"\"\"\n",
        "1498. Number of Subsequences That Satisfy the Given Sum Condition\n",
        "Medium\n",
        "\n",
        "541\n",
        "\n",
        "52\n",
        "\n",
        "Add to List\n",
        "\n",
        "Share\n",
        "Given an array of integers nums and an integer target.\n",
        "\n",
        "Return the number of non-empty subsequences of nums such that the sum of the minimum and maximum element on it is less or equal to target. Since the answer may be too large, return it modulo 109 + 7.\n",
        "\n",
        " \n",
        "\n",
        "Example 1:\n",
        "\n",
        "Input: nums = [3,5,6,7], target = 9\n",
        "Output: 4\n",
        "Explanation: There are 4 subsequences that satisfy the condition.\n",
        "[3] -> Min value + max value <= target (3 + 3 <= 9)\n",
        "[3,5] -> (3 + 5 <= 9)\n",
        "[3,5,6] -> (3 + 6 <= 9)\n",
        "[3,6] -> (3 + 6 <= 9)\n",
        "Example 2:\n",
        "\n",
        "Input: nums = [3,3,6,8], target = 10\n",
        "Output: 6\n",
        "Explanation: There are 6 subsequences that satisfy the condition. (nums can have repeated numbers).\n",
        "[3] , [3] , [3,3], [3,6] , [3,6] , [3,3,6]\n",
        "Example 3:\n",
        "\n",
        "Input: nums = [2,3,3,4,6,7], target = 12\n",
        "Output: 61\n",
        "Explanation: There are 63 non-empty subsequences, two of them don't satisfy the condition ([6,7], [7]).\n",
        "Number of valid subsequences (63 - 2 = 61).\n",
        "Example 4:\n",
        "\n",
        "Input: nums = [5,2,4,1,7,6,8], target = 16\n",
        "Output: 127\n",
        "Explanation: All non-empty subset satisfy the condition (2^7 - 1) = 127\n",
        " \n",
        "\n",
        "Constraints:\n",
        "\n",
        "1 <= nums.length <= 105\n",
        "1 <= nums[i] <= 106\n",
        "1 <= target <= 106\n",
        "\n",
        "\"\"\"\n",
        "\n",
        "class Solution:\n",
        "    def numSubseq(self, nums: List[int], target: int) -> int:\n",
        "        \n",
        "        nums.sort()\n",
        "        #subsequence, order not important\n",
        "        \n",
        "        left, right = 0, len(nums)-1\n",
        "        #minimum and maximum\n",
        "        res = 0\n",
        "        mod = 10**9 + 7\n",
        "        \n",
        "        if nums[left]* 2> target:\n",
        "            return 0\n",
        "        \n",
        "        while left<= right:\n",
        "            if nums[left] + nums[right] > target:\n",
        "                right -= 1\n",
        "            else:\n",
        "                res += pow(2, (right - left), mod)\n",
        "                left += 1\n",
        "        \n",
        "        return res % mod\n",
        "                \n"
      ],
      "execution_count": null,
      "outputs": []
    }
  ]
}