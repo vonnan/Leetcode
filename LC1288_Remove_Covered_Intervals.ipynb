{
  "nbformat": 4,
  "nbformat_minor": 0,
  "metadata": {
    "colab": {
      "name": "LC1288 Remove Covered Intervals.ipynb",
      "provenance": [],
      "authorship_tag": "ABX9TyNqeOgZSmDh9OidPoo73yht",
      "include_colab_link": true
    },
    "kernelspec": {
      "name": "python3",
      "display_name": "Python 3"
    },
    "language_info": {
      "name": "python"
    }
  },
  "cells": [
    {
      "cell_type": "markdown",
      "metadata": {
        "id": "view-in-github",
        "colab_type": "text"
      },
      "source": [
        "<a href=\"https://colab.research.google.com/github/vonnan/Leetcode/blob/main/LC1288_Remove_Covered_Intervals.ipynb\" target=\"_parent\"><img src=\"https://colab.research.google.com/assets/colab-badge.svg\" alt=\"Open In Colab\"/></a>"
      ]
    },
    {
      "cell_type": "code",
      "metadata": {
        "id": "Iq9lnSNoX7b3"
      },
      "source": [
        "\"\"\"\n",
        "1288. Remove Covered Intervals\n",
        "Medium\n",
        "\n",
        "632\n",
        "\n",
        "26\n",
        "\n",
        "Add to List\n",
        "\n",
        "Share\n",
        "Given a list of intervals, remove all intervals that are covered by another interval in the list.\n",
        "\n",
        "Interval [a,b) is covered by interval [c,d) if and only if c <= a and b <= d.\n",
        "\n",
        "After doing so, return the number of remaining intervals.\n",
        "\n",
        " \n",
        "\n",
        "Example 1:\n",
        "\n",
        "Input: intervals = [[1,4],[3,6],[2,8]]\n",
        "Output: 2\n",
        "Explanation: Interval [3,6] is covered by [2,8], therefore it is removed.\n",
        "Example 2:\n",
        "\n",
        "Input: intervals = [[1,4],[2,3]]\n",
        "Output: 1\n",
        "Example 3:\n",
        "\n",
        "Input: intervals = [[0,10],[5,12]]\n",
        "Output: 2\n",
        "Example 4:\n",
        "\n",
        "Input: intervals = [[3,10],[4,10],[5,11]]\n",
        "Output: 2\n",
        "Example 5:\n",
        "\n",
        "Input: intervals = [[1,2],[1,4],[3,4]]\n",
        "Output: 1\n",
        " \n",
        "\n",
        "Constraints:\n",
        "\n",
        "1 <= intervals.length <= 1000\n",
        "intervals[i].length == 2\n",
        "0 <= intervals[i][0] < intervals[i][1] <= 10^5\n",
        "All the intervals are unique.\n",
        "\"\"\"\n",
        "\n",
        "class Solution:\n",
        "    def removeCoveredIntervals(self, intervals: List[List[int]]) -> int:\n",
        "        if len(intervals) ==1:\n",
        "            return 1\n",
        "        \n",
        "        intervals.sort(key = lambda x: (x[0], -x[1]))\n",
        "        remove = 0\n",
        "        end = intervals[0][1]\n",
        "        \n",
        "        for s,e in intervals[1:]:\n",
        "            if e <= end:\n",
        "                remove += 1\n",
        "            else:\n",
        "                end = e\n",
        "                \n",
        "        return len(intervals) - remove\n",
        "                       \n"
      ],
      "execution_count": null,
      "outputs": []
    }
  ]
}