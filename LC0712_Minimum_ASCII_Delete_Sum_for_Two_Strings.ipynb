{
  "nbformat": 4,
  "nbformat_minor": 0,
  "metadata": {
    "colab": {
      "name": "LC0712 Minimum ASCII Delete Sum for Two Strings.ipynb",
      "provenance": [],
      "authorship_tag": "ABX9TyOycZfxp4fB2tS6Nng/LTaX",
      "include_colab_link": true
    },
    "kernelspec": {
      "name": "python3",
      "display_name": "Python 3"
    },
    "language_info": {
      "name": "python"
    }
  },
  "cells": [
    {
      "cell_type": "markdown",
      "metadata": {
        "id": "view-in-github",
        "colab_type": "text"
      },
      "source": [
        "<a href=\"https://colab.research.google.com/github/vonnan/Leetcode/blob/main/LC0712_Minimum_ASCII_Delete_Sum_for_Two_Strings.ipynb\" target=\"_parent\"><img src=\"https://colab.research.google.com/assets/colab-badge.svg\" alt=\"Open In Colab\"/></a>"
      ]
    },
    {
      "cell_type": "code",
      "metadata": {
        "id": "brIo57hQD4dK"
      },
      "source": [
        "\"\"\"\n",
        "712. Minimum ASCII Delete Sum for Two Strings\n",
        "Medium\n",
        "\n",
        "1301\n",
        "\n",
        "55\n",
        "\n",
        "Add to List\n",
        "\n",
        "Share\n",
        "Given two strings s1, s2, find the lowest ASCII sum of deleted characters to make two strings equal.\n",
        "\n",
        "Example 1:\n",
        "Input: s1 = \"sea\", s2 = \"eat\"\n",
        "Output: 231\n",
        "Explanation: Deleting \"s\" from \"sea\" adds the ASCII value of \"s\" (115) to the sum.\n",
        "Deleting \"t\" from \"eat\" adds 116 to the sum.\n",
        "At the end, both strings are equal, and 115 + 116 = 231 is the minimum sum possible to achieve this.\n",
        "Example 2:\n",
        "Input: s1 = \"delete\", s2 = \"leet\"\n",
        "Output: 403\n",
        "Explanation: Deleting \"dee\" from \"delete\" to turn the string into \"let\",\n",
        "adds 100[d]+101[e]+101[e] to the sum.  Deleting \"e\" from \"leet\" adds 101[e] to the sum.\n",
        "At the end, both strings are equal to \"let\", and the answer is 100+101+101+101 = 403.\n",
        "If instead we turned both strings into \"lee\" or \"eet\", we would get answers of 433 or 417, which are higher.\n",
        "Note:\n",
        "\n",
        "0 < s1.length, s2.length <= 1000.\n",
        "All elements of each string will have an ASCII value in [97, 122].\n",
        "\"\"\"\n",
        "from collections import Counter\n",
        "class Solution:\n",
        "    def minimumDeleteSum(self, s1: str, s2: str) -> int:\n",
        "        memo = Counter()\n",
        "        \n",
        "        for j in range(len(s2)):\n",
        "            memo[(0, j+1)] = memo[(0, j)] + ord(s2[j])\n",
        "        \n",
        "        for i in range(len(s1)):\n",
        "            memo[(i+1, 0)] = memo[(i, 0)] + ord(s1[i])\n",
        "        \n",
        "        for i in range(len(s1)):\n",
        "            for j in range(len(s2)):\n",
        "                \n",
        "                if s1[i]==s2[j]:\n",
        "                    memo[(i+1, j+1)] = memo[(i, j)]\n",
        "                else:\n",
        "                    memo[(i+1, j+1)] = min(memo[(i+1, j)] + ord(s2[j]), memo[(i, j+1)] + ord(s1[i]))\n",
        "                      \n",
        "        return memo[(len(s1), len(s2))]\n",
        "                                           \n",
        "                \n"
      ],
      "execution_count": null,
      "outputs": []
    }
  ]
}