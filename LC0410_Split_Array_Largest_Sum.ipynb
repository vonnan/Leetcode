{
  "nbformat": 4,
  "nbformat_minor": 0,
  "metadata": {
    "colab": {
      "name": "LC0410 Split Array Largest Sum.ipynb",
      "provenance": [],
      "authorship_tag": "ABX9TyPx8b9c6Tg6qR+4Rp1mGPjN",
      "include_colab_link": true
    },
    "kernelspec": {
      "name": "python3",
      "display_name": "Python 3"
    },
    "language_info": {
      "name": "python"
    }
  },
  "cells": [
    {
      "cell_type": "markdown",
      "metadata": {
        "id": "view-in-github",
        "colab_type": "text"
      },
      "source": [
        "<a href=\"https://colab.research.google.com/github/vonnan/Leetcode/blob/main/LC0410_Split_Array_Largest_Sum.ipynb\" target=\"_parent\"><img src=\"https://colab.research.google.com/assets/colab-badge.svg\" alt=\"Open In Colab\"/></a>"
      ]
    },
    {
      "cell_type": "code",
      "metadata": {
        "id": "fgjmguZVRole"
      },
      "source": [
        "\"\"\"\n",
        "410. Split Array Largest Sum\n",
        "Hard\n",
        "\n",
        "2522\n",
        "\n",
        "92\n",
        "\n",
        "Add to List\n",
        "\n",
        "Share\n",
        "Given an array nums which consists of non-negative integers and an integer m, you can split the array into m non-empty continuous subarrays.\n",
        "\n",
        "Write an algorithm to minimize the largest sum among these m subarrays.\n",
        "\n",
        " \n",
        "\n",
        "Example 1:\n",
        "\n",
        "Input: nums = [7,2,5,10,8], m = 2\n",
        "Output: 18\n",
        "Explanation:\n",
        "There are four ways to split nums into two subarrays.\n",
        "The best way is to split it into [7,2,5] and [10,8],\n",
        "where the largest sum among the two subarrays is only 18.\n",
        "Example 2:\n",
        "\n",
        "Input: nums = [1,2,3,4,5], m = 2\n",
        "Output: 9\n",
        "Example 3:\n",
        "\n",
        "Input: nums = [1,4,4], m = 3\n",
        "Output: 4\n",
        " \n",
        "\n",
        "Constraints:\n",
        "\n",
        "1 <= nums.length <= 1000\n",
        "0 <= nums[i] <= 106\n",
        "1 <= m <= min(50, nums.length)\n",
        "\"\"\"\n",
        "\n",
        "class Solution:\n",
        "    def splitArray(self, nums: List[int], m: int) -> int:\n",
        "        \n",
        "        left, right = max(nums), sum(nums)\n",
        "        \n",
        "        while left < right:\n",
        "            mid = (left + right)//2\n",
        "            count, curr = 1, 0\n",
        "            \n",
        "            for num in nums:\n",
        "                curr += num\n",
        "                if curr > mid:\n",
        "                    count += 1\n",
        "                    curr = num\n",
        "            \n",
        "            if count > m:\n",
        "                left = mid +1\n",
        "            else:\n",
        "                right = mid\n",
        "            \n",
        "        return left\n",
        "        \n"
      ],
      "execution_count": null,
      "outputs": []
    }
  ]
}