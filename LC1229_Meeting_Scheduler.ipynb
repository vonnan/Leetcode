{
  "nbformat": 4,
  "nbformat_minor": 0,
  "metadata": {
    "colab": {
      "name": "LC1229_Meeting_Scheduler.ipynb",
      "provenance": [],
      "authorship_tag": "ABX9TyO2dWZnD6NL2O5nSnmDpGFJ",
      "include_colab_link": true
    },
    "kernelspec": {
      "name": "python3",
      "display_name": "Python 3"
    },
    "language_info": {
      "name": "python"
    }
  },
  "cells": [
    {
      "cell_type": "markdown",
      "metadata": {
        "id": "view-in-github",
        "colab_type": "text"
      },
      "source": [
        "<a href=\"https://colab.research.google.com/github/vonnan/Leetcode/blob/main/LC1229_Meeting_Scheduler.ipynb\" target=\"_parent\"><img src=\"https://colab.research.google.com/assets/colab-badge.svg\" alt=\"Open In Colab\"/></a>"
      ]
    },
    {
      "cell_type": "code",
      "metadata": {
        "id": "a0tl-5sPGk62"
      },
      "source": [
        "\"\"\"\n",
        "1229. Meeting Scheduler\n",
        "Medium\n",
        "\n",
        "https://leetcode.com/problems/meeting-scheduler/\n",
        "https://tinyurl.com/sw8yau57\n",
        "345\n",
        "\n",
        "20\n",
        "\n",
        "Add to List\n",
        "\n",
        "Share\n",
        "Given the availability time slots arrays slots1 and slots2 of two people and a meeting duration duration, return the earliest time slot that works for both of them and is of duration duration.\n",
        "\n",
        "If there is no common time slot that satisfies the requirements, return an empty array.\n",
        "\n",
        "The format of a time slot is an array of two elements [start, end] representing an inclusive time range from start to end.\n",
        "\n",
        "It is guaranteed that no two availability slots of the same person intersect with each other. That is, for any two time slots [start1, end1] and [start2, end2] of the same person, either start1 > end2 or start2 > end1.\n",
        "\n",
        " \n",
        "\n",
        "Example 1:\n",
        "\n",
        "Input: slots1 = [[10,50],[60,120],[140,210]], slots2 = [[0,15],[60,70]], duration = 8\n",
        "Output: [60,68]\n",
        "Example 2:\n",
        "\n",
        "Input: slots1 = [[10,50],[60,120],[140,210]], slots2 = [[0,15],[60,70]], duration = 12\n",
        "Output: []\n",
        " \n",
        "\n",
        "Constraints:\n",
        "\n",
        "1 <= slots1.length, slots2.length <= 104\n",
        "slots1[i].length, slots2[i].length == 2\n",
        "slots1[i][0] < slots1[i][1]\n",
        "slots2[i][0] < slots2[i][1]\n",
        "0 <= slots1[i][j], slots2[i][j] <= 109\n",
        "1 <= duration <= 106\n",
        "\"\"\"\n",
        "\n",
        "from bisect import bisect\n",
        "class Solution:\n",
        "    def minAvailableDuration(self, slots1: List[List[int]], slots2: List[List[int]], duration: int) -> List[int]:\n",
        "        def helper(slot1, slot2):\n",
        "            for s1, e1 in slot1:\n",
        "                for s2, e2 in slot2:\n",
        "                    start = max(s1, s2)\n",
        "                    end = min(e1, e2)\n",
        "                    if start + duration <= end:\n",
        "                        return [start, start + duration]\n",
        "            return []\n",
        "        \n",
        "        slots1 = sorted([[s,e] for s,e in slots1 if e-s >= duration])\n",
        "        slots2 = sorted([[s,e] for s,e in slots2 if e-s >= duration])\n",
        "        \n",
        "        return helper(slots1, slots2)\n",
        "            "
      ],
      "execution_count": null,
      "outputs": []
    }
  ]
}