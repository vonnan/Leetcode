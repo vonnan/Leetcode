{
  "nbformat": 4,
  "nbformat_minor": 0,
  "metadata": {
    "colab": {
      "name": "LC0077 Combinations.ipynb",
      "provenance": [],
      "authorship_tag": "ABX9TyNmNnU2aEQmhMbakndFnZCe",
      "include_colab_link": true
    },
    "kernelspec": {
      "name": "python3",
      "display_name": "Python 3"
    },
    "language_info": {
      "name": "python"
    }
  },
  "cells": [
    {
      "cell_type": "markdown",
      "metadata": {
        "id": "view-in-github",
        "colab_type": "text"
      },
      "source": [
        "<a href=\"https://colab.research.google.com/github/vonnan/Leetcode/blob/main/LC0077_Combinations.ipynb\" target=\"_parent\"><img src=\"https://colab.research.google.com/assets/colab-badge.svg\" alt=\"Open In Colab\"/></a>"
      ]
    },
    {
      "cell_type": "code",
      "metadata": {
        "id": "Pvuy6KNakUfB"
      },
      "source": [
        "\n",
        "\"\"\"\n",
        "77. Combinations\n",
        "Medium\n",
        "\n",
        "2125\n",
        "\n",
        "80\n",
        "\n",
        "Add to List\n",
        "\n",
        "Share\n",
        "Given two integers n and k, return all possible combinations of k numbers out of 1 ... n.\n",
        "\n",
        "You may return the answer in any order.\n",
        "\n",
        " \n",
        "\n",
        "Example 1:\n",
        "\n",
        "Input: n = 4, k = 2\n",
        "Output:\n",
        "[\n",
        "  [2,4],\n",
        "  [3,4],\n",
        "  [2,3],\n",
        "  [1,2],\n",
        "  [1,3],\n",
        "  [1,4],\n",
        "]\n",
        "Example 2:\n",
        "\n",
        "Input: n = 1, k = 1\n",
        "Output: [[1]]\n",
        " \n",
        "\n",
        "Constraints:\n",
        "\n",
        "1 <= n <= 20\n",
        "1 <= k <= n\n",
        "\"\"\"\n",
        "from itertools import combinations\n",
        "class Solution:\n",
        "    def combine(self, n: int, k: int) -> List[List[int]]:\n",
        "        lst = [i for i in range(1, n+1)]\n",
        "        return list(combinations(lst, k))\n",
        "        \n"
      ],
      "execution_count": null,
      "outputs": []
    }
  ]
}