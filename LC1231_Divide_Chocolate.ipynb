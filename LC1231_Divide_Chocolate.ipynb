{
  "nbformat": 4,
  "nbformat_minor": 0,
  "metadata": {
    "colab": {
      "name": "LC1231 Divide Chocolate.ipynb",
      "provenance": [],
      "authorship_tag": "ABX9TyM0d3cDCAWm3gqY2RQaQ4eP",
      "include_colab_link": true
    },
    "kernelspec": {
      "name": "python3",
      "display_name": "Python 3"
    },
    "language_info": {
      "name": "python"
    }
  },
  "cells": [
    {
      "cell_type": "markdown",
      "metadata": {
        "id": "view-in-github",
        "colab_type": "text"
      },
      "source": [
        "<a href=\"https://colab.research.google.com/github/vonnan/Leetcode/blob/main/LC1231_Divide_Chocolate.ipynb\" target=\"_parent\"><img src=\"https://colab.research.google.com/assets/colab-badge.svg\" alt=\"Open In Colab\"/></a>"
      ]
    },
    {
      "cell_type": "code",
      "metadata": {
        "id": "ipjFhmm4x3qu"
      },
      "source": [
        "\"\"\"\n",
        "1231. Divide Chocolate\n",
        "Hard\n",
        "\n",
        "455\n",
        "\n",
        "33\n",
        "\n",
        "Add to List\n",
        "\n",
        "Share\n",
        "You have one chocolate bar that consists of some chunks. Each chunk has its own sweetness given by the array sweetness.\n",
        "\n",
        "You want to share the chocolate with your K friends so you start cutting the chocolate bar into K+1 pieces using K cuts, each piece consists of some consecutive chunks.\n",
        "\n",
        "Being generous, you will eat the piece with the minimum total sweetness and give the other pieces to your friends.\n",
        "\n",
        "Find the maximum total sweetness of the piece you can get by cutting the chocolate bar optimally.\n",
        "\n",
        " \n",
        "\n",
        "Example 1:\n",
        "\n",
        "Input: sweetness = [1,2,3,4,5,6,7,8,9], K = 5\n",
        "Output: 6\n",
        "Explanation: You can divide the chocolate to [1,2,3], [4,5], [6], [7], [8], [9]\n",
        "Example 2:\n",
        "\n",
        "Input: sweetness = [5,6,7,8,9,1,2,3,4], K = 8\n",
        "Output: 1\n",
        "Explanation: There is only one way to cut the bar into 9 pieces.\n",
        "Example 3:\n",
        "\n",
        "Input: sweetness = [1,2,2,1,2,2,1,2,2], K = 2\n",
        "Output: 5\n",
        "Explanation: You can divide the chocolate to [1,2,2], [1,2,2], [1,2,2]\n",
        " \n",
        "\n",
        "Constraints:\n",
        "\n",
        "0 <= K < sweetness.length <= 10^4\n",
        "1 <= sweetness[i] <= 10^5\n",
        "\"\"\"\n",
        "\n",
        "class Solution:\n",
        "    def maximizeSweetness(self, sweetness: List[int], K: int) -> int:\n",
        "        left, right = min(sweetness), sum(sweetness)//(K+1)\n",
        "        \n",
        "        while left < right:\n",
        "            mid = (left + right)//2\n",
        "            d, curr = 1, 0\n",
        "            for x in sweetness:\n",
        "                if curr + x > mid:\n",
        "                    curr = 0\n",
        "                    d += 1\n",
        "                    if d > K+1:\n",
        "                        break\n",
        "                else:\n",
        "                    curr += x\n",
        "            \n",
        "            if d > K+1:\n",
        "                left = mid + 1\n",
        "            else:\n",
        "                right = mid\n",
        "              \n",
        "        return left\n",
        "        "
      ],
      "execution_count": null,
      "outputs": []
    }
  ]
}