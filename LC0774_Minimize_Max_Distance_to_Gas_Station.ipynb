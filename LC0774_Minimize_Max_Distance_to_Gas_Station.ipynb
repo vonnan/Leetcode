{
  "nbformat": 4,
  "nbformat_minor": 0,
  "metadata": {
    "colab": {
      "name": "LC0774 Minimize Max Distance to Gas Station.ipynb",
      "provenance": [],
      "authorship_tag": "ABX9TyMEommf2Q+RzniIuuiE9SwJ",
      "include_colab_link": true
    },
    "kernelspec": {
      "name": "python3",
      "display_name": "Python 3"
    },
    "language_info": {
      "name": "python"
    }
  },
  "cells": [
    {
      "cell_type": "markdown",
      "metadata": {
        "id": "view-in-github",
        "colab_type": "text"
      },
      "source": [
        "<a href=\"https://colab.research.google.com/github/vonnan/Leetcode/blob/main/LC0774_Minimize_Max_Distance_to_Gas_Station.ipynb\" target=\"_parent\"><img src=\"https://colab.research.google.com/assets/colab-badge.svg\" alt=\"Open In Colab\"/></a>"
      ]
    },
    {
      "cell_type": "code",
      "metadata": {
        "id": "kh1tNfCw89Tj"
      },
      "source": [
        "\"\"\"\n",
        "774. Minimize Max Distance to Gas Station\n",
        "Hard\n",
        "\n",
        "426\n",
        "\n",
        "64\n",
        "\n",
        "Add to List\n",
        "\n",
        "Share\n",
        "You are given an integer array stations that represents the positions of the gas stations on the x-axis. You are also given an integer k.\n",
        "\n",
        "You should add k new gas stations. You can add the stations anywhere on the x-axis, and not necessarily on an integer position.\n",
        "\n",
        "Let penalty() be the maximum distance between adjacent gas stations after adding the k new stations.\n",
        "\n",
        "Return the smallest possible value of penalty(). Answers within 10-6 of the actual answer will be accepted.\n",
        "\n",
        " \n",
        "\n",
        "Example 1:\n",
        "\n",
        "Input: stations = [1,2,3,4,5,6,7,8,9,10], k = 9\n",
        "Output: 0.50000\n",
        "Example 2:\n",
        "\n",
        "Input: stations = [23,24,36,39,46,56,57,65,84,98], k = 1\n",
        "Output: 14.00000\n",
        " \n",
        "\n",
        "Constraints:\n",
        "\n",
        "10 <= stations.length <= 2000\n",
        "0 <= stations[i] <= 108\n",
        "stations is sorted in a strictly increasing order.\n",
        "1 <= k <= 106\n",
        "\"\"\"\n",
        "\n",
        "from math import ceil\n",
        "\n",
        "class Solution:\n",
        "    def minmaxGasDist(self, stations: List[int], k: int) -> float:\n",
        "        intervals = sorted([stations[i+1] - stations[i] for i in range(len(stations)-1)])\n",
        "            \n",
        "        left, right = (intervals[0])/(k+1), intervals[-1]\n",
        "        \n",
        "        while right - left > 10**(-6):\n",
        "            mid = (left + right)/2\n",
        "            \n",
        "            curr = 0\n",
        "            for i in intervals:\n",
        "                if i <= mid:\n",
        "                    continue\n",
        "                else:\n",
        "                    curr += ceil(i/mid)-1\n",
        "            \n",
        "            if curr > k:\n",
        "                left = mid + 10**(-6)\n",
        "            else:\n",
        "                right = mid\n",
        "            \n",
        "            \n",
        "        return left\n",
        "            \n"
      ],
      "execution_count": null,
      "outputs": []
    }
  ]
}