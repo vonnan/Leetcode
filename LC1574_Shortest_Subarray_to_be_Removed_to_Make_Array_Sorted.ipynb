{
  "nbformat": 4,
  "nbformat_minor": 0,
  "metadata": {
    "colab": {
      "name": "LC1574 Shortest Subarray to be Removed to Make Array Sorted.ipynb",
      "provenance": [],
      "authorship_tag": "ABX9TyMs0X4arFywllmLocY/D6Fb",
      "include_colab_link": true
    },
    "kernelspec": {
      "name": "python3",
      "display_name": "Python 3"
    },
    "language_info": {
      "name": "python"
    }
  },
  "cells": [
    {
      "cell_type": "markdown",
      "metadata": {
        "id": "view-in-github",
        "colab_type": "text"
      },
      "source": [
        "<a href=\"https://colab.research.google.com/github/vonnan/Leetcode/blob/main/LC1574_Shortest_Subarray_to_be_Removed_to_Make_Array_Sorted.ipynb\" target=\"_parent\"><img src=\"https://colab.research.google.com/assets/colab-badge.svg\" alt=\"Open In Colab\"/></a>"
      ]
    },
    {
      "cell_type": "code",
      "metadata": {
        "id": "O4SxQBqsftHa"
      },
      "source": [
        "\"\"\"\n",
        "1574. Shortest Subarray to be Removed to Make Array Sorted\n",
        "Medium\n",
        "\n",
        "521\n",
        "\n",
        "17\n",
        "\n",
        "Add to List\n",
        "\n",
        "Share\n",
        "Given an integer array arr, remove a subarray (can be empty) from arr such that the remaining elements in arr are non-decreasing.\n",
        "\n",
        "A subarray is a contiguous subsequence of the array.\n",
        "\n",
        "Return the length of the shortest subarray to remove.\n",
        "\n",
        " \n",
        "\n",
        "Example 1:\n",
        "\n",
        "Input: arr = [1,2,3,10,4,2,3,5]\n",
        "Output: 3\n",
        "Explanation: The shortest subarray we can remove is [10,4,2] of length 3. The remaining elements after that will be [1,2,3,3,5] which are sorted.\n",
        "Another correct solution is to remove the subarray [3,10,4].\n",
        "Example 2:\n",
        "\n",
        "Input: arr = [5,4,3,2,1]\n",
        "Output: 4\n",
        "Explanation: Since the array is strictly decreasing, we can only keep a single element. Therefore we need to remove a subarray of length 4, either [5,4,3,2] or [4,3,2,1].\n",
        "Example 3:\n",
        "\n",
        "Input: arr = [1,2,3]\n",
        "Output: 0\n",
        "Explanation: The array is already non-decreasing. We do not need to remove any elements.\n",
        "Example 4:\n",
        "\n",
        "Input: arr = [1]\n",
        "Output: 0\n",
        " \n",
        "\n",
        "Constraints:\n",
        "\n",
        "1 <= arr.length <= 10^5\n",
        "0 <= arr[i] <= 10^9\n",
        "\"\"\"\n",
        "\n",
        "class Solution:\n",
        "    def findLengthOfShortestSubarray(self, arr: List[int]) -> int:\n",
        "        n = len(arr)\n",
        "        left = 1\n",
        "        while left < n and arr[left-1] <= arr[left]:\n",
        "            left += 1\n",
        "            \n",
        "        if left == n:\n",
        "            return 0\n",
        "        \n",
        "        right = n - 1\n",
        "        while right >0 and arr[right-1] <= arr[right]:\n",
        "            right -= 1\n",
        "            \n",
        "        res = min(n - left , right)\n",
        "        \n",
        "        for j in range(right, n):\n",
        "            i = left - 1\n",
        "            while i >= 0 and arr[i] > arr[j]:\n",
        "                i -= 1\n",
        "            res = min(res, j - i -1)\n",
        "            \n",
        "        return res\n",
        "            "
      ],
      "execution_count": null,
      "outputs": []
    }
  ]
}