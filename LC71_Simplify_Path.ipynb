{
  "nbformat": 4,
  "nbformat_minor": 0,
  "metadata": {
    "colab": {
      "name": "LC71_Simplify_Path.ipynb",
      "provenance": [],
      "authorship_tag": "ABX9TyM1I1MZGPgOfvzfjb+KG4k1",
      "include_colab_link": true
    },
    "kernelspec": {
      "name": "python3",
      "display_name": "Python 3"
    },
    "language_info": {
      "name": "python"
    }
  },
  "cells": [
    {
      "cell_type": "markdown",
      "metadata": {
        "id": "view-in-github",
        "colab_type": "text"
      },
      "source": [
        "<a href=\"https://colab.research.google.com/github/vonnan/Leetcode/blob/main/LC71_Simplify_Path.ipynb\" target=\"_parent\"><img src=\"https://colab.research.google.com/assets/colab-badge.svg\" alt=\"Open In Colab\"/></a>"
      ]
    },
    {
      "cell_type": "code",
      "metadata": {
        "id": "Y1oNCKHfkAan"
      },
      "source": [
        "\"\"\"\n",
        "71. Simplify Path\n",
        "Medium\n",
        "\n",
        "277\n",
        "\n",
        "89\n",
        "\n",
        "Add to List\n",
        "\n",
        "Share\n",
        "Given a string path, which is an absolute path (starting with a slash '/') to a file or directory in a Unix-style file system, convert it to the simplified canonical path.\n",
        "\n",
        "In a Unix-style file system, a period '.' refers to the current directory, a double period '..' refers to the directory up a level, and any multiple consecutive slashes (i.e. '//') are treated as a single slash '/'. For this problem, any other format of periods such as '...' are treated as file/directory names.\n",
        "\n",
        "The canonical path should have the following format:\n",
        "\n",
        "The path starts with a single slash '/'.\n",
        "Any two directories are separated by a single slash '/'.\n",
        "The path does not end with a trailing '/'.\n",
        "The path only contains the directories on the path from the root directory to the target file or directory (i.e., no period '.' or double period '..')\n",
        "Return the simplified canonical path.\n",
        "\n",
        " \n",
        "\n",
        "Example 1:\n",
        "\n",
        "Input: path = \"/home/\"\n",
        "Output: \"/home\"\n",
        "Explanation: Note that there is no trailing slash after the last directory name.\n",
        "Example 2:\n",
        "\n",
        "Input: path = \"/../\"\n",
        "Output: \"/\"\n",
        "Explanation: Going one level up from the root directory is a no-op, as the root level is the highest level you can go.\n",
        "Example 3:\n",
        "\n",
        "Input: path = \"/home//foo/\"\n",
        "Output: \"/home/foo\"\n",
        "Explanation: In the canonical path, multiple consecutive slashes are replaced by a single one.\n",
        "Example 4:\n",
        "\n",
        "Input: path = \"/a/./b/../../c/\"\n",
        "Output: \"/c\"\n",
        " \n",
        "\n",
        "Constraints:\n",
        "\n",
        "1 <= path.length <= 3000\n",
        "path consists of English letters, digits, period '.', slash '/' or '_'.\n",
        "path is a valid absolute Unix path.\n",
        "\"\"\"\n",
        "\n",
        "class Solution:\n",
        "    def simplifyPath(self, path: str) -> str:\n",
        "        stack = []\n",
        "        \n",
        "        for p in path.split(\"/\"):\n",
        "            if p == \"..\":\n",
        "                if stack:\n",
        "                    stack.pop()\n",
        "            elif p and p != \".\":\n",
        "                stack.append(p)\n",
        "        return \"/\"+\"/\".join(stack)\n",
        "        "
      ],
      "execution_count": null,
      "outputs": []
    }
  ]
}