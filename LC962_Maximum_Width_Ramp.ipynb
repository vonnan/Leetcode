{
  "nbformat": 4,
  "nbformat_minor": 0,
  "metadata": {
    "colab": {
      "name": "LC962_Maximum_Width_Ramp.ipynb",
      "provenance": [],
      "authorship_tag": "ABX9TyO+UjzB2t0IAkT+pn9z7m07",
      "include_colab_link": true
    },
    "kernelspec": {
      "name": "python3",
      "display_name": "Python 3"
    }
  },
  "cells": [
    {
      "cell_type": "markdown",
      "metadata": {
        "id": "view-in-github",
        "colab_type": "text"
      },
      "source": [
        "<a href=\"https://colab.research.google.com/github/vonnan/Leetcode/blob/main/LC962_Maximum_Width_Ramp.ipynb\" target=\"_parent\"><img src=\"https://colab.research.google.com/assets/colab-badge.svg\" alt=\"Open In Colab\"/></a>"
      ]
    },
    {
      "cell_type": "code",
      "metadata": {
        "id": "5oibPuaioHnb"
      },
      "source": [
        "\"\"\"\n",
        "962. Maximum Width Ramp\n",
        "Medium\n",
        "\n",
        "737\n",
        "\n",
        "20\n",
        "\n",
        "Add to List\n",
        "\n",
        "Share\n",
        "Given an array A of integers, a ramp is a tuple (i, j) for which i < j and A[i] <= A[j].  The width of such a ramp is j - i.\n",
        "\n",
        "Find the maximum width of a ramp in A.  If one doesn't exist, return 0.\n",
        "\n",
        " \n",
        "\n",
        "Example 1:\n",
        "\n",
        "Input: [6,0,8,2,1,5]\n",
        "Output: 4\n",
        "Explanation: \n",
        "The maximum width ramp is achieved at (i, j) = (1, 5): A[1] = 0 and A[5] = 5.\n",
        "Example 2:\n",
        "\n",
        "Input: [9,8,1,0,1,9,4,0,4,1]\n",
        "Output: 7\n",
        "Explanation: \n",
        "The maximum width ramp is achieved at (i, j) = (2, 9): A[2] = 1 and A[9] = 1.\n",
        " \n",
        "\n",
        "Note:\n",
        "\n",
        "2 <= A.length <= 50000\n",
        "0 <= A[i] <= 50000\n",
        " \n",
        "\"\"\"\n",
        "class Solution:\n",
        "    def maxWidthRamp(self, A: List[int]) -> int:\n",
        "        stack = []\n",
        "        res = 0\n",
        "        \n",
        "        for i, a in enumerate(A):\n",
        "            if not stack or A[stack[-1]] > a:\n",
        "                stack.append(i)\n",
        "                \n",
        "        #creat a monotone decreasing stack\n",
        "        \n",
        "        for j in range(len(A)-1, -1, -1):\n",
        "            while stack and A[stack[-1]] <= A[j]:\n",
        "                res = max(res, j - stack.pop())\n",
        "        \n",
        "        # The reason to pop the stack is that j is decreasing\n",
        "        \n",
        "        return res\n",
        "\n",
        "\n"
      ],
      "execution_count": null,
      "outputs": []
    }
  ]
}