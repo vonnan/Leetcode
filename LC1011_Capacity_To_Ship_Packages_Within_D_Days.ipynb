{
  "nbformat": 4,
  "nbformat_minor": 0,
  "metadata": {
    "colab": {
      "name": "LC1011 Capacity To Ship Packages Within D Days.ipynb",
      "provenance": [],
      "authorship_tag": "ABX9TyPLiPPiPT4SYHCngjClDAz6",
      "include_colab_link": true
    },
    "kernelspec": {
      "name": "python3",
      "display_name": "Python 3"
    },
    "language_info": {
      "name": "python"
    }
  },
  "cells": [
    {
      "cell_type": "markdown",
      "metadata": {
        "id": "view-in-github",
        "colab_type": "text"
      },
      "source": [
        "<a href=\"https://colab.research.google.com/github/vonnan/Leetcode/blob/main/LC1011_Capacity_To_Ship_Packages_Within_D_Days.ipynb\" target=\"_parent\"><img src=\"https://colab.research.google.com/assets/colab-badge.svg\" alt=\"Open In Colab\"/></a>"
      ]
    },
    {
      "cell_type": "code",
      "metadata": {
        "id": "FFNnpySrMSw2"
      },
      "source": [
        "\"\"\"\n",
        "1011. Capacity To Ship Packages Within D Days\n",
        "Medium\n",
        "\n",
        "1961\n",
        "\n",
        "57\n",
        "\n",
        "Add to List\n",
        "\n",
        "Share\n",
        "A conveyor belt has packages that must be shipped from one port to another within D days.\n",
        "\n",
        "The ith package on the conveyor belt has a weight of weights[i]. Each day, we load the ship with packages on the conveyor belt (in the order given by weights). We may not load more weight than the maximum weight capacity of the ship.\n",
        "\n",
        "Return the least weight capacity of the ship that will result in all the packages on the conveyor belt being shipped within D days.\n",
        "\n",
        " \n",
        "\n",
        "Example 1:\n",
        "\n",
        "Input: weights = [1,2,3,4,5,6,7,8,9,10], D = 5\n",
        "Output: 15\n",
        "Explanation: A ship capacity of 15 is the minimum to ship all the packages in 5 days like this:\n",
        "1st day: 1, 2, 3, 4, 5\n",
        "2nd day: 6, 7\n",
        "3rd day: 8\n",
        "4th day: 9\n",
        "5th day: 10\n",
        "\n",
        "Note that the cargo must be shipped in the order given, so using a ship of capacity 14 and splitting the packages into parts like (2, 3, 4, 5), (1, 6, 7), (8), (9), (10) is not allowed.\n",
        "Example 2:\n",
        "\n",
        "Input: weights = [3,2,2,4,1,4], D = 3\n",
        "Output: 6\n",
        "Explanation: A ship capacity of 6 is the minimum to ship all the packages in 3 days like this:\n",
        "1st day: 3, 2\n",
        "2nd day: 2, 4\n",
        "3rd day: 1, 4\n",
        "Example 3:\n",
        "\n",
        "Input: weights = [1,2,3,1,1], D = 4\n",
        "Output: 3\n",
        "Explanation:\n",
        "1st day: 1\n",
        "2nd day: 2\n",
        "3rd day: 3\n",
        "4th day: 1, 1\n",
        " \n",
        "\n",
        "Constraints:\n",
        "\n",
        "1 <= D <= weights.length <= 5 * 104\n",
        "1 <= weights[i] <= 500\n",
        "\"\"\"\n",
        "\n",
        "class Solution:\n",
        "    def shipWithinDays(self, weights: List[int], D: int) -> int:\n",
        "        left, right = max(weights), sum(weights)\n",
        "        while left < right:\n",
        "            mid = (left + right)//2\n",
        "            days, curr = 1, 0\n",
        "            for w in weights:\n",
        "                if curr + w > mid:\n",
        "                    days += 1\n",
        "                    curr = w\n",
        "                else:\n",
        "                    curr += w\n",
        "            if days > D:\n",
        "                left = mid + 1\n",
        "            else:\n",
        "                right = mid\n",
        "        return left\n"
      ],
      "execution_count": null,
      "outputs": []
    }
  ]
}