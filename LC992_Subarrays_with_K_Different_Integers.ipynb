{
  "nbformat": 4,
  "nbformat_minor": 0,
  "metadata": {
    "colab": {
      "name": "LC992 Subarrays with K Different Integers.ipynb",
      "provenance": [],
      "authorship_tag": "ABX9TyPjXbBKkB4AYw8wpTquTij7",
      "include_colab_link": true
    },
    "kernelspec": {
      "name": "python3",
      "display_name": "Python 3"
    },
    "language_info": {
      "name": "python"
    }
  },
  "cells": [
    {
      "cell_type": "markdown",
      "metadata": {
        "id": "view-in-github",
        "colab_type": "text"
      },
      "source": [
        "<a href=\"https://colab.research.google.com/github/vonnan/Leetcode/blob/main/LC992_Subarrays_with_K_Different_Integers.ipynb\" target=\"_parent\"><img src=\"https://colab.research.google.com/assets/colab-badge.svg\" alt=\"Open In Colab\"/></a>"
      ]
    },
    {
      "cell_type": "code",
      "metadata": {
        "id": "ZkyYfReM-0Wx"
      },
      "source": [
        "\"\"\"\n",
        "992. Subarrays with K Different Integers\n",
        "Hard\n",
        "\n",
        "1631\n",
        "\n",
        "28\n",
        "\n",
        "Add to List\n",
        "\n",
        "Share\n",
        "Given an array A of positive integers, call a (contiguous, not necessarily distinct) subarray of A good if the number of different integers in that subarray is exactly K.\n",
        "\n",
        "(For example, [1,2,3,1,2] has 3 different integers: 1, 2, and 3.)\n",
        "\n",
        "Return the number of good subarrays of A.\n",
        "\n",
        " \n",
        "\n",
        "Example 1:\n",
        "\n",
        "Input: A = [1,2,1,2,3], K = 2\n",
        "Output: 7\n",
        "Explanation: Subarrays formed with exactly 2 different integers: [1,2], [2,1], [1,2], [2,3], [1,2,1], [2,1,2], [1,2,1,2].\n",
        "Example 2:\n",
        "\n",
        "Input: A = [1,2,1,3,4], K = 3\n",
        "Output: 3\n",
        "Explanation: Subarrays formed with exactly 3 different integers: [1,2,1,3], [2,1,3], [1,3,4].\n",
        " \n",
        "\n",
        "Note:\n",
        "\n",
        "1 <= A.length <= 20000\n",
        "1 <= A[i] <= A.length\n",
        "1 <= K <= A.length\n",
        "\n",
        "\"\"\"\n",
        "from collections import Counter\n",
        "class Solution:\n",
        "    def subarraysWithKDistinct(self, A: List[int], K: int) -> int:\n",
        "        def atmost(A, K):\n",
        "            counter = Counter()\n",
        "            i = 0\n",
        "            res = 0\n",
        "            for j, a in enumerate(A):\n",
        "                if counter[a] == 0:\n",
        "                    K -= 1\n",
        "                counter[a] += 1\n",
        "                while K <0:\n",
        "                    counter[A[i]] -= 1\n",
        "                    if counter[A[i]] ==0:\n",
        "                        K += 1\n",
        "                    i += 1\n",
        "                res += j-i +1\n",
        "            return res\n",
        "    \n",
        "        return atmost(A, K) - atmost(A, K-1)\n",
        "                        \n",
        "          "
      ],
      "execution_count": null,
      "outputs": []
    }
  ]
}