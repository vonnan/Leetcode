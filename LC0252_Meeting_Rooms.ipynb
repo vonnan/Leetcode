{
  "nbformat": 4,
  "nbformat_minor": 0,
  "metadata": {
    "colab": {
      "name": "LC0252_Meeting_Rooms.py",
      "provenance": [],
      "authorship_tag": "ABX9TyPNzFVV8cUZcFnK2fRQV3cJ",
      "include_colab_link": true
    },
    "kernelspec": {
      "name": "python3",
      "display_name": "Python 3"
    }
  },
  "cells": [
    {
      "cell_type": "markdown",
      "metadata": {
        "id": "view-in-github",
        "colab_type": "text"
      },
      "source": [
        "<a href=\"https://colab.research.google.com/github/vonnan/Leetcode/blob/main/LC0252_Meeting_Rooms.ipynb\" target=\"_parent\"><img src=\"https://colab.research.google.com/assets/colab-badge.svg\" alt=\"Open In Colab\"/></a>"
      ]
    },
    {
      "cell_type": "code",
      "metadata": {
        "id": "2X3dJJs6o5JF"
      },
      "source": [
        "\"\"\"\n",
        "252. Meeting Rooms\n",
        "Easy\n",
        "\n",
        "https://leetcode.com/problems/meeting-rooms/\n",
        "\n",
        "https://tinyurl.com/39zdr4we\n",
        "\n",
        "859\n",
        "\n",
        "44\n",
        "\n",
        "Add to List\n",
        "\n",
        "Share\n",
        "Given an array of meeting time intervals where intervals[i] = [starti, endi], determine if a person could attend all meetings.\n",
        "\n",
        " \n",
        "\n",
        "Example 1:\n",
        "\n",
        "Input: intervals = [[0,30],[5,10],[15,20]]\n",
        "Output: false\n",
        "Example 2:\n",
        "\n",
        "Input: intervals = [[7,10],[2,4]]\n",
        "Output: true\n",
        " \n",
        "\n",
        "Constraints:\n",
        "\n",
        "0 <= intervals.length <= 104\n",
        "intervals[i].length == 2\n",
        "0 <= starti < endi <= 106\n",
        "Accepted\n",
        "179,027\n",
        "Submissions\n",
        "323,058\n",
        "\"\"\"\n",
        "\n",
        "class Solution:\n",
        "    def canAttendMeetings(self, intervals: List[List[int]]) -> bool:\n",
        "        if len(intervals) ==0 or len(intervals)==1:\n",
        "            return True\n",
        "        \n",
        "        intervals = sorted(intervals, key = lambda x: (x[0], x[1]))\n",
        "        \n",
        "        left, right = intervals[0]\n",
        "        \n",
        "        for x,y in intervals[1:]:\n",
        "            if x < right:\n",
        "                return False\n",
        "            right = y\n",
        "        return True\n",
        "            \n",
        " "
      ],
      "execution_count": null,
      "outputs": []
    }
  ]
}