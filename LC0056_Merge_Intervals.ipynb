{
  "nbformat": 4,
  "nbformat_minor": 0,
  "metadata": {
    "colab": {
      "name": "LC0056_Merge_Intervals.ipynb",
      "provenance": [],
      "authorship_tag": "ABX9TyMea1nPTCrUV4tR5eMOefW/",
      "include_colab_link": true
    },
    "kernelspec": {
      "name": "python3",
      "display_name": "Python 3"
    }
  },
  "cells": [
    {
      "cell_type": "markdown",
      "metadata": {
        "id": "view-in-github",
        "colab_type": "text"
      },
      "source": [
        "<a href=\"https://colab.research.google.com/github/vonnan/Leetcode/blob/main/LC0056_Merge_Intervals.ipynb\" target=\"_parent\"><img src=\"https://colab.research.google.com/assets/colab-badge.svg\" alt=\"Open In Colab\"/></a>"
      ]
    },
    {
      "cell_type": "code",
      "metadata": {
        "id": "zggw9t4M5Nac"
      },
      "source": [
        "\"\"\"\n",
        "56. Merge Intervals\n",
        "Medium\n",
        "\n",
        "https://leetcode.com/problems/merge-intervals/\n",
        "https://tinyurl.com/a5edu5zc\n",
        "\n",
        "6678\n",
        "\n",
        "364\n",
        "\n",
        "Add to List\n",
        "\n",
        "Share\n",
        "Given an array of intervals where intervals[i] = [starti, endi], merge all overlapping intervals, and return an array of the non-overlapping intervals that cover all the intervals in the input.\n",
        "\n",
        " \n",
        "\n",
        "Example 1:\n",
        "\n",
        "Input: intervals = [[1,3],[2,6],[8,10],[15,18]]\n",
        "Output: [[1,6],[8,10],[15,18]]\n",
        "Explanation: Since intervals [1,3] and [2,6] overlaps, merge them into [1,6].\n",
        "Example 2:\n",
        "\n",
        "Input: intervals = [[1,4],[4,5]]\n",
        "Output: [[1,5]]\n",
        "Explanation: Intervals [1,4] and [4,5] are considered overlapping.\n",
        " \n",
        "\n",
        "Constraints:\n",
        "\n",
        "1 <= intervals.length <= 104\n",
        "intervals[i].length == 2\n",
        "0 <= starti <= endi <= 104\n",
        "Accepted\n",
        "829,508\n",
        "Submissions\n",
        "2,016,328\n",
        "Runtime: 76 ms, faster than 97.70% of Python3 online submissions for Merge Intervals.\n",
        "Memory Usage: 16.1 MB, less than 85.38% of Python3 online submissions for Merge Intervals.\n",
        "\"\"\"\n",
        "\n",
        "class Solution:\n",
        "    def merge(self, intervals: List[List[int]]) -> List[List[int]]:\n",
        "        if len(intervals) ==1:\n",
        "            return intervals\n",
        "        \n",
        "        intervals = sorted(intervals, key = lambda x: (x[0], x[1]))\n",
        "        \n",
        "        left, right = intervals[0]\n",
        "        \n",
        "        lst = []\n",
        "        \n",
        "        for x,y in intervals[1:]:\n",
        "            if x > right:\n",
        "                lst.append([left, right])\n",
        "                left = x\n",
        "                right = y\n",
        "            else:\n",
        "                right = max(right, y)\n",
        "                \n",
        "        lst.append([left, right])\n",
        "        \n",
        "        return lst"
      ],
      "execution_count": null,
      "outputs": []
    }
  ]
}