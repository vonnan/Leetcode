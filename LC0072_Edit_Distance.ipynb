{
  "nbformat": 4,
  "nbformat_minor": 0,
  "metadata": {
    "colab": {
      "name": "LC0072 Edit Distance.ipynb",
      "provenance": [],
      "authorship_tag": "ABX9TyMNETZ+tLZ0he2Jna7FOXfn",
      "include_colab_link": true
    },
    "kernelspec": {
      "name": "python3",
      "display_name": "Python 3"
    },
    "language_info": {
      "name": "python"
    }
  },
  "cells": [
    {
      "cell_type": "markdown",
      "metadata": {
        "id": "view-in-github",
        "colab_type": "text"
      },
      "source": [
        "<a href=\"https://colab.research.google.com/github/vonnan/Leetcode/blob/main/LC0072_Edit_Distance.ipynb\" target=\"_parent\"><img src=\"https://colab.research.google.com/assets/colab-badge.svg\" alt=\"Open In Colab\"/></a>"
      ]
    },
    {
      "cell_type": "code",
      "metadata": {
        "colab": {
          "base_uri": "https://localhost:8080/"
        },
        "id": "CXqH8QbWRFVz",
        "outputId": "68ae439c-8f5f-41fd-bec9-e9c9cbcdfc1e"
      },
      "source": [
        "\"\"\"\n",
        "72. Edit Distance\n",
        "Hard\n",
        "\n",
        "5483\n",
        "\n",
        "67\n",
        "\n",
        "Add to List\n",
        "\n",
        "Share\n",
        "Given two strings word1 and word2, return the minimum number of operations required to convert word1 to word2.\n",
        "\n",
        "You have the following three operations permitted on a word:\n",
        "\n",
        "Insert a character\n",
        "Delete a character\n",
        "Replace a character\n",
        " \n",
        "\n",
        "Example 1:\n",
        "\n",
        "Input: word1 = \"horse\", word2 = \"ros\"\n",
        "Output: 3\n",
        "Explanation: \n",
        "horse -> rorse (replace 'h' with 'r')\n",
        "rorse -> rose (remove 'r')\n",
        "rose -> ros (remove 'e')\n",
        "Example 2:\n",
        "\n",
        "Input: word1 = \"intention\", word2 = \"execution\"\n",
        "Output: 5\n",
        "Explanation: \n",
        "intention -> inention (remove 't')\n",
        "inention -> enention (replace 'i' with 'e')\n",
        "enention -> exention (replace 'n' with 'x')\n",
        "exention -> exection (replace 'n' with 'c')\n",
        "exection -> execution (insert 'u')\n",
        " \n",
        "\n",
        "Constraints:\n",
        "\n",
        "0 <= word1.length, word2.length <= 500\n",
        "word1 and word2 consist of lowercase English letters.\n",
        "Accepted\n",
        "349,727\n",
        "Submissions\n",
        "741,025\n",
        "\"\"\"\n",
        "\n",
        "class Solution:\n",
        "    def minDistance(self, word1: str, word2: str) -> int:\n",
        "        memo = {}\n",
        "        \n",
        "        def dp(w1,w2, i, j):\n",
        "            if (i,j) in memo:\n",
        "                return memo[(i, j)]\n",
        "            \n",
        "            if i == len(w1) and j == len(w2):\n",
        "                return 0\n",
        "            \n",
        "            elif i == len(w1) :\n",
        "                return len(w2) -j\n",
        "            \n",
        "            elif j == len(w2):\n",
        "                return len(w1) - i\n",
        "            \n",
        "            elif w1[i] == w2[j]:\n",
        "                ct = dp(w1, w2, i+1, j+1)\n",
        "            \n",
        "            else:\n",
        "                insert = dp(w1, w2, i, j + 1)\n",
        "                delete = dp(w1, w2, i + 1, j)\n",
        "                replace = dp(w1, w2, i+1, j + 1)\n",
        "                ct = 1 + min(insert, delete, replace)\n",
        "            memo[(i, j)] = ct\n",
        "            return ct\n",
        "        \n",
        "        return dp(word1, word2, 0, 0)\n"
      ],
      "execution_count": 2,
      "outputs": [
        {
          "output_type": "execute_result",
          "data": {
            "text/plain": [
              "{0}"
            ]
          },
          "metadata": {
            "tags": []
          },
          "execution_count": 2
        }
      ]
    }
  ]
}