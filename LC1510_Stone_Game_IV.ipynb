{
  "nbformat": 4,
  "nbformat_minor": 0,
  "metadata": {
    "colab": {
      "name": "LC1510 Stone Game IV.ipynb",
      "provenance": [],
      "authorship_tag": "ABX9TyN2V+RQZAxGw0dFd2bw48kO",
      "include_colab_link": true
    },
    "kernelspec": {
      "name": "python3",
      "display_name": "Python 3"
    },
    "language_info": {
      "name": "python"
    }
  },
  "cells": [
    {
      "cell_type": "markdown",
      "metadata": {
        "id": "view-in-github",
        "colab_type": "text"
      },
      "source": [
        "<a href=\"https://colab.research.google.com/github/vonnan/Leetcode/blob/main/LC1510_Stone_Game_IV.ipynb\" target=\"_parent\"><img src=\"https://colab.research.google.com/assets/colab-badge.svg\" alt=\"Open In Colab\"/></a>"
      ]
    },
    {
      "cell_type": "code",
      "metadata": {
        "id": "yoBkB6PsKQhi"
      },
      "source": [
        "\"\"\"\n",
        "1510. Stone Game IV\n",
        "Hard\n",
        "\n",
        "405\n",
        "\n",
        "25\n",
        "\n",
        "Add to List\n",
        "\n",
        "Share\n",
        "Alice and Bob take turns playing a game, with Alice starting first.\n",
        "\n",
        "Initially, there are n stones in a pile.  On each player's turn, that player makes a move consisting of removing any non-zero square number of stones in the pile.\n",
        "\n",
        "Also, if a player cannot make a move, he/she loses the game.\n",
        "\n",
        "Given a positive integer n. Return True if and only if Alice wins the game otherwise return False, assuming both players play optimally.\n",
        "\n",
        " \n",
        "\n",
        "Example 1:\n",
        "\n",
        "Input: n = 1\n",
        "Output: true\n",
        "Explanation: Alice can remove 1 stone winning the game because Bob doesn't have any moves.\n",
        "Example 2:\n",
        "\n",
        "Input: n = 2\n",
        "Output: false\n",
        "Explanation: Alice can only remove 1 stone, after that Bob removes the last one winning the game (2 -> 1 -> 0).\n",
        "Example 3:\n",
        "\n",
        "Input: n = 4\n",
        "Output: true\n",
        "Explanation: n is already a perfect square, Alice can win with one move, removing 4 stones (4 -> 0).\n",
        "Example 4:\n",
        "\n",
        "Input: n = 7\n",
        "Output: false\n",
        "Explanation: Alice can't win the game if Bob plays optimally.\n",
        "If Alice starts removing 4 stones, Bob will remove 1 stone then Alice should remove only 1 stone and finally Bob removes the last one (7 -> 3 -> 2 -> 1 -> 0). \n",
        "If Alice starts removing 1 stone, Bob will remove 4 stones then Alice only can remove 1 stone and finally Bob removes the last one (7 -> 6 -> 2 -> 1 -> 0).\n",
        "Example 5:\n",
        "\n",
        "Input: n = 17\n",
        "Output: false\n",
        "Explanation: Alice can't win the game if Bob plays optimally.\n",
        " \n",
        "\n",
        "Constraints:\n",
        "\n",
        "1 <= n <= 10^5\n",
        "\"\"\"\n",
        "\n",
        "class Solution:\n",
        "    def winnerSquareGame(self, n: int) -> bool:\n",
        "        dp = [False] * (n+1)\n",
        "        for i in range(1, n+1):\n",
        "            dp[i] = not all(dp[i - k * k] for k in range(1, int(i**0.5)+1))\n",
        "        return dp[-1]\n",
        "        "
      ],
      "execution_count": null,
      "outputs": []
    }
  ]
}