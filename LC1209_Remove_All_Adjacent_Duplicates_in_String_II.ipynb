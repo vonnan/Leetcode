{
  "nbformat": 4,
  "nbformat_minor": 0,
  "metadata": {
    "colab": {
      "name": "LC1209_Remove_All_Adjacent_Duplicates_in_String_II.ipynb",
      "provenance": [],
      "authorship_tag": "ABX9TyO2zjikMtynq/kQslritolm",
      "include_colab_link": true
    },
    "kernelspec": {
      "name": "python3",
      "display_name": "Python 3"
    },
    "language_info": {
      "name": "python"
    }
  },
  "cells": [
    {
      "cell_type": "markdown",
      "metadata": {
        "id": "view-in-github",
        "colab_type": "text"
      },
      "source": [
        "<a href=\"https://colab.research.google.com/github/vonnan/Leetcode/blob/main/LC1209_Remove_All_Adjacent_Duplicates_in_String_II.ipynb\" target=\"_parent\"><img src=\"https://colab.research.google.com/assets/colab-badge.svg\" alt=\"Open In Colab\"/></a>"
      ]
    },
    {
      "cell_type": "code",
      "metadata": {
        "id": "aYyjTiw8h0t0"
      },
      "source": [
        "\"\"\"\n",
        "1209. Remove All Adjacent Duplicates in String II\n",
        "Medium\n",
        "\n",
        "1163\n",
        "\n",
        "29\n",
        "\n",
        "Add to List\n",
        "\n",
        "Share\n",
        "Given a string s, a k duplicate removal consists of choosing k adjacent and equal letters from s and removing them causing the left and the right side of the deleted substring to concatenate together.\n",
        "\n",
        "We repeatedly make k duplicate removals on s until we no longer can.\n",
        "\n",
        "Return the final string after all such duplicate removals have been made.\n",
        "\n",
        "It is guaranteed that the answer is unique.\n",
        "\n",
        " \n",
        "\n",
        "Example 1:\n",
        "\n",
        "Input: s = \"abcd\", k = 2\n",
        "Output: \"abcd\"\n",
        "Explanation: There's nothing to delete.\n",
        "Example 2:\n",
        "\n",
        "Input: s = \"deeedbbcccbdaa\", k = 3\n",
        "Output: \"aa\"\n",
        "Explanation: \n",
        "First delete \"eee\" and \"ccc\", get \"ddbbbdaa\"\n",
        "Then delete \"bbb\", get \"dddaa\"\n",
        "Finally delete \"ddd\", get \"aa\"\n",
        "Example 3:\n",
        "\n",
        "Input: s = \"pbbcggttciiippooaais\", k = 2\n",
        "Output: \"ps\"\n",
        " \n",
        "\n",
        "Constraints:\n",
        "\n",
        "1 <= s.length <= 10^5\n",
        "2 <= k <= 10^4\n",
        "s only contains lower case English letters.\n",
        "\"\"\"\n",
        "class Solution:\n",
        "    def removeDuplicates(self, s: str, k: int) -> str:\n",
        "        stack = [[\"\", 0]]\n",
        "        \n",
        "        for char in s:\n",
        "            if stack[-1][0] != char:\n",
        "                stack.append([char, 1])\n",
        "            else:\n",
        "                stack[-1][1] += 1\n",
        "                if stack[-1][1]==k:\n",
        "                    stack.pop()\n",
        "                \n",
        "        return \"\".join([c*k for c,k in stack])\n"
      ],
      "execution_count": null,
      "outputs": []
    }
  ]
}