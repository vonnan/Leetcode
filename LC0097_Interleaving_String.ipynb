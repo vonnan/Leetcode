{
  "nbformat": 4,
  "nbformat_minor": 0,
  "metadata": {
    "colab": {
      "name": "LC0097 Interleaving String.ipynb",
      "provenance": [],
      "authorship_tag": "ABX9TyNfrGeSNHTDa09yINjFY9+Z",
      "include_colab_link": true
    },
    "kernelspec": {
      "name": "python3",
      "display_name": "Python 3"
    },
    "language_info": {
      "name": "python"
    }
  },
  "cells": [
    {
      "cell_type": "markdown",
      "metadata": {
        "id": "view-in-github",
        "colab_type": "text"
      },
      "source": [
        "<a href=\"https://colab.research.google.com/github/vonnan/Leetcode/blob/main/LC0097_Interleaving_String.ipynb\" target=\"_parent\"><img src=\"https://colab.research.google.com/assets/colab-badge.svg\" alt=\"Open In Colab\"/></a>"
      ]
    },
    {
      "cell_type": "code",
      "metadata": {
        "colab": {
          "base_uri": "https://localhost:8080/",
          "height": 35
        },
        "id": "zA8GMcOPrqNK",
        "outputId": "2fda6e87-736e-4ae7-e19f-5509001df903"
      },
      "source": [
        "\"\"\"\n",
        "97. Interleaving String\n",
        "Medium\n",
        "\n",
        "1999\n",
        "\n",
        "105\n",
        "\n",
        "Add to List\n",
        "\n",
        "Share\n",
        "Given strings s1, s2, and s3, find whether s3 is formed by an interleaving of s1 and s2.\n",
        "\n",
        "An interleaving of two strings s and t is a configuration where they are divided into non-empty substrings such that:\n",
        "\n",
        "s = s1 + s2 + ... + sn\n",
        "t = t1 + t2 + ... + tm\n",
        "|n - m| <= 1\n",
        "The interleaving is s1 + t1 + s2 + t2 + s3 + t3 + ... or t1 + s1 + t2 + s2 + t3 + s3 + ...\n",
        "Note: a + b is the concatenation of strings a and b.\n",
        "\n",
        " \n",
        "\n",
        "Example 1:\n",
        "\n",
        "\n",
        "Input: s1 = \"aabcc\", s2 = \"dbbca\", s3 = \"aadbbcbcac\"\n",
        "Output: true\n",
        "Example 2:\n",
        "\n",
        "Input: s1 = \"aabcc\", s2 = \"dbbca\", s3 = \"aadbbbaccc\"\n",
        "Output: false\n",
        "Example 3:\n",
        "\n",
        "Input: s1 = \"\", s2 = \"\", s3 = \"\"\n",
        "Output: true\n",
        " \n",
        "\n",
        "Constraints:\n",
        "\n",
        "0 <= s1.length, s2.length <= 100\n",
        "0 <= s3.length <= 200\n",
        "s1, s2, and s3 consist of lowercase English letters.\n",
        "\"\"\"\n",
        "from collections import deque\n",
        "\n",
        "class Solution:\n",
        "    def isInterleave(self, s1: str, s2: str, s3: str) -> bool:\n",
        "        queue, visited = [(0,0)], set([(0,0)])\n",
        "        l1, l2, l3 = len(s1), len(s2), len(s3)\n",
        "        \n",
        "        if l1 + l2 != l3:\n",
        "            return False\n",
        "        \n",
        "        while queue:\n",
        "            a, b = queue.pop()\n",
        "            c = a + b\n",
        "            \n",
        "            if a + b == l3:\n",
        "                return True\n",
        "            \n",
        "            if (a + 1 <= l1) and s1[a] == s3[c] and ((a+1, b) not in visited):\n",
        "                queue.append((a+1, b))\n",
        "                visited.add((a+1, b))\n",
        "            \n",
        "            if (b + 1 <= l2) and s2[b] == s3[c] and ((a, b + 1) not in visited):\n",
        "                queue.append((a, b + 1))\n",
        "                visited.add((a, b + 1))\n",
        "            \n",
        "        return False\n"
      ],
      "execution_count": 5,
      "outputs": [
        {
          "output_type": "execute_result",
          "data": {
            "application/vnd.google.colaboratory.intrinsic+json": {
              "type": "string"
            },
            "text/plain": [
              "'abc'"
            ]
          },
          "metadata": {
            "tags": []
          },
          "execution_count": 5
        }
      ]
    }
  ]
}