{
  "nbformat": 4,
  "nbformat_minor": 0,
  "metadata": {
    "colab": {
      "name": "LC1696 Jump Game VI.ipynb",
      "provenance": [],
      "authorship_tag": "ABX9TyP2ZERyjOBAKp+A7PKHYgAg",
      "include_colab_link": true
    },
    "kernelspec": {
      "name": "python3",
      "display_name": "Python 3"
    },
    "language_info": {
      "name": "python"
    }
  },
  "cells": [
    {
      "cell_type": "markdown",
      "metadata": {
        "id": "view-in-github",
        "colab_type": "text"
      },
      "source": [
        "<a href=\"https://colab.research.google.com/github/vonnan/Leetcode/blob/main/LC1696_Jump_Game_VI.ipynb\" target=\"_parent\"><img src=\"https://colab.research.google.com/assets/colab-badge.svg\" alt=\"Open In Colab\"/></a>"
      ]
    },
    {
      "cell_type": "code",
      "metadata": {
        "id": "MxMIB5XGMJBO"
      },
      "source": [
        "\"\"\"\n",
        "1696. Jump Game VI\n",
        "Medium\n",
        "\n",
        "332\n",
        "\n",
        "20\n",
        "\n",
        "Add to List\n",
        "\n",
        "Share\n",
        "You are given a 0-indexed integer array nums and an integer k.\n",
        "\n",
        "You are initially standing at index 0. In one move, you can jump at most k steps forward without going outside the boundaries of the array. That is, you can jump from index i to any index in the range [i + 1, min(n - 1, i + k)] inclusive.\n",
        "\n",
        "You want to reach the last index of the array (index n - 1). Your score is the sum of all nums[j] for each index j you visited in the array.\n",
        "\n",
        "Return the maximum score you can get.\n",
        "\n",
        " \n",
        "\n",
        "Example 1:\n",
        "\n",
        "Input: nums = [1,-1,-2,4,-7,3], k = 2\n",
        "Output: 7\n",
        "Explanation: You can choose your jumps forming the subsequence [1,-1,4,3] (underlined above). The sum is 7.\n",
        "Example 2:\n",
        "\n",
        "Input: nums = [10,-5,-2,4,0,3], k = 3\n",
        "Output: 17\n",
        "Explanation: You can choose your jumps forming the subsequence [10,4,3] (underlined above). The sum is 17.\n",
        "Example 3:\n",
        "\n",
        "Input: nums = [1,-5,-20,4,-1,3,-6,-3], k = 2\n",
        "Output: 0\n",
        " \n",
        "\n",
        "Constraints:\n",
        "\n",
        " 1 <= nums.length, k <= 105\n",
        "-104 <= nums[i] <= 104\n",
        "\n",
        "\"\"\"\n",
        "from heapq import heappush\n",
        "from heapq import heappop\n",
        "class Solution:\n",
        "    def maxResult(self, nums: List[int], k: int) -> int:\n",
        "        heap = [(0, -k)]\n",
        "        #initialize the heap\n",
        "        \n",
        "        for i, num in enumerate(nums):\n",
        "            while heap and i - heap[0][1] > k:\n",
        "                heappop(heap)\n",
        "            # clear outdated items that can not be reached from the current jump to the destination i\n",
        "            num -= heap[0][0]\n",
        "            heappush(heap, (-num, i))\n",
        "        \n",
        "        return num"
      ],
      "execution_count": null,
      "outputs": []
    }
  ]
}