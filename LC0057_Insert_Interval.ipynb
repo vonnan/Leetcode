{
  "nbformat": 4,
  "nbformat_minor": 0,
  "metadata": {
    "colab": {
      "name": "LC0057_Insert_Interval.ipynb",
      "provenance": [],
      "authorship_tag": "ABX9TyNxg0+JZhn9BGnUy/XGhj5K",
      "include_colab_link": true
    },
    "kernelspec": {
      "name": "python3",
      "display_name": "Python 3"
    }
  },
  "cells": [
    {
      "cell_type": "markdown",
      "metadata": {
        "id": "view-in-github",
        "colab_type": "text"
      },
      "source": [
        "<a href=\"https://colab.research.google.com/github/vonnan/Leetcode/blob/main/LC0057_Insert_Interval.ipynb\" target=\"_parent\"><img src=\"https://colab.research.google.com/assets/colab-badge.svg\" alt=\"Open In Colab\"/></a>"
      ]
    },
    {
      "cell_type": "code",
      "metadata": {
        "id": "EwXcitrf92c6"
      },
      "source": [
        "\"\"\"\n",
        "57. Insert Interval\n",
        "Medium\n",
        "\n",
        "2652\n",
        "\n",
        "236\n",
        "\n",
        "Add to List\n",
        "\n",
        "Share\n",
        "Given a set of non-overlapping intervals, insert a new interval into the intervals (merge if necessary).\n",
        "\n",
        "You may assume that the intervals were initially sorted according to their start times.\n",
        "\n",
        " \n",
        "\n",
        "Example 1:\n",
        "\n",
        "Input: intervals = [[1,3],[6,9]], newInterval = [2,5]\n",
        "Output: [[1,5],[6,9]]\n",
        "Example 2:\n",
        "\n",
        "Input: intervals = [[1,2],[3,5],[6,7],[8,10],[12,16]], newInterval = [4,8]\n",
        "Output: [[1,2],[3,10],[12,16]]\n",
        "Explanation: Because the new interval [4,8] overlaps with [3,5],[6,7],[8,10].\n",
        "Example 3:\n",
        "\n",
        "Input: intervals = [], newInterval = [5,7]\n",
        "Output: [[5,7]]\n",
        "Example 4:\n",
        "\n",
        "Input: intervals = [[1,5]], newInterval = [2,3]\n",
        "Output: [[1,5]]\n",
        "Example 5:\n",
        "\n",
        "Input: intervals = [[1,5]], newInterval = [2,7]\n",
        "Output: [[1,7]]\n",
        " \n",
        "\n",
        "Constraints:\n",
        "\n",
        "0 <= intervals.length <= 104\n",
        "intervals[i].length == 2\n",
        "0 <= intervals[i][0] <= intervals[i][1] <= 105\n",
        "intervals is sorted by intervals[i][0] in ascending order.\n",
        "newInterval.length == 2\n",
        "0 <= newInterval[0] <= newInterval[1] <= 105\n",
        "\"\"\"\n",
        "\n",
        "\n",
        "class Solution:\n",
        "    def insert(self, intervals: List[List[int]], newInterval: List[int]) -> List[List[int]]:\n",
        "        left, right = newInterval\n",
        "        \n",
        "        if len(intervals) ==0:\n",
        "            return [newInterval]\n",
        "        \n",
        "        res = []\n",
        "        \n",
        "        i = 0\n",
        "        \n",
        "        for x,y in intervals:\n",
        "            if left > y:\n",
        "                res.append([x,y])\n",
        "            elif right < x:\n",
        "                res.append([left, right])\n",
        "                res.extend(intervals[i:])\n",
        "                return res\n",
        "            elif left <=y:\n",
        "                left = min(left, x)\n",
        "                right = max(right, y)\n",
        "                \n",
        "            i+=1\n",
        "            \n",
        "        res.append([left, right])\n",
        "        return res\n",
        "                "
      ],
      "execution_count": null,
      "outputs": []
    }
  ]
}