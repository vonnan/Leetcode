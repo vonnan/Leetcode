{
  "nbformat": 4,
  "nbformat_minor": 0,
  "metadata": {
    "colab": {
      "name": "LC946_Validate_Stack_Sequences.ipynb",
      "provenance": [],
      "authorship_tag": "ABX9TyOwpQPkmvHs+RBZ342PZYJK",
      "include_colab_link": true
    },
    "kernelspec": {
      "name": "python3",
      "display_name": "Python 3"
    }
  },
  "cells": [
    {
      "cell_type": "markdown",
      "metadata": {
        "id": "view-in-github",
        "colab_type": "text"
      },
      "source": [
        "<a href=\"https://colab.research.google.com/github/vonnan/Leetcode/blob/main/LC946_Validate_Stack_Sequences.ipynb\" target=\"_parent\"><img src=\"https://colab.research.google.com/assets/colab-badge.svg\" alt=\"Open In Colab\"/></a>"
      ]
    },
    {
      "cell_type": "code",
      "metadata": {
        "id": "rL4qms183web"
      },
      "source": [
        "\"\"\"\n",
        "946. Validate Stack Sequences\n",
        "Medium\n",
        "\n",
        "https://leetcode.com/problems/validate-stack-sequences/\n",
        "\n",
        "\n",
        "1618\n",
        "\n",
        "34\n",
        "\n",
        "Add to List\n",
        "\n",
        "Share\n",
        "Given two sequences pushed and popped with distinct values, return true if and only if this could have been the result of a sequence of push and pop operations on an initially empty stack.\n",
        "\n",
        " \n",
        "\n",
        "Example 1:\n",
        "\n",
        "Input: pushed = [1,2,3,4,5], popped = [4,5,3,2,1]\n",
        "Output: true\n",
        "Explanation: We might do the following sequence:\n",
        "push(1), push(2), push(3), push(4), pop() -> 4,\n",
        "push(5), pop() -> 5, pop() -> 3, pop() -> 2, pop() -> 1\n",
        "Example 2:\n",
        "\n",
        "Input: pushed = [1,2,3,4,5], popped = [4,3,5,1,2]\n",
        "Output: false\n",
        "Explanation: 1 cannot be popped before 2.\n",
        " \n",
        "\n",
        "Constraints:\n",
        "\n",
        "0 <= pushed.length == popped.length <= 1000\n",
        "0 <= pushed[i], popped[i] < 1000\n",
        "pushed is a permutation of popped.\n",
        "pushed and popped have distinct values.\n",
        "\n",
        "Runtime: 64 ms, faster than 94.09% of Python3 online submissions for Validate Stack Sequences.\n",
        "Memory Usage: 14.3 MB, less than 85.37% of Python3 online submissions for Validate Stack Sequences.\n",
        "\"\"\"\n",
        "class Solution:\n",
        "    def validateStackSequences(self, pushed: List[int], popped: List[int]) -> bool:\n",
        "        i = 0\n",
        "        j = 0\n",
        "        for val in pushed:\n",
        "            pushed[i] = val\n",
        "            while i>=0 and pushed and pushed[i] == popped[j]:\n",
        "                i -= 1\n",
        "                j += 1\n",
        "            i+= 1\n",
        "            \n",
        "        return i ==0\n",
        "        \n",
        "        \n"
      ],
      "execution_count": null,
      "outputs": []
    }
  ]
}