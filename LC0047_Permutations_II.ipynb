{
  "nbformat": 4,
  "nbformat_minor": 0,
  "metadata": {
    "colab": {
      "name": "LC0047 Permutations II.ipynb",
      "provenance": [],
      "authorship_tag": "ABX9TyMFjuLKnXaG6Hu5z1b4M3Ox",
      "include_colab_link": true
    },
    "kernelspec": {
      "name": "python3",
      "display_name": "Python 3"
    },
    "language_info": {
      "name": "python"
    }
  },
  "cells": [
    {
      "cell_type": "markdown",
      "metadata": {
        "id": "view-in-github",
        "colab_type": "text"
      },
      "source": [
        "<a href=\"https://colab.research.google.com/github/vonnan/Leetcode/blob/main/LC0047_Permutations_II.ipynb\" target=\"_parent\"><img src=\"https://colab.research.google.com/assets/colab-badge.svg\" alt=\"Open In Colab\"/></a>"
      ]
    },
    {
      "cell_type": "code",
      "metadata": {
        "id": "RRINTQhgiPXG"
      },
      "source": [
        "\"\"\"\n",
        "47. Permutations II\n",
        "Medium\n",
        "\n",
        "2837\n",
        "\n",
        "78\n",
        "\n",
        "Add to List\n",
        "\n",
        "Share\n",
        "Given a collection of numbers, nums, that might contain duplicates, return all possible unique permutations in any order.\n",
        "\n",
        " \n",
        "\n",
        "Example 1:\n",
        "\n",
        "Input: nums = [1,1,2]\n",
        "Output:\n",
        "[[1,1,2],\n",
        " [1,2,1],\n",
        " [2,1,1]]\n",
        "Example 2:\n",
        "\n",
        "Input: nums = [1,2,3]\n",
        "Output: [[1,2,3],[1,3,2],[2,1,3],[2,3,1],[3,1,2],[3,2,1]]\n",
        " \n",
        "\n",
        "Constraints:\n",
        "\n",
        "1 <= nums.length <= 8\n",
        "-10 <= nums[i] <= 10\n",
        "\n",
        "\"\"\"\n",
        "\n",
        "from itertools import permutations\n",
        "class Solution:\n",
        "    def permuteUnique(self, nums: List[int]) -> List[List[int]]:\n",
        "        return list(set(permutations(nums)))\n",
        " "
      ],
      "execution_count": null,
      "outputs": []
    }
  ]
}