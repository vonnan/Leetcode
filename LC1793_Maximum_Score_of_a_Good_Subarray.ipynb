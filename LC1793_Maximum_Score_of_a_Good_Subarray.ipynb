{
  "nbformat": 4,
  "nbformat_minor": 0,
  "metadata": {
    "colab": {
      "name": "LC1793 Maximum Score of a Good Subarray.ipynb",
      "provenance": [],
      "authorship_tag": "ABX9TyPuaBnGLUY09cNGQjzAWSFX",
      "include_colab_link": true
    },
    "kernelspec": {
      "name": "python3",
      "display_name": "Python 3"
    },
    "language_info": {
      "name": "python"
    }
  },
  "cells": [
    {
      "cell_type": "markdown",
      "metadata": {
        "id": "view-in-github",
        "colab_type": "text"
      },
      "source": [
        "<a href=\"https://colab.research.google.com/github/vonnan/Leetcode/blob/main/LC1793_Maximum_Score_of_a_Good_Subarray.ipynb\" target=\"_parent\"><img src=\"https://colab.research.google.com/assets/colab-badge.svg\" alt=\"Open In Colab\"/></a>"
      ]
    },
    {
      "cell_type": "code",
      "metadata": {
        "id": "mDW7-nx7OmTK"
      },
      "source": [
        "\"\"\"\n",
        "1793. Maximum Score of a Good Subarray\n",
        "Hard\n",
        "\n",
        "228\n",
        "\n",
        "14\n",
        "\n",
        "Add to List\n",
        "\n",
        "Share\n",
        "You are given an array of integers nums (0-indexed) and an integer k.\n",
        "\n",
        "The score of a subarray (i, j) is defined as min(nums[i], nums[i+1], ..., nums[j]) * (j - i + 1). A good subarray is a subarray where i <= k <= j.\n",
        "\n",
        "Return the maximum possible score of a good subarray.\n",
        "\n",
        " \n",
        "\n",
        "Example 1:\n",
        "\n",
        "Input: nums = [1,4,3,7,4,5], k = 3\n",
        "Output: 15\n",
        "Explanation: The optimal subarray is (1, 5) with a score of min(4,3,7,4,5) * (5-1+1) = 3 * 5 = 15. \n",
        "Example 2:\n",
        "\n",
        "Input: nums = [5,5,4,5,4,1,1,1], k = 0\n",
        "Output: 20\n",
        "Explanation: The optimal subarray is (0, 4) with a score of min(5,5,4,5,4) * (4-0+1) = 4 * 5 = 20.\n",
        " \n",
        "\n",
        "Constraints:\n",
        "\n",
        "1 <= nums.length <= 105\n",
        "1 <= nums[i] <= 2 * 104\n",
        "0 <= k < nums.length\n",
        "\n",
        "\"\"\"\n",
        "\n",
        "class Solution:\n",
        "    def maximumScore(self, nums: List[int], k: int) -> int:\n",
        "        left, right = k, k\n",
        "        res, min_n = nums[k], nums[k]\n",
        "        n = len(nums) \n",
        "        while (left > 0) or (right < n-1):\n",
        "            if (nums[left -1] if left else 0) >= (nums[right+1] if (right < n-1) else 0):\n",
        "                left -= 1\n",
        "            else:\n",
        "                right += 1\n",
        "                \n",
        "            min_n = min(min_n, nums[left], nums[right])\n",
        "            \n",
        "            res = max(res, min_n* (right - left + 1))\n",
        "            \n",
        "        return res\n"
      ],
      "execution_count": null,
      "outputs": []
    }
  ]
}