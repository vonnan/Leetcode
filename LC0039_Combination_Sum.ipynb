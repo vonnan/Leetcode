{
  "nbformat": 4,
  "nbformat_minor": 0,
  "metadata": {
    "colab": {
      "name": "LC0039 Combination Sum.ipynb",
      "provenance": [],
      "authorship_tag": "ABX9TyOg10iQlULGbj7oV998UgB8",
      "include_colab_link": true
    },
    "kernelspec": {
      "name": "python3",
      "display_name": "Python 3"
    },
    "language_info": {
      "name": "python"
    }
  },
  "cells": [
    {
      "cell_type": "markdown",
      "metadata": {
        "id": "view-in-github",
        "colab_type": "text"
      },
      "source": [
        "<a href=\"https://colab.research.google.com/github/vonnan/Leetcode/blob/main/LC0039_Combination_Sum.ipynb\" target=\"_parent\"><img src=\"https://colab.research.google.com/assets/colab-badge.svg\" alt=\"Open In Colab\"/></a>"
      ]
    },
    {
      "cell_type": "code",
      "metadata": {
        "id": "r-6Ja7m8eEYj"
      },
      "source": [
        "\"\"\"\n",
        "39. Combination Sum\n",
        "Medium\n",
        "\n",
        "5646\n",
        "\n",
        "146\n",
        "\n",
        "Add to List\n",
        "\n",
        "Share\n",
        "Given an array of distinct integers candidates and a target integer target, return a list of all unique combinations of candidates where the chosen numbers sum to target. You may return the combinations in any order.\n",
        "\n",
        "The same number may be chosen from candidates an unlimited number of times. Two combinations are unique if the frequency of at least one of the chosen numbers is different.\n",
        "\n",
        "It is guaranteed that the number of unique combinations that sum up to target is less than 150 combinations for the given input.\n",
        "\n",
        " \n",
        "\n",
        "Example 1:\n",
        "\n",
        "Input: candidates = [2,3,6,7], target = 7\n",
        "Output: [[2,2,3],[7]]\n",
        "Explanation:\n",
        "2 and 3 are candidates, and 2 + 2 + 3 = 7. Note that 2 can be used multiple times.\n",
        "7 is a candidate, and 7 = 7.\n",
        "These are the only two combinations.\n",
        "Example 2:\n",
        "\n",
        "Input: candidates = [2,3,5], target = 8\n",
        "Output: [[2,2,2,2],[2,3,3],[3,5]]\n",
        "Example 3:\n",
        "\n",
        "Input: candidates = [2], target = 1\n",
        "Output: []\n",
        "Example 4:\n",
        "\n",
        "Input: candidates = [1], target = 1\n",
        "Output: [[1]]\n",
        "Example 5:\n",
        "\n",
        "Input: candidates = [1], target = 2\n",
        "Output: [[1,1]]\n",
        " \n",
        "\n",
        "Constraints:\n",
        "\n",
        "1 <= candidates.length <= 30\n",
        "1 <= candidates[i] <= 200\n",
        "All elements of candidates are distinct.\n",
        "1 <= target <= 500\n",
        "\"\"\"\n",
        "class Solution:\n",
        "    def combinationSum(self, candidates: List[int], target: int) -> List[List[int]]:\n",
        "        candidates.sort()\n",
        "        res = []\n",
        "        \n",
        "        def dfs(left, path, idx):\n",
        "            if left==0:\n",
        "                res.append(path[:])\n",
        "            else:\n",
        "                for i,v in enumerate(candidates[idx:]):\n",
        "                    if v > left:\n",
        "                        break\n",
        "                    else:\n",
        "                        dfs(left -v, path + [v], idx + i)\n",
        "        \n",
        "        dfs(target, [], 0)\n",
        "        return res\n",
        "        \n",
        "\n",
        "\n"
      ],
      "execution_count": null,
      "outputs": []
    }
  ]
}