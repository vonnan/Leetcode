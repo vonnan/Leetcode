{
  "nbformat": 4,
  "nbformat_minor": 0,
  "metadata": {
    "colab": {
      "name": "LC0380 Insert Delete GetRandom O(1).ipynb",
      "provenance": [],
      "authorship_tag": "ABX9TyPkdE9BVUJlUTGPuwIzpuXu",
      "include_colab_link": true
    },
    "kernelspec": {
      "name": "python3",
      "display_name": "Python 3"
    },
    "language_info": {
      "name": "python"
    }
  },
  "cells": [
    {
      "cell_type": "markdown",
      "metadata": {
        "id": "view-in-github",
        "colab_type": "text"
      },
      "source": [
        "<a href=\"https://colab.research.google.com/github/vonnan/Leetcode/blob/main/LC0380_Insert_Delete_GetRandom_O(1).ipynb\" target=\"_parent\"><img src=\"https://colab.research.google.com/assets/colab-badge.svg\" alt=\"Open In Colab\"/></a>"
      ]
    },
    {
      "cell_type": "code",
      "metadata": {
        "id": "Aa2LBrf1Heqe"
      },
      "source": [
        "\"\"\"\n",
        "380. Insert Delete GetRandom O(1)\n",
        "Medium\n",
        "\n",
        "3495\n",
        "\n",
        "207\n",
        "\n",
        "Add to List\n",
        "\n",
        "Share\n",
        "Implement the RandomizedSet class:\n",
        "\n",
        "RandomizedSet() Initializes the RandomizedSet object.\n",
        "bool insert(int val) Inserts an item val into the set if not present. Returns true if the item was not present, false otherwise.\n",
        "bool remove(int val) Removes an item val from the set if present. Returns true if the item was present, false otherwise.\n",
        "int getRandom() Returns a random element from the current set of elements (it's guaranteed that at least one element exists when this method is called). Each element must have the same probability of being returned.\n",
        " \n",
        "\n",
        "Example 1:\n",
        "\n",
        "Input\n",
        "[\"RandomizedSet\", \"insert\", \"remove\", \"insert\", \"getRandom\", \"remove\", \"insert\", \"getRandom\"]\n",
        "[[], [1], [2], [2], [], [1], [2], []]\n",
        "Output\n",
        "[null, true, false, true, 2, true, false, 2]\n",
        "\n",
        "Explanation\n",
        "RandomizedSet randomizedSet = new RandomizedSet();\n",
        "randomizedSet.insert(1); // Inserts 1 to the set. Returns true as 1 was inserted successfully.\n",
        "randomizedSet.remove(2); // Returns false as 2 does not exist in the set.\n",
        "randomizedSet.insert(2); // Inserts 2 to the set, returns true. Set now contains [1,2].\n",
        "randomizedSet.getRandom(); // getRandom() should return either 1 or 2 randomly.\n",
        "randomizedSet.remove(1); // Removes 1 from the set, returns true. Set now contains [2].\n",
        "randomizedSet.insert(2); // 2 was already in the set, so return false.\n",
        "randomizedSet.getRandom(); // Since 2 is the only number in the set, getRandom() will always return 2.\n",
        " \n",
        "\n",
        "Constraints:\n",
        "\n",
        "-231 <= val <= 231 - 1\n",
        "At most 105 calls will be made to insert, remove, and getRandom.\n",
        "There will be at least one element in the data structure when getRandom is called.\n",
        "\"\"\"\n",
        "\n",
        "from random import choice\n",
        "class RandomizedSet:\n",
        "\n",
        "    def __init__(self):\n",
        "        \"\"\"\n",
        "        Initialize your data structure here.\n",
        "        \"\"\"\n",
        "        self.sets =set()\n",
        "\n",
        "    def insert(self, val: int) -> bool:\n",
        "        \"\"\"\n",
        "        Inserts a value to the set. Returns true if the set did not already contain the specified element.\n",
        "        \"\"\"\n",
        "        if val not in self.sets:\n",
        "            self.sets.add(val)\n",
        "            return True\n",
        "        else:\n",
        "            return False\n",
        "        \n",
        "\n",
        "    def remove(self, val: int) -> bool:\n",
        "        \"\"\"\n",
        "        Removes a value from the set. Returns true if the set contained the specified element.\n",
        "        \"\"\"\n",
        "        if val in self.sets:\n",
        "            self.sets.remove(val)\n",
        "            return True\n",
        "        else:\n",
        "            return False\n",
        "        \n",
        "\n",
        "    def getRandom(self) -> int:\n",
        "        \"\"\"\n",
        "        Get a random element from the set.\n",
        "        \"\"\"\n",
        "        return choice(list(self.sets))\n"
      ],
      "execution_count": null,
      "outputs": []
    }
  ]
}