{
  "nbformat": 4,
  "nbformat_minor": 0,
  "metadata": {
    "colab": {
      "name": "LC0322 Coin Change.ipynb",
      "provenance": [],
      "authorship_tag": "ABX9TyP/IVLUTOE2BoMqqNYiZt8E",
      "include_colab_link": true
    },
    "kernelspec": {
      "name": "python3",
      "display_name": "Python 3"
    },
    "language_info": {
      "name": "python"
    }
  },
  "cells": [
    {
      "cell_type": "markdown",
      "metadata": {
        "id": "view-in-github",
        "colab_type": "text"
      },
      "source": [
        "<a href=\"https://colab.research.google.com/github/vonnan/Leetcode/blob/main/LC0322_Coin_Change.ipynb\" target=\"_parent\"><img src=\"https://colab.research.google.com/assets/colab-badge.svg\" alt=\"Open In Colab\"/></a>"
      ]
    },
    {
      "cell_type": "code",
      "metadata": {
        "id": "t0LnBFya0Wio"
      },
      "source": [
        "\"\"\"\n",
        "322. Coin Change\n",
        "Medium\n",
        "\n",
        "6640\n",
        "\n",
        "192\n",
        "\n",
        "Add to List\n",
        "\n",
        "Share\n",
        "You are given an integer array coins representing coins of different denominations and an integer amount representing a total amount of money.\n",
        "\n",
        "Return the fewest number of coins that you need to make up that amount. If that amount of money cannot be made up by any combination of the coins, return -1.\n",
        "\n",
        "You may assume that you have an infinite number of each kind of coin.\n",
        "\n",
        " \n",
        "\n",
        "Example 1:\n",
        "\n",
        "Input: coins = [1,2,5], amount = 11\n",
        "Output: 3\n",
        "Explanation: 11 = 5 + 5 + 1\n",
        "Example 2:\n",
        "\n",
        "Input: coins = [2], amount = 3\n",
        "Output: -1\n",
        "Example 3:\n",
        "\n",
        "Input: coins = [1], amount = 0\n",
        "Output: 0\n",
        "Example 4:\n",
        "\n",
        "Input: coins = [1], amount = 1\n",
        "Output: 1\n",
        "Example 5:\n",
        "\n",
        "Input: coins = [1], amount = 2\n",
        "Output: 2\n",
        " \n",
        "\n",
        "Constraints:\n",
        "\n",
        "1 <= coins.length <= 12\n",
        "1 <= coins[i] <= 231 - 1\n",
        "0 <= amount <= 104\n",
        "\"\"\"\n",
        "class Solution:\n",
        "    def coinChange(self, coins: List[int], amount: int) -> int:\n",
        "        ways = [0] + [float(\"inf\")]*amount\n",
        "        for amt in range(amount+1):\n",
        "            for coin in coins:\n",
        "                if coin <= amt:\n",
        "                    ways[amt] = min(ways[amt], ways[amt - coin] + 1)\n",
        "        return ways[-1] if ways[-1]!=float(\"inf\") else -1\n",
        "        "
      ],
      "execution_count": null,
      "outputs": []
    }
  ]
}