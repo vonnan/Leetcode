{
  "nbformat": 4,
  "nbformat_minor": 0,
  "metadata": {
    "colab": {
      "name": "LC0159 Longest Substring with At Most Two Distinct Characters.ipynb",
      "provenance": [],
      "authorship_tag": "ABX9TyOvY4G+wL0m6uQxTw+aKJ7g",
      "include_colab_link": true
    },
    "kernelspec": {
      "name": "python3",
      "display_name": "Python 3"
    },
    "language_info": {
      "name": "python"
    }
  },
  "cells": [
    {
      "cell_type": "markdown",
      "metadata": {
        "id": "view-in-github",
        "colab_type": "text"
      },
      "source": [
        "<a href=\"https://colab.research.google.com/github/vonnan/Leetcode/blob/main/LC0159_Longest_Substring_with_At_Most_Two_Distinct_Characters.ipynb\" target=\"_parent\"><img src=\"https://colab.research.google.com/assets/colab-badge.svg\" alt=\"Open In Colab\"/></a>"
      ]
    },
    {
      "cell_type": "code",
      "metadata": {
        "id": "F6AYa_6Kekv8"
      },
      "source": [
        "\"\"\"\n",
        "159. Longest Substring with At Most Two Distinct Characters\n",
        "Medium\n",
        "\n",
        "1265\n",
        "\n",
        "21\n",
        "\n",
        "Add to List\n",
        "\n",
        "Share\n",
        "Given a string s, return the length of the longest substring that contains at most two distinct characters.\n",
        "\n",
        " \n",
        "\n",
        "Example 1:\n",
        "\n",
        "Input: s = \"eceba\"\n",
        "Output: 3\n",
        "Explanation: The substring is \"ece\" which its length is 3.\n",
        "Example 2:\n",
        "\n",
        "Input: s = \"ccaabbb\"\n",
        "Output: 5\n",
        "Explanation: The substring is \"aabbb\" which its length is 5.\n",
        " \n",
        "\n",
        "Constraints:\n",
        "\n",
        "1 <= s.length <= 104\n",
        "s consists of English letters.\n",
        "\"\"\"\n",
        "\n",
        "from collections import Counter\n",
        "class Solution:\n",
        "    def lengthOfLongestSubstringTwoDistinct(self, s: str) -> int:\n",
        "        counter = Counter()\n",
        "        res = i = 0\n",
        "        seen = set()\n",
        "        count = 0\n",
        "        \n",
        "        for j, ss in enumerate(s):\n",
        "            if ss not in seen:\n",
        "                count += 1\n",
        "                seen.add(ss)\n",
        "            counter[ss] += 1\n",
        "            \n",
        "            while count > 2:\n",
        "                if counter[s[i]] ==1:\n",
        "                    count -= 1\n",
        "                    seen.remove(s[i])\n",
        "                counter[s[i]] -= 1\n",
        "                i += 1\n",
        "            \n",
        "            res = max(res, j-i+1)\n",
        "            \n",
        "        return res\n",
        "            "
      ],
      "execution_count": null,
      "outputs": []
    }
  ]
}