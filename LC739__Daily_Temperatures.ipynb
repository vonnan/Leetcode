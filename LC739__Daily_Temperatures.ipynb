{
  "nbformat": 4,
  "nbformat_minor": 0,
  "metadata": {
    "colab": {
      "name": "LC739._Daily_Temperatures.ipynb",
      "provenance": [],
      "authorship_tag": "ABX9TyPyj0E8Mjxux6sOTzmULCcz",
      "include_colab_link": true
    },
    "kernelspec": {
      "name": "python3",
      "display_name": "Python 3"
    }
  },
  "cells": [
    {
      "cell_type": "markdown",
      "metadata": {
        "id": "view-in-github",
        "colab_type": "text"
      },
      "source": [
        "<a href=\"https://colab.research.google.com/github/vonnan/Leetcode/blob/main/LC739__Daily_Temperatures.ipynb\" target=\"_parent\"><img src=\"https://colab.research.google.com/assets/colab-badge.svg\" alt=\"Open In Colab\"/></a>"
      ]
    },
    {
      "cell_type": "code",
      "metadata": {
        "id": "3OjbIssOheu2"
      },
      "source": [
        "\"\"\"\n",
        "739. Daily Temperatures\n",
        "Medium\n",
        "\n",
        "3958\n",
        "\n",
        "120\n",
        "\n",
        "Add to List\n",
        "\n",
        "Share\n",
        "Given a list of daily temperatures T, return a list such that, for each day in the input, tells you how many days you would have to wait until a warmer temperature. If there is no future day for which this is possible, put 0 instead.\n",
        "\n",
        "For example, given the list of temperatures T = [73, 74, 75, 71, 69, 72, 76, 73], your output should be [1, 1, 4, 2, 1, 1, 0, 0].\n",
        "\n",
        "Note: The length of temperatures will be in the range [1, 30000]. Each temperature will be an integer in the range [30, 100].\n",
        "\n",
        "Accepted\n",
        "225,954\n",
        "Submissions\n",
        "349,146\n",
        "Seen this question in a real interview before?\n",
        "\n",
        "Yes\n",
        "\n",
        "No\n",
        "Companies\n",
        "Related Topics\n",
        "Similar Questions\n",
        "Show Hint 1\n",
        "\"\"\"\n",
        "\n",
        "class Solution:\n",
        "    def dailyTemperatures(self, T: List[int]) -> List[int]:\n",
        "        stack = []\n",
        "        res = [0] * len(T)\n",
        "        \n",
        "        for i in range(len(T)-1, -1, -1):\n",
        "            while stack and T[stack[-1]] <= T[i]:\n",
        "                stack.pop()\n",
        "            \n",
        "            if stack:\n",
        "                res[i] = stack[-1] - i\n",
        "                \n",
        "            stack.append(i)\n",
        "            \n",
        "        return res"
      ],
      "execution_count": null,
      "outputs": []
    }
  ]
}