{
  "nbformat": 4,
  "nbformat_minor": 0,
  "metadata": {
    "colab": {
      "name": "LC0862 Shortest Subarray with Sum at Least K.ipynb",
      "provenance": [],
      "authorship_tag": "ABX9TyPuKxEH6i7yhqzv4c3S9wKP",
      "include_colab_link": true
    },
    "kernelspec": {
      "name": "python3",
      "display_name": "Python 3"
    },
    "language_info": {
      "name": "python"
    }
  },
  "cells": [
    {
      "cell_type": "markdown",
      "metadata": {
        "id": "view-in-github",
        "colab_type": "text"
      },
      "source": [
        "<a href=\"https://colab.research.google.com/github/vonnan/Leetcode/blob/main/LC0862_Shortest_Subarray_with_Sum_at_Least_K.ipynb\" target=\"_parent\"><img src=\"https://colab.research.google.com/assets/colab-badge.svg\" alt=\"Open In Colab\"/></a>"
      ]
    },
    {
      "cell_type": "code",
      "metadata": {
        "id": "s9AAECxbM_Oy"
      },
      "source": [
        "\n",
        "\"\"\"\n",
        "862. Shortest Subarray with Sum at Least K\n",
        "Hard\n",
        "\n",
        "1692\n",
        "\n",
        "38\n",
        "\n",
        "Add to List\n",
        "\n",
        "Share\n",
        "Return the length of the shortest, non-empty, contiguous subarray of A with sum at least K.\n",
        "\n",
        "If there is no non-empty subarray with sum at least K, return -1.\n",
        "\n",
        " \n",
        "\n",
        "Example 1:\n",
        "\n",
        "Input: A = [1], K = 1\n",
        "Output: 1\n",
        "Example 2:\n",
        "\n",
        "Input: A = [1,2], K = 4\n",
        "Output: -1\n",
        "Example 3:\n",
        "\n",
        "Input: A = [2,-1,2], K = 3\n",
        "Output: 3\n",
        " \n",
        "\n",
        "Note:\n",
        "\n",
        "1 <= A.length <= 50000\n",
        "-10 ^ 5 <= A[i] <= 10 ^ 5\n",
        "1 <= K <= 10 ^ 9\n",
        "\"\"\"\n",
        "from heapq import heappush\n",
        "from heapq import heappop\n",
        "\n",
        "class Solution:\n",
        "    def shortestSubarray(self, A: List[int], K: int) -> int:\n",
        "        \n",
        "        presum = 0\n",
        "        heap = [(0,-1)]\n",
        "        res = len(A) + 1\n",
        "        \n",
        "        for i,a in enumerate(A):\n",
        "            presum += a\n",
        "            diff = presum -K\n",
        "            \n",
        "            while heap and heap[0][0] <= diff:\n",
        "                psum,idx = heappop(heap)\n",
        "                res = min(res, i - idx )\n",
        "            \n",
        "            heappush(heap, (presum, i))\n",
        "            \n",
        "        return res if res <= len(A) else -1"
      ],
      "execution_count": null,
      "outputs": []
    }
  ]
}