{
  "nbformat": 4,
  "nbformat_minor": 0,
  "metadata": {
    "colab": {
      "name": "LC0850. Rectangle Area II.ipynb",
      "provenance": [],
      "authorship_tag": "ABX9TyOgy7VFdCJ3m5eigT4WS6lj",
      "include_colab_link": true
    },
    "kernelspec": {
      "name": "python3",
      "display_name": "Python 3"
    },
    "language_info": {
      "name": "python"
    }
  },
  "cells": [
    {
      "cell_type": "markdown",
      "metadata": {
        "id": "view-in-github",
        "colab_type": "text"
      },
      "source": [
        "<a href=\"https://colab.research.google.com/github/vonnan/Leetcode/blob/main/LC0850_Rectangle_Area_II.ipynb\" target=\"_parent\"><img src=\"https://colab.research.google.com/assets/colab-badge.svg\" alt=\"Open In Colab\"/></a>"
      ]
    },
    {
      "cell_type": "code",
      "metadata": {
        "id": "l5C0F6j_UHcC"
      },
      "source": [
        "\"\"\"\n",
        "850. Rectangle Area II\n",
        "Hard\n",
        "\n",
        "450\n",
        "\n",
        "32\n",
        "\n",
        "Add to List\n",
        "\n",
        "Share\n",
        "We are given a list of (axis-aligned) rectangles. Each rectangle[i] = [xi1, yi1, xi2, yi2] , where (xi1, yi1) are the coordinates of the bottom-left corner, and (xi2, yi2) are the coordinates of the top-right corner of the ith rectangle.\n",
        "\n",
        "Find the total area covered by all rectangles in the plane. Since the answer may be too large, return it modulo 109 + 7.\n",
        "\n",
        " \n",
        "\n",
        "Example 1:\n",
        "\n",
        "\n",
        "Input: rectangles = [[0,0,2,2],[1,0,2,3],[1,0,3,1]]\n",
        "Output: 6\n",
        "Explanation: As illustrated in the picture.\n",
        "Example 2:\n",
        "\n",
        "Input: rectangles = [[0,0,1000000000,1000000000]]\n",
        "Output: 49\n",
        "Explanation: The answer is 1018 modulo (109 + 7), which is (109)2 = (-7)2 = 49.\n",
        " \n",
        "\n",
        "Constraints:\n",
        "\n",
        "1 <= rectangles.length <= 200\n",
        "rectanges[i].length = 4\n",
        "0 <= rectangles[i][j] <= 109\n",
        "The total area covered by all rectangles will never exceed 263 - 1 and thus will fit in a 64-bit signed integer.\n",
        "\"\"\"\n",
        "class Solution:\n",
        "    def rectangleArea(self, rectangles: List[List[int]]) -> int:\n",
        "        mod = 10**9 + 7\n",
        "        \n",
        "        heights = set()\n",
        "        \n",
        "        \n",
        "        for x1, y1, x2, y2 in rectangles:\n",
        "            heights.add(y1)\n",
        "            heights.add(y2)\n",
        "        \n",
        "        heights = sorted(list(heights), reverse = 1)\n",
        "        \n",
        "        def getwidth(xs):\n",
        "            width = 0\n",
        "            xs.sort()\n",
        "            start, end = xs[0]\n",
        "            for s,e in xs:\n",
        "                if s > end:\n",
        "                    width += end - start\n",
        "                    start = s\n",
        "                end = max(e, end)\n",
        "            \n",
        "            width += end - start\n",
        "            \n",
        "            return width\n",
        "        \n",
        "        res = 0\n",
        "        \n",
        "        for i, h in enumerate(heights[:-1]):\n",
        "            xs = []\n",
        "            for x1, y1, x2, y2 in rectangles:\n",
        "                if y1< h<= y2:\n",
        "                    xs.append([x1,x2])\n",
        "            if xs:\n",
        "                width = getwidth(xs)\n",
        "                res += width*(h - heights[i+1])\n",
        "        \n",
        "        return res % mod\n"
      ],
      "execution_count": null,
      "outputs": []
    }
  ]
}