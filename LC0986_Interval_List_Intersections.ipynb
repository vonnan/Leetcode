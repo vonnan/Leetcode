{
  "nbformat": 4,
  "nbformat_minor": 0,
  "metadata": {
    "colab": {
      "name": "LC0986_Interval_List_Intersections.ipynb",
      "provenance": [],
      "authorship_tag": "ABX9TyN5ODduH79KEke+riwd44iZ",
      "include_colab_link": true
    },
    "kernelspec": {
      "name": "python3",
      "display_name": "Python 3"
    }
  },
  "cells": [
    {
      "cell_type": "markdown",
      "metadata": {
        "id": "view-in-github",
        "colab_type": "text"
      },
      "source": [
        "<a href=\"https://colab.research.google.com/github/vonnan/Leetcode/blob/main/LC0986_Interval_List_Intersections.ipynb\" target=\"_parent\"><img src=\"https://colab.research.google.com/assets/colab-badge.svg\" alt=\"Open In Colab\"/></a>"
      ]
    },
    {
      "cell_type": "code",
      "metadata": {
        "id": "5yrGQhENycJn"
      },
      "source": [
        "\"\"\"\n",
        "986. Interval List Intersections\n",
        "Medium\n",
        "\n",
        "\n",
        "2073\n",
        "\n",
        "59\n",
        "\n",
        "Add to List\n",
        "\n",
        "Share\n",
        "You are given two lists of closed intervals, firstList and secondList, where firstList[i] = [starti, endi] and secondList[j] = [startj, endj]. Each list of intervals is pairwise disjoint and in sorted order.\n",
        "\n",
        "Return the intersection of these two interval lists.\n",
        "\n",
        "A closed interval [a, b] (with a < b) denotes the set of real numbers x with a <= x <= b.\n",
        "\n",
        "The intersection of two closed intervals is a set of real numbers that are either empty or represented as a closed interval. For example, the intersection of [1, 3] and [2, 4] is [2, 3].\n",
        "\n",
        " \n",
        "\n",
        "Example 1:\n",
        "\n",
        "\n",
        "Input: firstList = [[0,2],[5,10],[13,23],[24,25]], secondList = [[1,5],[8,12],[15,24],[25,26]]\n",
        "Output: [[1,2],[5,5],[8,10],[15,23],[24,24],[25,25]]\n",
        "Example 2:\n",
        "\n",
        "Input: firstList = [[1,3],[5,9]], secondList = []\n",
        "Output: []\n",
        "Example 3:\n",
        "\n",
        "Input: firstList = [], secondList = [[4,8],[10,12]]\n",
        "Output: []\n",
        "Example 4:\n",
        "\n",
        "Input: firstList = [[1,7]], secondList = [[3,10]]\n",
        "Output: [[3,7]]\n",
        " \n",
        "\n",
        "Constraints:\n",
        "\n",
        "0 <= firstList.length, secondList.length <= 1000\n",
        "firstList.length + secondList.length >= 1\n",
        "0 <= starti < endi <= 109\n",
        "endi < starti+1\n",
        "0 <= startj < endj <= 109\n",
        "endj < startj+1\n",
        "\"\"\"\n",
        "\n",
        "class Solution:\n",
        "    def intervalIntersection(self, firstList: List[List[int]], secondList: List[List[int]]) -> List[List[int]]:\n",
        "        res = []\n",
        "        i, j = 0, 0\n",
        "        \n",
        "        while i < len(firstList) and j < len(secondList):\n",
        "            x1, y1 = firstList[i]\n",
        "            x2, y2 = secondList[j]\n",
        "            \n",
        "            left = max(x1,x2)\n",
        "            \n",
        "            if y1 < y2:\n",
        "                i+= 1\n",
        "                if left <= y1:\n",
        "                    res.append([left, y1])\n",
        "            else:\n",
        "                j += 1\n",
        "                if left <= y2:\n",
        "                    res.append([left, y2])\n",
        "            \n",
        "        return res\n",
        "            \n",
        "           "
      ],
      "execution_count": null,
      "outputs": []
    }
  ]
}