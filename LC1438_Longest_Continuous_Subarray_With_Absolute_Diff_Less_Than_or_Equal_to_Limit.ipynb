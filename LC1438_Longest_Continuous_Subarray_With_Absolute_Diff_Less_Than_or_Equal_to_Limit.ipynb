{
  "nbformat": 4,
  "nbformat_minor": 0,
  "metadata": {
    "colab": {
      "name": "LC1438 Longest Continuous Subarray With Absolute Diff Less Than or Equal to Limit.ipynb",
      "provenance": [],
      "authorship_tag": "ABX9TyPfJz9LGJAUqnTUcUDkrxb4",
      "include_colab_link": true
    },
    "kernelspec": {
      "name": "python3",
      "display_name": "Python 3"
    },
    "language_info": {
      "name": "python"
    }
  },
  "cells": [
    {
      "cell_type": "markdown",
      "metadata": {
        "id": "view-in-github",
        "colab_type": "text"
      },
      "source": [
        "<a href=\"https://colab.research.google.com/github/vonnan/Leetcode/blob/main/LC1438_Longest_Continuous_Subarray_With_Absolute_Diff_Less_Than_or_Equal_to_Limit.ipynb\" target=\"_parent\"><img src=\"https://colab.research.google.com/assets/colab-badge.svg\" alt=\"Open In Colab\"/></a>"
      ]
    },
    {
      "cell_type": "code",
      "metadata": {
        "id": "J2diVbo0nMbP"
      },
      "source": [
        "\"\"\"\n",
        "1438. Longest Continuous Subarray With Absolute Diff Less Than or Equal to Limit\n",
        "Medium\n",
        "\n",
        "1237\n",
        "\n",
        "60\n",
        "\n",
        "Add to List\n",
        "\n",
        "Share\n",
        "Given an array of integers nums and an integer limit, return the size of the longest non-empty subarray such that the absolute difference between any two elements of this subarray is less than or equal to limit.\n",
        "\n",
        " \n",
        "\n",
        "Example 1:\n",
        "\n",
        "Input: nums = [8,2,4,7], limit = 4\n",
        "Output: 2 \n",
        "Explanation: All subarrays are: \n",
        "[8] with maximum absolute diff |8-8| = 0 <= 4.\n",
        "[8,2] with maximum absolute diff |8-2| = 6 > 4. \n",
        "[8,2,4] with maximum absolute diff |8-2| = 6 > 4.\n",
        "[8,2,4,7] with maximum absolute diff |8-2| = 6 > 4.\n",
        "[2] with maximum absolute diff |2-2| = 0 <= 4.\n",
        "[2,4] with maximum absolute diff |2-4| = 2 <= 4.\n",
        "[2,4,7] with maximum absolute diff |2-7| = 5 > 4.\n",
        "[4] with maximum absolute diff |4-4| = 0 <= 4.\n",
        "[4,7] with maximum absolute diff |4-7| = 3 <= 4.\n",
        "[7] with maximum absolute diff |7-7| = 0 <= 4. \n",
        "Therefore, the size of the longest subarray is 2.\n",
        "Example 2:\n",
        "\n",
        "Input: nums = [10,1,2,4,7,2], limit = 5\n",
        "Output: 4 \n",
        "Explanation: The subarray [2,4,7,2] is the longest since the maximum absolute diff is |2-7| = 5 <= 5.\n",
        "Example 3:\n",
        "\n",
        "Input: nums = [4,2,2,2,4,4,2,2], limit = 0\n",
        "Output: 3\n",
        " \n",
        "\n",
        "Constraints:\n",
        "\n",
        "1 <= nums.length <= 105\n",
        "1 <= nums[i] <= 109\n",
        "0 <= limit <= 109\n",
        "\"\"\"\n",
        "\n",
        "from heapq import heappush\n",
        "from heapq import heappop\n",
        "class Solution:\n",
        "    def longestSubarray(self, nums: List[int], limit: int) -> int:\n",
        "        res = 0\n",
        "        i = -1\n",
        "        heap_min = []\n",
        "        heap_max = []\n",
        "        \n",
        "        for j, num in enumerate(nums):\n",
        "            heappush(heap_min, (num, j))\n",
        "            heappush(heap_max, (-num, j))\n",
        "            while -heap_max[0][0] - heap_min[0][0] > limit:\n",
        "                #j is either in heap_max[0][1] or heap_min[0][1]\n",
        "                i = min(heap_max[0][1], heap_min[0][1])\n",
        "                \n",
        "                while heap_max[0][1] <=i:\n",
        "                    heappop(heap_max)\n",
        "                \n",
        "                while heap_min[0][1] <=i:\n",
        "                    heappop(heap_min)\n",
        "                \n",
        "                # clean up the heap with the index that is in front of the \"troubled\" one\n",
        "                \n",
        "            res = max(res, j-i)\n",
        "        \n",
        "        return res\n",
        "\n"
      ],
      "execution_count": null,
      "outputs": []
    }
  ]
}