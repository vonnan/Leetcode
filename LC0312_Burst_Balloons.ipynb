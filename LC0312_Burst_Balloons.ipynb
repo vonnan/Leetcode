{
  "nbformat": 4,
  "nbformat_minor": 0,
  "metadata": {
    "colab": {
      "name": "LC0312 Burst Balloons.ipynb",
      "provenance": [],
      "authorship_tag": "ABX9TyNh1OuT1Ew0JwC/p1g951MF",
      "include_colab_link": true
    },
    "kernelspec": {
      "name": "python3",
      "display_name": "Python 3"
    },
    "language_info": {
      "name": "python"
    }
  },
  "cells": [
    {
      "cell_type": "markdown",
      "metadata": {
        "id": "view-in-github",
        "colab_type": "text"
      },
      "source": [
        "<a href=\"https://colab.research.google.com/github/vonnan/Leetcode/blob/main/LC0312_Burst_Balloons.ipynb\" target=\"_parent\"><img src=\"https://colab.research.google.com/assets/colab-badge.svg\" alt=\"Open In Colab\"/></a>"
      ]
    },
    {
      "cell_type": "code",
      "metadata": {
        "id": "23IpXid8oY5X"
      },
      "source": [
        "\"\"\"\n",
        "312. Burst Balloons\n",
        "Hard\n",
        "\n",
        "3532\n",
        "\n",
        "108\n",
        "\n",
        "Add to List\n",
        "\n",
        "Share\n",
        "You are given n balloons, indexed from 0 to n - 1. Each balloon is painted with a number on it represented by an array nums. You are asked to burst all the balloons.\n",
        "\n",
        "If you burst the ith balloon, you will get nums[i - 1] * nums[i] * nums[i + 1] coins. If i - 1 or i + 1 goes out of bounds of the array, then treat it as if there is a balloon with a 1 painted on it.\n",
        "\n",
        "Return the maximum coins you can collect by bursting the balloons wisely.\n",
        "\n",
        " \n",
        "\n",
        "Example 1:\n",
        "\n",
        "Input: nums = [3,1,5,8]\n",
        "Output: 167\n",
        "Explanation:\n",
        "nums = [3,1,5,8] --> [3,5,8] --> [3,8] --> [8] --> []\n",
        "coins =  3*1*5    +   3*5*8   +  1*3*8  + 1*8*1 = 167\n",
        "Example 2:\n",
        "\n",
        "Input: nums = [1,5]\n",
        "Output: 10\n",
        " \n",
        "\n",
        "Constraints:\n",
        "\n",
        "n == nums.length\n",
        "1 <= n <= 500\n",
        "0 <= nums[i] <= 100\n",
        "Accepted\n",
        "133,416\n",
        "Submissions\n",
        "247,282\n",
        "\"\"\"\n",
        "\n",
        "class Solution:\n",
        "    def maxCoins(self, nums: List[int]) -> int:\n",
        "        \n",
        "        def maxcoin(nums, memo = {}):\n",
        "            if nums not in memo:\n",
        "                first , last = nums[0], nums[-1]\n",
        "                ans = max([maxcoin(nums[:k+1]) + maxcoin(nums[k:]) + first * nums[k] * last for k in range(1, len(nums)-1)] or [0])\n",
        "                memo[nums] = ans\n",
        "            return memo[nums]\n",
        "        \n",
        "        return maxcoin(tuple([1] + nums + [1]))\n",
        "                \n"
      ],
      "execution_count": null,
      "outputs": []
    }
  ]
}