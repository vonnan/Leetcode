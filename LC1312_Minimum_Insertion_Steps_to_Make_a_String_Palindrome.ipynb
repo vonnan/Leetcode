{
  "nbformat": 4,
  "nbformat_minor": 0,
  "metadata": {
    "colab": {
      "name": "LC1312 Minimum Insertion Steps to Make a String Palindrome.ipynb",
      "provenance": [],
      "authorship_tag": "ABX9TyOpLxyP8Bpxu88j3a4+8mRL",
      "include_colab_link": true
    },
    "kernelspec": {
      "name": "python3",
      "display_name": "Python 3"
    },
    "language_info": {
      "name": "python"
    }
  },
  "cells": [
    {
      "cell_type": "markdown",
      "metadata": {
        "id": "view-in-github",
        "colab_type": "text"
      },
      "source": [
        "<a href=\"https://colab.research.google.com/github/vonnan/Leetcode/blob/main/LC1312_Minimum_Insertion_Steps_to_Make_a_String_Palindrome.ipynb\" target=\"_parent\"><img src=\"https://colab.research.google.com/assets/colab-badge.svg\" alt=\"Open In Colab\"/></a>"
      ]
    },
    {
      "cell_type": "code",
      "metadata": {
        "id": "ULXpRsPNYihg"
      },
      "source": [
        "\"\"\"\n",
        "1312. Minimum Insertion Steps to Make a String Palindrome\n",
        "Hard\n",
        "\n",
        "730\n",
        "\n",
        "13\n",
        "\n",
        "Add to List\n",
        "\n",
        "Share\n",
        "Given a string s. In one step you can insert any character at any index of the string.\n",
        "\n",
        "Return the minimum number of steps to make s palindrome.\n",
        "\n",
        "A Palindrome String is one that reads the same backward as well as forward.\n",
        "\n",
        " \n",
        "\n",
        "Example 1:\n",
        "\n",
        "Input: s = \"zzazz\"\n",
        "Output: 0\n",
        "Explanation: The string \"zzazz\" is already palindrome we don't need any insertions.\n",
        "Example 2:\n",
        "\n",
        "Input: s = \"mbadm\"\n",
        "Output: 2\n",
        "Explanation: String can be \"mbdadbm\" or \"mdbabdm\".\n",
        "Example 3:\n",
        "\n",
        "Input: s = \"leetcode\"\n",
        "Output: 5\n",
        "Explanation: Inserting 5 characters the string becomes \"leetcodocteel\".\n",
        "Example 4:\n",
        "\n",
        "Input: s = \"g\"\n",
        "Output: 0\n",
        "Example 5:\n",
        "\n",
        "Input: s = \"no\"\n",
        "Output: 1\n",
        " \n",
        "\n",
        "Constraints:\n",
        "\n",
        "1 <= s.length <= 500\n",
        "All characters of s are lower case English letters.\n",
        "Accepted\n",
        "23,143\n",
        "Submissions\n",
        "38,464\n",
        "Seen this question in a real interview before?\n",
        "\n",
        "Yes\n",
        "\n",
        "No\n",
        "\"\"\"\n",
        "\n",
        "class Solution:\n",
        "    def minInsertions(self, s: str) -> int:\n",
        "        s2 = s[::-1]\n",
        "        n = len(s)\n",
        "        \n",
        "        memo = [[0]* (n +1) for i in range(n+1)]\n",
        "        \n",
        "        for i in range(n):\n",
        "            for j in range(n):\n",
        "                if s[i] == s2[j]:\n",
        "                    memo[i+1][j+1]  = 1 + memo[i][j]\n",
        "                \n",
        "                else:\n",
        "                    memo[i+1][j+1] = max(memo[i][j+1], memo[i+1][j])\n",
        "                \n",
        "        return n - memo[n][n]\n"
      ],
      "execution_count": null,
      "outputs": []
    }
  ]
}