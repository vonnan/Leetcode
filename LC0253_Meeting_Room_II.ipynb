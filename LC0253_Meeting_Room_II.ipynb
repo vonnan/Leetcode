{
  "nbformat": 4,
  "nbformat_minor": 0,
  "metadata": {
    "colab": {
      "name": "LC0253_Meeting_Room_II.ipynb",
      "provenance": [],
      "authorship_tag": "ABX9TyN4No5uDeCidWwxQncqMRmS",
      "include_colab_link": true
    },
    "kernelspec": {
      "name": "python3",
      "display_name": "Python 3"
    }
  },
  "cells": [
    {
      "cell_type": "markdown",
      "metadata": {
        "id": "view-in-github",
        "colab_type": "text"
      },
      "source": [
        "<a href=\"https://colab.research.google.com/github/vonnan/Leetcode/blob/main/LC0253_Meeting_Room_II.ipynb\" target=\"_parent\"><img src=\"https://colab.research.google.com/assets/colab-badge.svg\" alt=\"Open In Colab\"/></a>"
      ]
    },
    {
      "cell_type": "code",
      "metadata": {
        "id": "bDFB-MCSiIOM"
      },
      "source": [
        "\"\"\"\n",
        "253. Meeting Rooms II\n",
        "Medium\n",
        "\n",
        "3520\n",
        "\n",
        "57\n",
        "\n",
        "Add to List\n",
        "\n",
        "Share\n",
        "Given an array of meeting time intervals intervals where intervals[i] = [starti, endi], return the minimum number of conference rooms required.\n",
        "\n",
        " \n",
        "\n",
        "Example 1:\n",
        "\n",
        "Input: intervals = [[0,30],[5,10],[15,20]]\n",
        "Output: 2\n",
        "Example 2:\n",
        "\n",
        "Input: intervals = [[7,10],[2,4]]\n",
        "Output: 1\n",
        " \n",
        "\n",
        "Constraints:\n",
        "\n",
        "1 <= intervals.length <= 104\n",
        "0 <= starti < endi <= 106\n",
        "\n",
        "\"\"\"\n",
        "\n",
        "from heapq import heappush\n",
        "from heapq import heappop\n",
        "class Solution:\n",
        "    def minMeetingRooms(self, intervals: List[List[int]]) -> int:\n",
        "        \n",
        "        if len(intervals) ==1:\n",
        "            return 1\n",
        "        \n",
        "        heap = []\n",
        "        \n",
        "        intervals.sort()\n",
        "        #need to sort the intervals first!\n",
        "        \n",
        "        heappush(heap, intervals[0][1])\n",
        "        count = 1\n",
        "        \n",
        "        for x,y in intervals[1:]:\n",
        "            if x < heap[0]:\n",
        "                count += 1\n",
        "                heappush(heap, y)\n",
        "                #if the start time started earlier than the earliest end time, we need to add one more conference room\n",
        "            else:\n",
        "                heappop(heap)\n",
        "                heappush(heap, y)\n",
        "                #if the start time started later than the earliest end time, we should be fine. not conference room is needed. but the earliest end time need to be updated with the new schedule\n",
        "        \n",
        "        return count\n",
        "                \n"
      ],
      "execution_count": null,
      "outputs": []
    }
  ]
}