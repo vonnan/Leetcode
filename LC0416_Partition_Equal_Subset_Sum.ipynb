{
  "nbformat": 4,
  "nbformat_minor": 0,
  "metadata": {
    "colab": {
      "name": "LC0416 Partition Equal Subset Sum.ipynb",
      "provenance": [],
      "authorship_tag": "ABX9TyMyMJ5xukfbpCefk35VPti1",
      "include_colab_link": true
    },
    "kernelspec": {
      "name": "python3",
      "display_name": "Python 3"
    },
    "language_info": {
      "name": "python"
    }
  },
  "cells": [
    {
      "cell_type": "markdown",
      "metadata": {
        "id": "view-in-github",
        "colab_type": "text"
      },
      "source": [
        "<a href=\"https://colab.research.google.com/github/vonnan/Leetcode/blob/main/LC0416_Partition_Equal_Subset_Sum.ipynb\" target=\"_parent\"><img src=\"https://colab.research.google.com/assets/colab-badge.svg\" alt=\"Open In Colab\"/></a>"
      ]
    },
    {
      "cell_type": "code",
      "metadata": {
        "id": "d0JnM7wJ3adC"
      },
      "source": [
        "\"\"\"\n",
        "416. Partition Equal Subset Sum\n",
        "Medium\n",
        "\n",
        "4229\n",
        "\n",
        "94\n",
        "\n",
        "Add to List\n",
        "\n",
        "Share\n",
        "Given a non-empty array nums containing only positive integers, find if the array can be partitioned into two subsets such that the sum of elements in both subsets is equal.\n",
        "\n",
        " \n",
        "\n",
        "Example 1:\n",
        "\n",
        "Input: nums = [1,5,11,5]\n",
        "Output: true\n",
        "Explanation: The array can be partitioned as [1, 5, 5] and [11].\n",
        "Example 2:\n",
        "\n",
        "Input: nums = [1,2,3,5]\n",
        "Output: false\n",
        "Explanation: The array cannot be partitioned into equal sum subsets.\n",
        " \n",
        "\n",
        "Constraints:\n",
        "\n",
        "1 <= nums.length <= 200\n",
        "1 <= nums[i] <= 100\n",
        "\"\"\"\n",
        "class Solution:\n",
        "    def canPartition(self, nums: List[int]) -> bool:\n",
        "        target = sum(nums)\n",
        "        if len(nums) ==1 or target%2 ==1:\n",
        "            return False\n",
        "        \n",
        "        target //= 2\n",
        "        \n",
        "        sets = set([nums[0]])\n",
        "        \n",
        "        for n in nums[1:]:\n",
        "            for s in list(sets):\n",
        "                sets.add(n + s)\n",
        "                \n",
        "        return target in sets\n"
      ],
      "execution_count": null,
      "outputs": []
    },
    {
      "cell_type": "code",
      "metadata": {
        "id": "uY4vgmjP9d3e"
      },
      "source": [
        "class Solution:\n",
        "    def canPartition(self, nums: List[int]) -> bool:\n",
        "        nums.sort()\n",
        "        target = sum(nums)//2\n",
        "        \n",
        "        if sum(nums) %2 ==1 or nums[-1] > target:\n",
        "            return False\n",
        "        \n",
        "        sets = set([nums[0]])\n",
        "        \n",
        "        for num in nums[1:]:\n",
        "            if num + nums[0] > target:\n",
        "                break\n",
        "            for s in list(sets):\n",
        "                sets.add(num + s)\n",
        "                if num + s == target:\n",
        "                    return True\n",
        "                \n",
        "                \n",
        "        return target in sets\n"
      ],
      "execution_count": null,
      "outputs": []
    }
  ]
}