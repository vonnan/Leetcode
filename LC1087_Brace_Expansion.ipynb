{
  "nbformat": 4,
  "nbformat_minor": 0,
  "metadata": {
    "colab": {
      "name": "LC1087 Brace Expansion.ipynb",
      "provenance": [],
      "authorship_tag": "ABX9TyOIw8cb55SZLi41Z/cpM473",
      "include_colab_link": true
    },
    "kernelspec": {
      "name": "python3",
      "display_name": "Python 3"
    },
    "language_info": {
      "name": "python"
    }
  },
  "cells": [
    {
      "cell_type": "markdown",
      "metadata": {
        "id": "view-in-github",
        "colab_type": "text"
      },
      "source": [
        "<a href=\"https://colab.research.google.com/github/vonnan/Leetcode/blob/main/LC1087_Brace_Expansion.ipynb\" target=\"_parent\"><img src=\"https://colab.research.google.com/assets/colab-badge.svg\" alt=\"Open In Colab\"/></a>"
      ]
    },
    {
      "cell_type": "code",
      "metadata": {
        "id": "f6gDGYBk6kXz"
      },
      "source": [
        "\"\"\"\n",
        "1087. Brace Expansion\n",
        "Medium\n",
        "\n",
        "320\n",
        "\n",
        "33\n",
        "\n",
        "Add to List\n",
        "\n",
        "Share\n",
        "You are given a string s representing a list of words. Each letter in the word has one or more options.\n",
        "\n",
        "If there is one option, the letter is represented as is.\n",
        "If there is more than one option, then curly braces delimit the options. For example, \"{a,b,c}\" represents options [\"a\", \"b\", \"c\"].\n",
        "For example, if s = \"a{b,c}\", the first character is always 'a', but the second character can be 'b' or 'c'. The original list is [\"ab\", \"ac\"].\n",
        "\n",
        "Return all words that can be formed in this manner, sorted in lexicographical order.\n",
        "\n",
        " \n",
        "\n",
        "Example 1:\n",
        "\n",
        "Input: s = \"{a,b}c{d,e}f\"\n",
        "Output: [\"acdf\",\"acef\",\"bcdf\",\"bcef\"]\n",
        "Example 2:\n",
        "\n",
        "Input: s = \"abcd\"\n",
        "Output: [\"abcd\"]\n",
        " \n",
        "\n",
        "Constraints:\n",
        "\n",
        "1 <= s.length <= 50\n",
        "s consists of curly brackets '{}', commas ',', and lowercase English letters.\n",
        "s is guaranteed to be a valid input.\n",
        "There are no nested curly brackets.\n",
        "All characters inside a pair of consecutive opening and ending curly brackets are different.\n",
        "\"\"\"\n",
        "from itertools import product\n",
        "class Solution:\n",
        "    def expand(self, s: str) -> List[str]:\n",
        "        A = s.replace(\"{\", \" \"). replace(\"}\", \" \").strip().split()\n",
        "        B = [sorted(x.split(\",\")) for x in A]\n",
        "        return [\"\".join(c) for c in product(*B)]\n",
        "    "
      ],
      "execution_count": null,
      "outputs": []
    }
  ]
}