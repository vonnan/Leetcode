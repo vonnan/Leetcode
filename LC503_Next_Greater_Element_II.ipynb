{
  "nbformat": 4,
  "nbformat_minor": 0,
  "metadata": {
    "colab": {
      "name": "LC503_Next_Greater_Element_II.ipynb",
      "provenance": [],
      "authorship_tag": "ABX9TyO99uX4zvOl4CyRhv+Bt0+S",
      "include_colab_link": true
    },
    "kernelspec": {
      "name": "python3",
      "display_name": "Python 3"
    }
  },
  "cells": [
    {
      "cell_type": "markdown",
      "metadata": {
        "id": "view-in-github",
        "colab_type": "text"
      },
      "source": [
        "<a href=\"https://colab.research.google.com/github/vonnan/Leetcode/blob/main/LC503_Next_Greater_Element_II.ipynb\" target=\"_parent\"><img src=\"https://colab.research.google.com/assets/colab-badge.svg\" alt=\"Open In Colab\"/></a>"
      ]
    },
    {
      "cell_type": "code",
      "metadata": {
        "id": "WTgwBtjz2snr"
      },
      "source": [
        "\"\"\"\n",
        "503. Next Greater Element II\n",
        "Medium\n",
        "\n",
        "\n",
        "2257\n",
        "\n",
        "89\n",
        "\n",
        "Add to List\n",
        "\n",
        "Share\n",
        "Given a circular array (the next element of the last element is the first element of the array), print the Next Greater Number for every element. The Next Greater Number of a number x is the first greater number to its traversing-order next in the array, which means you could search circularly to find its next greater number. If it doesn't exist, output -1 for this number.\n",
        "\n",
        "Example 1:\n",
        "\n",
        "Input: [1,2,1]\n",
        "Output: [2,-1,2]\n",
        "Explanation: The first 1's next greater number is 2; \n",
        "The number 2 can't find next greater number; \n",
        "The second 1's next greater number needs to search circularly, which is also 2.\n",
        "Note: The length of given array won't exceed 10000.\n",
        "\n",
        "\n",
        "\"\"\"\n",
        "\n",
        "\n",
        "class Solution:\n",
        "    def nextGreaterElements(self, nums: List[int]) -> List[int]:\n",
        "        if len(nums) ==0:\n",
        "            return []\n",
        "        max_n = max(nums)\n",
        "        n = len(nums)\n",
        "        nums.extend(nums)\n",
        "        res = []\n",
        "        for i in range(n):\n",
        "            num = nums[i]\n",
        "            if num == max_n:\n",
        "                res.append(-1)\n",
        "                continue\n",
        "            for j in range(i+1, 2*n):\n",
        "                if nums[j] > num:\n",
        "                    res.append(nums[j])\n",
        "                    break\n",
        "        return res\n",
        "                "
      ],
      "execution_count": null,
      "outputs": []
    }
  ]
}