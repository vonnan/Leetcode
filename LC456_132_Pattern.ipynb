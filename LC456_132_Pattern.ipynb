{
  "nbformat": 4,
  "nbformat_minor": 0,
  "metadata": {
    "colab": {
      "name": "LC456_132_Pattern.ipynb",
      "provenance": [],
      "authorship_tag": "ABX9TyPTJvktrdfkkPkpEDQlGnfX",
      "include_colab_link": true
    },
    "kernelspec": {
      "name": "python3",
      "display_name": "Python 3"
    }
  },
  "cells": [
    {
      "cell_type": "markdown",
      "metadata": {
        "id": "view-in-github",
        "colab_type": "text"
      },
      "source": [
        "<a href=\"https://colab.research.google.com/github/vonnan/Leetcode/blob/main/LC456_132_Pattern.ipynb\" target=\"_parent\"><img src=\"https://colab.research.google.com/assets/colab-badge.svg\" alt=\"Open In Colab\"/></a>"
      ]
    },
    {
      "cell_type": "code",
      "metadata": {
        "id": "jYuhHwRNsmAP"
      },
      "source": [
        "\"\"\"\n",
        "456. 132 Pattern\n",
        "Medium\n",
        "\n",
        "2178\n",
        "\n",
        "138\n",
        "\n",
        "Add to List\n",
        "\n",
        "Share\n",
        "Given an array of n integers nums, a 132 pattern is a subsequence of three integers nums[i], nums[j] and nums[k] such that i < j < k and nums[i] < nums[k] < nums[j].\n",
        "\n",
        "Return true if there is a 132 pattern in nums, otherwise, return false.\n",
        "\n",
        "Follow up: The O(n^2) is trivial, could you come up with the O(n logn) or the O(n) solution?\n",
        "\n",
        " \n",
        "\n",
        "Example 1:\n",
        "\n",
        "Input: nums = [1,2,3,4]\n",
        "Output: false\n",
        "Explanation: There is no 132 pattern in the sequence.\n",
        "Example 2:\n",
        "\n",
        "Input: nums = [3,1,4,2]\n",
        "Output: true\n",
        "Explanation: There is a 132 pattern in the sequence: [1, 4, 2].\n",
        "Example 3:\n",
        "\n",
        "Input: nums = [-1,3,2,0]\n",
        "Output: true\n",
        "Explanation: There are three 132 patterns in the sequence: [-1, 3, 2], [-1, 3, 0] and [-1, 2, 0].\n",
        " \n",
        "\n",
        "Constraints:\n",
        "\n",
        "n == nums.length\n",
        "1 <= n <= 104\n",
        "-109 <= nums[i] <= 109\n",
        "\"\"\"\n",
        "\n",
        "from heapq import heappush\n",
        "from heapq import heappop\n",
        "class Solution:\n",
        "    def find132pattern(self, nums: List[int]) -> bool:\n",
        "        left = [nums[0]]* len(nums)\n",
        "        heap = []\n",
        "        \n",
        "        for i in range(1, len(nums)):\n",
        "            left[i] = min(left[i-1], nums[i-1])\n",
        "        \n",
        "        for j in range(len(nums)-1, 0, -1):\n",
        "            heappush(heap, nums[j])\n",
        "            while heap and heap[0] <= left[j-1]:\n",
        "                heappop(heap)\n",
        "            # push out every minimum number in the heap that is no greater than left[j-1]\n",
        "            if heap and heap[0] < nums[j-1]:\n",
        "                return True        \n",
        "        return False"
      ],
      "execution_count": null,
      "outputs": []
    }
  ]
}