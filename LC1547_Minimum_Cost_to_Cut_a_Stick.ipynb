{
  "nbformat": 4,
  "nbformat_minor": 0,
  "metadata": {
    "colab": {
      "name": "LC1547 Minimum Cost to Cut a Stick.ipynb",
      "provenance": [],
      "authorship_tag": "ABX9TyMedWqymjOdIKuv1rHXNASy",
      "include_colab_link": true
    },
    "kernelspec": {
      "name": "python3",
      "display_name": "Python 3"
    },
    "language_info": {
      "name": "python"
    }
  },
  "cells": [
    {
      "cell_type": "markdown",
      "metadata": {
        "id": "view-in-github",
        "colab_type": "text"
      },
      "source": [
        "<a href=\"https://colab.research.google.com/github/vonnan/Leetcode/blob/main/LC1547_Minimum_Cost_to_Cut_a_Stick.ipynb\" target=\"_parent\"><img src=\"https://colab.research.google.com/assets/colab-badge.svg\" alt=\"Open In Colab\"/></a>"
      ]
    },
    {
      "cell_type": "code",
      "metadata": {
        "id": "m3QxXIqa3Rxf"
      },
      "source": [
        "\"\"\"\n",
        "1547. Minimum Cost to Cut a Stick\n",
        "Hard\n",
        "\n",
        "434\n",
        "\n",
        "7\n",
        "\n",
        "Add to List\n",
        "\n",
        "Share\n",
        "Given a wooden stick of length n units. The stick is labelled from 0 to n. For example, a stick of length 6 is labelled as follows:\n",
        "\n",
        "\n",
        "Given an integer array cuts where cuts[i] denotes a position you should perform a cut at.\n",
        "\n",
        "You should perform the cuts in order, you can change the order of the cuts as you wish.\n",
        "\n",
        "The cost of one cut is the length of the stick to be cut, the total cost is the sum of costs of all cuts. When you cut a stick, it will be split into two smaller sticks (i.e. the sum of their lengths is the length of the stick before the cut). Please refer to the first example for a better explanation.\n",
        "\n",
        "Return the minimum total cost of the cuts.\n",
        "\n",
        " \n",
        "\n",
        "Example 1:\n",
        "\n",
        "\n",
        "Input: n = 7, cuts = [1,3,4,5]\n",
        "Output: 16\n",
        "Explanation: Using cuts order = [1, 3, 4, 5] as in the input leads to the following scenario:\n",
        "\n",
        "The first cut is done to a rod of length 7 so the cost is 7. The second cut is done to a rod of length 6 (i.e. the second part of the first cut), the third is done to a rod of length 4 and the last cut is to a rod of length 3. The total cost is 7 + 6 + 4 + 3 = 20.\n",
        "Rearranging the cuts to be [3, 5, 1, 4] for example will lead to a scenario with total cost = 16 (as shown in the example photo 7 + 4 + 3 + 2 = 16).\n",
        "Example 2:\n",
        "\n",
        "Input: n = 9, cuts = [5,6,1,4,2]\n",
        "Output: 22\n",
        "Explanation: If you try the given cuts ordering the cost will be 25.\n",
        "There are much ordering with total cost <= 25, for example, the order [4, 6, 5, 2, 1] has total cost = 22 which is the minimum possible.\n",
        " \n",
        "\n",
        "Constraints:\n",
        "\n",
        "2 <= n <= 10^6\n",
        "1 <= cuts.length <= min(n - 1, 100)\n",
        "1 <= cuts[i] <= n - 1\n",
        "All the integers in cuts array are distinct.\n",
        "Runtime: 452 ms, faster than 96.84% of Python3 online submissions for Minimum Cost to Cut a Stick.\n",
        "Memory Usage: 14.7 MB, less than 66.80% of Python3 online submissions for Minimum Cost to Cut a Stick.\n",
        "\"\"\"\n",
        "class Solution:\n",
        "    def minCost(self, n: int, cuts: List[int]) -> int:\n",
        "        \n",
        "        cuts = sorted(cuts +[0,n])\n",
        "        m = len(cuts)\n",
        "        dp = [ [0]* m for i in range(m)]\n",
        "        \n",
        "        for d in range(2, m):\n",
        "            for i in range(m-d):\n",
        "                j = i + d\n",
        "                dp[i][j] = min(dp[i][k] + dp[k][j] for k in range(i+1, j)) + cuts[j] - cuts[i]\n",
        "        \n",
        "        return dp[0][m-1]"
      ],
      "execution_count": null,
      "outputs": []
    }
  ]
}