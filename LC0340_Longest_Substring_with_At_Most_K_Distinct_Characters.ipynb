{
  "nbformat": 4,
  "nbformat_minor": 0,
  "metadata": {
    "colab": {
      "name": "LC0340 Longest Substring with At Most K Distinct Characters.ipynb",
      "provenance": [],
      "authorship_tag": "ABX9TyN9Qwj0Xh+Lm5I8k8dpvk9s",
      "include_colab_link": true
    },
    "kernelspec": {
      "name": "python3",
      "display_name": "Python 3"
    },
    "language_info": {
      "name": "python"
    }
  },
  "cells": [
    {
      "cell_type": "markdown",
      "metadata": {
        "id": "view-in-github",
        "colab_type": "text"
      },
      "source": [
        "<a href=\"https://colab.research.google.com/github/vonnan/Leetcode/blob/main/LC0340_Longest_Substring_with_At_Most_K_Distinct_Characters.ipynb\" target=\"_parent\"><img src=\"https://colab.research.google.com/assets/colab-badge.svg\" alt=\"Open In Colab\"/></a>"
      ]
    },
    {
      "cell_type": "code",
      "metadata": {
        "id": "Sxdawiz1jTaq"
      },
      "source": [
        "\"\"\"\n",
        "340. Longest Substring with At Most K Distinct Characters\n",
        "Medium\n",
        "\n",
        "1548\n",
        "\n",
        "56\n",
        "\n",
        "Add to List\n",
        "\n",
        "Share\n",
        "Given a string s and an integer k, return the length of the longest substring of s that contains at most k distinct characters.\n",
        "\n",
        " \n",
        "\n",
        "Example 1:\n",
        "\n",
        "Input: s = \"eceba\", k = 2\n",
        "Output: 3\n",
        "Explanation: The substring is \"ece\" with length 3.\n",
        "Example 2:\n",
        "\n",
        "Input: s = \"aa\", k = 1\n",
        "Output: 2\n",
        "Explanation: The substring is \"aa\" with length 2.\n",
        " \n",
        "\n",
        "Constraints:\n",
        "\n",
        "1 <= s.length <= 5 * 104\n",
        "0 <= k <= 50\n",
        "\"\"\"\n",
        "\n",
        "from collections import Counter\n",
        "class Solution:\n",
        "    def lengthOfLongestSubstringKDistinct(self, s: str, k: int) -> int:\n",
        "        counter = Counter()\n",
        "        res = i = 0\n",
        "        count = 0\n",
        "        seen = set()\n",
        "        \n",
        "        for j, ss in enumerate(s):\n",
        "            if ss not in seen:\n",
        "                count += 1\n",
        "                seen.add(ss)\n",
        "            \n",
        "            counter[ss] += 1\n",
        "            \n",
        "            while count > k:\n",
        "                if counter[s[i]] ==1:\n",
        "                    count -= 1\n",
        "                    seen.remove(s[i])\n",
        "                counter[s[i]] -= 1\n",
        "                i += 1\n",
        "                \n",
        "            res = max(res, j-i+1)\n",
        "        \n",
        "        return res\n",
        "\n"
      ],
      "execution_count": null,
      "outputs": []
    }
  ]
}