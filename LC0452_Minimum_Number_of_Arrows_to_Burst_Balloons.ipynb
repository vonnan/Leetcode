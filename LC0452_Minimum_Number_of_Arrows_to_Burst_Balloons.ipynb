{
  "nbformat": 4,
  "nbformat_minor": 0,
  "metadata": {
    "colab": {
      "name": "LC0452 Minimum Number of Arrows to Burst Balloons.ipynb",
      "provenance": [],
      "authorship_tag": "ABX9TyMmcGg/cr7q3TzPsEZewJqU",
      "include_colab_link": true
    },
    "kernelspec": {
      "name": "python3",
      "display_name": "Python 3"
    },
    "language_info": {
      "name": "python"
    }
  },
  "cells": [
    {
      "cell_type": "markdown",
      "metadata": {
        "id": "view-in-github",
        "colab_type": "text"
      },
      "source": [
        "<a href=\"https://colab.research.google.com/github/vonnan/Leetcode/blob/main/LC0452_Minimum_Number_of_Arrows_to_Burst_Balloons.ipynb\" target=\"_parent\"><img src=\"https://colab.research.google.com/assets/colab-badge.svg\" alt=\"Open In Colab\"/></a>"
      ]
    },
    {
      "cell_type": "code",
      "metadata": {
        "id": "PxlLji7s0U6R"
      },
      "source": [
        "\"\"\"\n",
        "452. Minimum Number of Arrows to Burst Balloons\n",
        "Medium\n",
        "\n",
        "1680\n",
        "\n",
        "61\n",
        "\n",
        "Add to List\n",
        "\n",
        "Share\n",
        "There are some spherical balloons spread in two-dimensional space. For each balloon, provided input is the start and end coordinates of the horizontal diameter. Since it's horizontal, y-coordinates don't matter, and hence the x-coordinates of start and end of the diameter suffice. The start is always smaller than the end.\n",
        "\n",
        "An arrow can be shot up exactly vertically from different points along the x-axis. A balloon with xstart and xend bursts by an arrow shot at x if xstart ≤ x ≤ xend. There is no limit to the number of arrows that can be shot. An arrow once shot keeps traveling up infinitely.\n",
        "\n",
        "Given an array points where points[i] = [xstart, xend], return the minimum number of arrows that must be shot to burst all balloons.\n",
        "\n",
        " \n",
        "\n",
        "Example 1:\n",
        "\n",
        "Input: points = [[10,16],[2,8],[1,6],[7,12]]\n",
        "Output: 2\n",
        "Explanation: One way is to shoot one arrow for example at x = 6 (bursting the balloons [2,8] and [1,6]) and another arrow at x = 11 (bursting the other two balloons).\n",
        "Example 2:\n",
        "\n",
        "Input: points = [[1,2],[3,4],[5,6],[7,8]]\n",
        "Output: 4\n",
        "Example 3:\n",
        "\n",
        "Input: points = [[1,2],[2,3],[3,4],[4,5]]\n",
        "Output: 2\n",
        "Example 4:\n",
        "\n",
        "Input: points = [[1,2]]\n",
        "Output: 1\n",
        "Example 5:\n",
        "\n",
        "Input: points = [[2,3],[2,3]]\n",
        "Output: 1\n",
        " \n",
        "\n",
        "Constraints:\n",
        "\n",
        "0 <= points.length <= 104\n",
        "points[i].length == 2\n",
        "-231 <= xstart < xend <= 231 - 1\n",
        "\"\"\"\n",
        "\n",
        "class Solution:\n",
        "    def findMinArrowShots(self, points: List[List[int]]) -> int:\n",
        "        if len(points)<=1:\n",
        "            return len(points)\n",
        "        \n",
        "        points.sort()\n",
        "        \n",
        "        end = points[0][1]\n",
        "        count = 1\n",
        "        \n",
        "        for s,e in points[1:]:\n",
        "            \n",
        "            if s <= end:\n",
        "                \n",
        "                end = min(e, end)\n",
        "            else:\n",
        "                count += 1\n",
        "                end = e\n",
        "                \n",
        "        return count\n",
        "                \n"
      ],
      "execution_count": null,
      "outputs": []
    }
  ]
}