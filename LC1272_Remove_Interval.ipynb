{
  "nbformat": 4,
  "nbformat_minor": 0,
  "metadata": {
    "colab": {
      "name": "LC1272_Remove_Interval.ipynb",
      "provenance": [],
      "authorship_tag": "ABX9TyOB4R6pcDVeP1ImB/ntjlTn",
      "include_colab_link": true
    },
    "kernelspec": {
      "name": "python3",
      "display_name": "Python 3"
    }
  },
  "cells": [
    {
      "cell_type": "markdown",
      "metadata": {
        "id": "view-in-github",
        "colab_type": "text"
      },
      "source": [
        "<a href=\"https://colab.research.google.com/github/vonnan/Leetcode/blob/main/LC1272_Remove_Interval.ipynb\" target=\"_parent\"><img src=\"https://colab.research.google.com/assets/colab-badge.svg\" alt=\"Open In Colab\"/></a>"
      ]
    },
    {
      "cell_type": "code",
      "metadata": {
        "id": "L71bAlcTAB7w"
      },
      "source": [
        "\"\"\"\n",
        "1272. Remove Interval\n",
        "Medium\n",
        "\n",
        "186\n",
        "\n",
        "17\n",
        "https://leetcode.com/problems/remove-interval/\n",
        "\n",
        "\n",
        "Add to List\n",
        "\n",
        "Share\n",
        "A set of real numbers can be represented as the union of several disjoint intervals, where each interval is in the form [a, b). A real number x is in the set if one of its intervals [a, b) contains x (i.e. a <= x < b).\n",
        "\n",
        "You are given a sorted list of disjoint intervals intervals representing a set of real numbers as described above, where intervals[i] = [ai, bi] represents the interval [ai, bi). You are also given another interval toBeRemoved.\n",
        "\n",
        "Return the set of real numbers with the interval toBeRemoved removed from intervals. In other words, return the set of real numbers such that every x in the set is in intervals but not in toBeRemoved. Your answer should be a sorted list of disjoint intervals as described above.\n",
        "\n",
        " \n",
        "\n",
        "Example 1:\n",
        "\n",
        "\n",
        "Input: intervals = [[0,2],[3,4],[5,7]], toBeRemoved = [1,6]\n",
        "Output: [[0,1],[6,7]]\n",
        "Example 2:\n",
        "\n",
        "\n",
        "Input: intervals = [[0,5]], toBeRemoved = [2,3]\n",
        "Output: [[0,2],[3,5]]\n",
        "Example 3:\n",
        "\n",
        "Input: intervals = [[-5,-4],[-3,-2],[1,2],[3,5],[8,9]], toBeRemoved = [-1,4]\n",
        "Output: [[-5,-4],[-3,-2],[4,5],[8,9]]\n",
        " \n",
        "\n",
        "Constraints:\n",
        "\n",
        "1 <= intervals.length <= 104\n",
        "-109 <= ai < bi <= 109\n",
        "\"\"\"\n",
        "from bisect import bisect\n",
        "class Solution:\n",
        "    def removeInterval(self, intervals: List[List[int]], toBeRemoved: List[int]) -> List[List[int]]:\n",
        "        \n",
        "        left, right = toBeRemoved[0], toBeRemoved[1]\n",
        "        \n",
        "        lst_right = [y for x , y in intervals]\n",
        "        idx = bisect(lst_right, left)\n",
        "        if idx == len(intervals):\n",
        "            return intervals\n",
        "        \n",
        "        res = intervals[:idx] if idx > 0 else []\n",
        "        \n",
        "        i = idx -1\n",
        "        \n",
        "        for x, y in intervals[idx:]:\n",
        "            i += 1\n",
        "            if y <= left:\n",
        "                res.append([x, y])\n",
        "                continue\n",
        "            if x >= right:\n",
        "                res.extend(intervals[i:])\n",
        "                return res\n",
        "            if left > x:\n",
        "                left = min(y, left)\n",
        "                res.append([x, left])\n",
        "            if right < y:\n",
        "                res.append([right, y])\n",
        "                if i!= len(intervals) -1:\n",
        "                    res.extend(intervals[i+1:])\n",
        "                return res\n",
        "            \n",
        "        return res\n",
        "            \n",
        "            \n",
        "                \n",
        "            \n"
      ],
      "execution_count": null,
      "outputs": []
    }
  ]
}