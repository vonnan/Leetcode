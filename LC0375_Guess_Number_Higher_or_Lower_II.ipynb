{
  "nbformat": 4,
  "nbformat_minor": 0,
  "metadata": {
    "colab": {
      "name": "LC0375 Guess Number Higher or Lower II.ipynb",
      "provenance": [],
      "authorship_tag": "ABX9TyP2GcRryyHqYxGON56WGJLI",
      "include_colab_link": true
    },
    "kernelspec": {
      "name": "python3",
      "display_name": "Python 3"
    },
    "language_info": {
      "name": "python"
    }
  },
  "cells": [
    {
      "cell_type": "markdown",
      "metadata": {
        "id": "view-in-github",
        "colab_type": "text"
      },
      "source": [
        "<a href=\"https://colab.research.google.com/github/vonnan/Leetcode/blob/main/LC0375_Guess_Number_Higher_or_Lower_II.ipynb\" target=\"_parent\"><img src=\"https://colab.research.google.com/assets/colab-badge.svg\" alt=\"Open In Colab\"/></a>"
      ]
    },
    {
      "cell_type": "code",
      "metadata": {
        "id": "aYWhMHt2dGuz"
      },
      "source": [
        "\"\"\"\n",
        "375. Guess Number Higher or Lower II\n",
        "Medium\n",
        "\n",
        "1019\n",
        "\n",
        "1488\n",
        "\n",
        "Add to List\n",
        "\n",
        "Share\n",
        "We are playing the Guessing Game. The game will work as follows:\n",
        "\n",
        "I pick a number between 1 and n.\n",
        "You guess a number.\n",
        "If you guess the right number, you win the game.\n",
        "If you guess the wrong number, then I will tell you whether the number I picked is higher or lower, and you will continue guessing.\n",
        "Every time you guess a wrong number x, you will pay x dollars. If you run out of money, you lose the game.\n",
        "Given a particular n, return the minimum amount of money you need to guarantee a win regardless of what number I pick.\n",
        "\n",
        " \n",
        "\n",
        "Example 1:\n",
        "\n",
        "\n",
        "Input: n = 10\n",
        "Output: 16\n",
        "Explanation: The winning strategy is as follows:\n",
        "- The range is [1,10]. Guess 7.\n",
        "    - If this is my number, your total is $0. Otherwise, you pay $7.\n",
        "    - If my number is higher, the range is [8,10]. Guess 9.\n",
        "        - If this is my number, your total is $7. Otherwise, you pay $9.\n",
        "        - If my number is higher, it must be 10. Guess 10. Your total is $7 + $9 = $16.\n",
        "        - If my number is lower, it must be 8. Guess 8. Your total is $7 + $9 = $16.\n",
        "    - If my number is lower, the range is [1,6]. Guess 3.\n",
        "        - If this is my number, your total is $7. Otherwise, you pay $3.\n",
        "        - If my number is higher, the range is [4,6]. Guess 5.\n",
        "            - If this is my number, your total is $7 + $3 = $10. Otherwise, you pay $5.\n",
        "            - If my number is higher, it must be 6. Guess 6. Your total is $7 + $3 + $5 = $15.\n",
        "            - If my number is lower, it must be 4. Guess 4. Your total is $7 + $3 + $5 = $15.\n",
        "        - If my number is lower, the range is [1,2]. Guess 1.\n",
        "            - If this is my number, your total is $7 + $3 = $10. Otherwise, you pay $1.\n",
        "            - If my number is higher, it must be 2. Guess 2. Your total is $7 + $3 + $1 = $11.\n",
        "The worst case in all these scenarios is that you pay $16. Hence, you only need $16 to guarantee a win.\n",
        "Example 2:\n",
        "\n",
        "Input: n = 1\n",
        "Output: 0\n",
        "Explanation: There is only one possible number, so you can guess 1 and not have to pay anything.\n",
        "Example 3:\n",
        "\n",
        "Input: n = 2\n",
        "Output: 1\n",
        "Explanation: There are two possible numbers, 1 and 2.\n",
        "- Guess 1.\n",
        "    - If this is my number, your total is $0. Otherwise, you pay $1.\n",
        "    - If my number is higher, it must be 2. Guess 2. Your total is $1.\n",
        "The worst case is that you pay $1.\n",
        " \n",
        "\n",
        "Constraints:\n",
        "\n",
        "1 <= n <= 200\n",
        "\"\"\"\n",
        "\n",
        "class Solution:\n",
        "    def getMoneyAmount(self, n: int) -> int:\n",
        "        @lru_cache(maxsize=None)\n",
        "        def helper(a, b):\n",
        "            if a >=b:\n",
        "                return 0\n",
        "            else:\n",
        "                return min(x + max(helper(a, x-1), helper (x+1, b)) for x in range(a, b+1))     \n",
        "        return helper(1,n)\n"
      ],
      "execution_count": null,
      "outputs": []
    }
  ]
}