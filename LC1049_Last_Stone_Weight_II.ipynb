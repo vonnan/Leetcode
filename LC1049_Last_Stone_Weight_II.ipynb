{
  "nbformat": 4,
  "nbformat_minor": 0,
  "metadata": {
    "colab": {
      "name": "LC1049 Last Stone Weight II.ipynb",
      "provenance": [],
      "authorship_tag": "ABX9TyNjUMOjuZQL53OS5WTihI+/",
      "include_colab_link": true
    },
    "kernelspec": {
      "name": "python3",
      "display_name": "Python 3"
    },
    "language_info": {
      "name": "python"
    }
  },
  "cells": [
    {
      "cell_type": "markdown",
      "metadata": {
        "id": "view-in-github",
        "colab_type": "text"
      },
      "source": [
        "<a href=\"https://colab.research.google.com/github/vonnan/Leetcode/blob/main/LC1049_Last_Stone_Weight_II.ipynb\" target=\"_parent\"><img src=\"https://colab.research.google.com/assets/colab-badge.svg\" alt=\"Open In Colab\"/></a>"
      ]
    },
    {
      "cell_type": "code",
      "metadata": {
        "id": "TafqywfXDxzO"
      },
      "source": [
        "\"\"\"\n",
        "1049. Last Stone Weight II\n",
        "Medium\n",
        "\n",
        "1180\n",
        "\n",
        "47\n",
        "\n",
        "Add to List\n",
        "\n",
        "Share\n",
        "You are given an array of integers stones where stones[i] is the weight of the ith stone.\n",
        "\n",
        "We are playing a game with the stones. On each turn, we choose any two stones and smash them together. Suppose the stones have weights x and y with x <= y. The result of this smash is:\n",
        "\n",
        "If x == y, both stones are destroyed, and\n",
        "If x != y, the stone of weight x is destroyed, and the stone of weight y has new weight y - x.\n",
        "At the end of the game, there is at most one stone left.\n",
        "\n",
        "Return the smallest possible weight of the left stone. If there are no stones left, return 0.\n",
        "\n",
        " \n",
        "\n",
        "Example 1:\n",
        "\n",
        "Input: stones = [2,7,4,1,8,1]\n",
        "Output: 1\n",
        "Explanation:\n",
        "We can combine 2 and 4 to get 2, so the array converts to [2,7,1,8,1] then,\n",
        "we can combine 7 and 8 to get 1, so the array converts to [2,1,1,1] then,\n",
        "we can combine 2 and 1 to get 1, so the array converts to [1,1,1] then,\n",
        "we can combine 1 and 1 to get 0, so the array converts to [1], then that's the optimal value.\n",
        "Example 2:\n",
        "\n",
        "Input: stones = [31,26,33,21,40]\n",
        "Output: 5\n",
        "Example 3:\n",
        "\n",
        "Input: stones = [1,2]\n",
        "Output: 1\n",
        " \n",
        "\n",
        "Constraints:\n",
        "\n",
        "1 <= stones.length <= 30\n",
        "1 <= stones[i] <= 100\n",
        "\"\"\"\n",
        "class Solution:\n",
        "    def lastStoneWeightII(self, stones: List[int]) -> int:\n",
        "        target = sum(stones)//2\n",
        "        dp = [0] * (target + 1)\n",
        "        \n",
        "        for stone in stones:\n",
        "            for i in range(target, -1,-1):\n",
        "                if stone <= i:\n",
        "                    dp[i] = max(dp[i], stone + dp[i-stone])\n",
        "        return sum(stones) - 2*dp[-1]\n",
        "            \n",
        "        \n"
      ],
      "execution_count": null,
      "outputs": []
    }
  ]
}