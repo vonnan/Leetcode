{
  "nbformat": 4,
  "nbformat_minor": 0,
  "metadata": {
    "colab": {
      "name": "LC1458 Max Dot Product of Two Subsequences.ipynb",
      "provenance": [],
      "authorship_tag": "ABX9TyOS/mdUyUAteqyXaL5N1HJq",
      "include_colab_link": true
    },
    "kernelspec": {
      "name": "python3",
      "display_name": "Python 3"
    },
    "language_info": {
      "name": "python"
    }
  },
  "cells": [
    {
      "cell_type": "markdown",
      "metadata": {
        "id": "view-in-github",
        "colab_type": "text"
      },
      "source": [
        "<a href=\"https://colab.research.google.com/github/vonnan/Leetcode/blob/main/LC1458_Max_Dot_Product_of_Two_Subsequences.ipynb\" target=\"_parent\"><img src=\"https://colab.research.google.com/assets/colab-badge.svg\" alt=\"Open In Colab\"/></a>"
      ]
    },
    {
      "cell_type": "code",
      "metadata": {
        "id": "OSsz1pSkcY6T"
      },
      "source": [
        "\"\"\"\n",
        "1458. Max Dot Product of Two Subsequences\n",
        "Hard\n",
        "\n",
        "410\n",
        "\n",
        "10\n",
        "\n",
        "Add to List\n",
        "\n",
        "Share\n",
        "Given two arrays nums1 and nums2.\n",
        "\n",
        "Return the maximum dot product between non-empty subsequences of nums1 and nums2 with the same length.\n",
        "\n",
        "A subsequence of a array is a new array which is formed from the original array by deleting some (can be none) of the characters without disturbing the relative positions of the remaining characters. (ie, [2,3,5] is a subsequence of [1,2,3,4,5] while [1,5,3] is not).\n",
        "\n",
        " \n",
        "\n",
        "Example 1:\n",
        "\n",
        "Input: nums1 = [2,1,-2,5], nums2 = [3,0,-6]\n",
        "Output: 18\n",
        "Explanation: Take subsequence [2,-2] from nums1 and subsequence [3,-6] from nums2.\n",
        "Their dot product is (2*3 + (-2)*(-6)) = 18.\n",
        "Example 2:\n",
        "\n",
        "Input: nums1 = [3,-2], nums2 = [2,-6,7]\n",
        "Output: 21\n",
        "Explanation: Take subsequence [3] from nums1 and subsequence [7] from nums2.\n",
        "Their dot product is (3*7) = 21.\n",
        "Example 3:\n",
        "\n",
        "Input: nums1 = [-1,-1], nums2 = [1,1]\n",
        "Output: -1\n",
        "Explanation: Take subsequence [-1] from nums1 and subsequence [1] from nums2.\n",
        "Their dot product is -1.\n",
        " \n",
        "\n",
        "Constraints:\n",
        "\n",
        "1 <= nums1.length, nums2.length <= 500\n",
        "-1000 <= nums1[i], nums2[i] <= 1000\n",
        "\"\"\"\n",
        "\n",
        "from collections import defaultdict\n",
        "class Solution:\n",
        "    def maxDotProduct(self, nums1: List[int], nums2: List[int]) -> int:\n",
        "        m , n = len(nums1), len(nums2)\n",
        "        memo = defaultdict(lambda: -float(\"inf\"))\n",
        "        \n",
        "        if not nums1 or not nums2:\n",
        "            return -1\n",
        "        \n",
        "        for i, u in enumerate(nums1):\n",
        "            for j, v in enumerate(nums2):\n",
        "                memo[(i, j)] = max(memo[(i-1, j-1)] + u*v, u*v, memo[(i, j-1)], memo[(i-1, j)])\n",
        "                \n",
        "        return memo[(m-1,n-1)]"
      ],
      "execution_count": null,
      "outputs": []
    }
  ]
}