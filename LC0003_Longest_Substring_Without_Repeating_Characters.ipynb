{
  "nbformat": 4,
  "nbformat_minor": 0,
  "metadata": {
    "colab": {
      "name": "LC0003 Longest Substring Without Repeating Characters.ipynb",
      "provenance": [],
      "authorship_tag": "ABX9TyONFP9b1mT20+u9hMgUsdUw",
      "include_colab_link": true
    },
    "kernelspec": {
      "name": "python3",
      "display_name": "Python 3"
    },
    "language_info": {
      "name": "python"
    }
  },
  "cells": [
    {
      "cell_type": "markdown",
      "metadata": {
        "id": "view-in-github",
        "colab_type": "text"
      },
      "source": [
        "<a href=\"https://colab.research.google.com/github/vonnan/Leetcode/blob/main/LC0003_Longest_Substring_Without_Repeating_Characters.ipynb\" target=\"_parent\"><img src=\"https://colab.research.google.com/assets/colab-badge.svg\" alt=\"Open In Colab\"/></a>"
      ]
    },
    {
      "cell_type": "code",
      "metadata": {
        "id": "CbgIEItSZfSV"
      },
      "source": [
        "\"\"\"\n",
        "3. Longest Substring Without Repeating Characters\n",
        "Medium\n",
        "\n",
        "13611\n",
        "\n",
        "705\n",
        "\n",
        "Add to List\n",
        "\n",
        "Share\n",
        "Given a string s, find the length of the longest substring without repeating characters.\n",
        "\n",
        " \n",
        "\n",
        "Example 1:\n",
        "\n",
        "Input: s = \"abcabcbb\"\n",
        "Output: 3\n",
        "Explanation: The answer is \"abc\", with the length of 3.\n",
        "Example 2:\n",
        "\n",
        "Input: s = \"bbbbb\"\n",
        "Output: 1\n",
        "Explanation: The answer is \"b\", with the length of 1.\n",
        "Example 3:\n",
        "\n",
        "Input: s = \"pwwkew\"\n",
        "Output: 3\n",
        "Explanation: The answer is \"wke\", with the length of 3.\n",
        "Notice that the answer must be a substring, \"pwke\" is a subsequence and not a substring.\n",
        "Example 4:\n",
        "\n",
        "Input: s = \"\"\n",
        "Output: 0\n",
        " \n",
        "\n",
        "Constraints:\n",
        "\n",
        "0 <= s.length <= 5 * 104\n",
        "s consists of English letters, digits, symbols and spaces.\n",
        "\"\"\"\n",
        "from collections import Counter\n",
        "class Solution:\n",
        "    def lengthOfLongestSubstring(self, s: str) -> int:\n",
        "        res = i = 0\n",
        "        if len(s) <= 1:\n",
        "            return len(s)\n",
        "        \n",
        "        counter = Counter()\n",
        "        \n",
        "        for j, ss in enumerate(s):\n",
        "            counter[ss] += 1\n",
        "            while counter[ss] >1:\n",
        "                counter[s[i]] -= 1\n",
        "                i += 1\n",
        "            res = max(res, j-i+1)\n",
        "            \n",
        "        return res\n",
        "        \n",
        "\n"
      ],
      "execution_count": null,
      "outputs": []
    }
  ]
}