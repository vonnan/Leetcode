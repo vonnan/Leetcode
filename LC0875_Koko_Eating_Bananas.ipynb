{
  "nbformat": 4,
  "nbformat_minor": 0,
  "metadata": {
    "colab": {
      "name": "LC0875 Koko Eating Bananas.ipynb",
      "provenance": [],
      "authorship_tag": "ABX9TyNk8qpDvgWGZj/2YRhOTnwC",
      "include_colab_link": true
    },
    "kernelspec": {
      "name": "python3",
      "display_name": "Python 3"
    },
    "language_info": {
      "name": "python"
    }
  },
  "cells": [
    {
      "cell_type": "markdown",
      "metadata": {
        "id": "view-in-github",
        "colab_type": "text"
      },
      "source": [
        "<a href=\"https://colab.research.google.com/github/vonnan/Leetcode/blob/main/LC0875_Koko_Eating_Bananas.ipynb\" target=\"_parent\"><img src=\"https://colab.research.google.com/assets/colab-badge.svg\" alt=\"Open In Colab\"/></a>"
      ]
    },
    {
      "cell_type": "code",
      "metadata": {
        "id": "w89irFioVC_f"
      },
      "source": [
        "\"\"\"\n",
        "875. Koko Eating Bananas\n",
        "Medium\n",
        "\n",
        "1385\n",
        "\n",
        "85\n",
        "\n",
        "Add to List\n",
        "\n",
        "Share\n",
        "Koko loves to eat bananas. There are n piles of bananas, the ith pile has piles[i] bananas. The guards have gone and will come back in h hours.\n",
        "\n",
        "Koko can decide her bananas-per-hour eating speed of k. Each hour, she chooses some pile of bananas and eats k bananas from that pile. If the pile has less than k bananas, she eats all of them instead and will not eat any more bananas during this hour.\n",
        "\n",
        "Koko likes to eat slowly but still wants to finish eating all the bananas before the guards return.\n",
        "\n",
        "Return the minimum integer k such that she can eat all the bananas within h hours.\n",
        "\n",
        " \n",
        "\n",
        "Example 1:\n",
        "\n",
        "Input: piles = [3,6,7,11], h = 8\n",
        "Output: 4\n",
        "Example 2:\n",
        "\n",
        "Input: piles = [30,11,23,4,20], h = 5\n",
        "Output: 30\n",
        "Example 3:\n",
        "\n",
        "Input: piles = [30,11,23,4,20], h = 6\n",
        "Output: 23\n",
        " \n",
        "\n",
        "Constraints:\n",
        "\n",
        "1 <= piles.length <= 104\n",
        "piles.length <= h <= 109\n",
        "1 <= piles[i] <= 109\n",
        "\"\"\"\n",
        "\n",
        "from math import ceil\n",
        "class Solution:\n",
        "    def minEatingSpeed(self, piles: List[int], h: int) -> int:\n",
        "        l, r = 1, max(piles)\n",
        "        while l < r:\n",
        "            mid = (l + r)//2\n",
        "            time = sum(ceil(pile/mid) for pile in piles)\n",
        "            if time > h:\n",
        "                l = mid + 1\n",
        "            else:\n",
        "                r = mid\n",
        "        return l\n",
        "\n"
      ],
      "execution_count": null,
      "outputs": []
    }
  ]
}