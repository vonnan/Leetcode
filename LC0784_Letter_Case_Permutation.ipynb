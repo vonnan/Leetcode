{
  "nbformat": 4,
  "nbformat_minor": 0,
  "metadata": {
    "colab": {
      "name": "LC0784 Letter Case Permutation.ipynb",
      "provenance": [],
      "authorship_tag": "ABX9TyMZmm8jHkBt0jbezHg7yKyi",
      "include_colab_link": true
    },
    "kernelspec": {
      "name": "python3",
      "display_name": "Python 3"
    },
    "language_info": {
      "name": "python"
    }
  },
  "cells": [
    {
      "cell_type": "markdown",
      "metadata": {
        "id": "view-in-github",
        "colab_type": "text"
      },
      "source": [
        "<a href=\"https://colab.research.google.com/github/vonnan/Leetcode/blob/main/LC0784_Letter_Case_Permutation.ipynb\" target=\"_parent\"><img src=\"https://colab.research.google.com/assets/colab-badge.svg\" alt=\"Open In Colab\"/></a>"
      ]
    },
    {
      "cell_type": "code",
      "metadata": {
        "id": "8MTWcTu_YYE8"
      },
      "source": [
        "\"\"\"\n",
        "784. Letter Case Permutation\n",
        "Medium\n",
        "\n",
        "1982\n",
        "\n",
        "123\n",
        "\n",
        "Add to List\n",
        "\n",
        "Share\n",
        "Given a string S, we can transform every letter individually to be lowercase or uppercase to create another string.\n",
        "\n",
        "Return a list of all possible strings we could create. You can return the output in any order.\n",
        "\n",
        " \n",
        "\n",
        "Example 1:\n",
        "\n",
        "Input: S = \"a1b2\"\n",
        "Output: [\"a1b2\",\"a1B2\",\"A1b2\",\"A1B2\"]\n",
        "Example 2:\n",
        "\n",
        "Input: S = \"3z4\"\n",
        "Output: [\"3z4\",\"3Z4\"]\n",
        "Example 3:\n",
        "\n",
        "Input: S = \"12345\"\n",
        "Output: [\"12345\"]\n",
        "Example 4:\n",
        "\n",
        "Input: S = \"0\"\n",
        "Output: [\"0\"]\n",
        " \n",
        "\n",
        "Constraints:\n",
        "\n",
        "S will be a string with length between 1 and 12.\n",
        "S will consist only of letters or digits.\n",
        "\"\"\"\n",
        "\n",
        "class Solution:\n",
        "    def letterCasePermutation(self, S: str) -> List[str]:\n",
        "        res = [\"\"]\n",
        "        for s in S:\n",
        "            if not s.isalpha():\n",
        "                for i in range(len(res)):\n",
        "                    res[i] += s\n",
        "            else:\n",
        "                for i in range(len(res)):\n",
        "                    tmp = res[i]\n",
        "                    res[i] +=s.lower()\n",
        "                    res.append(tmp + s.upper())\n",
        "        return res\n",
        "            \n",
        "        \n",
        "        \n"
      ],
      "execution_count": null,
      "outputs": []
    }
  ]
}