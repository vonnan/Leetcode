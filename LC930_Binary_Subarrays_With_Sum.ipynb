{
  "nbformat": 4,
  "nbformat_minor": 0,
  "metadata": {
    "colab": {
      "name": "LC930 Binary Subarrays With Sum.ipynb",
      "provenance": [],
      "authorship_tag": "ABX9TyOgLXxhVtbi6mUKcdrjilbV",
      "include_colab_link": true
    },
    "kernelspec": {
      "name": "python3",
      "display_name": "Python 3"
    },
    "language_info": {
      "name": "python"
    }
  },
  "cells": [
    {
      "cell_type": "markdown",
      "metadata": {
        "id": "view-in-github",
        "colab_type": "text"
      },
      "source": [
        "<a href=\"https://colab.research.google.com/github/vonnan/Leetcode/blob/main/LC930_Binary_Subarrays_With_Sum.ipynb\" target=\"_parent\"><img src=\"https://colab.research.google.com/assets/colab-badge.svg\" alt=\"Open In Colab\"/></a>"
      ]
    },
    {
      "cell_type": "code",
      "metadata": {
        "id": "wH5iFWbRSVLe"
      },
      "source": [
        "\"\"\"\n",
        "930. Binary Subarrays With Sum\n",
        "Medium\n",
        "\n",
        "https://leetcode.com/problems/binary-subarrays-with-sum/\n",
        "\n",
        "755\n",
        "\n",
        "32\n",
        "\n",
        "Add to List\n",
        "\n",
        "Share\n",
        "In an array A of 0s and 1s, how many non-empty subarrays have sum S?\n",
        "\n",
        " \n",
        "\n",
        "Example 1:\n",
        "\n",
        "Input: A = [1,0,1,0,1], S = 2\n",
        "Output: 4\n",
        "Explanation: \n",
        "The 4 subarrays are bolded below:\n",
        "[1,0,1,0,1]\n",
        "[1,0,1,0,1]\n",
        "[1,0,1,0,1]\n",
        "[1,0,1,0,1]\n",
        " \n",
        "\n",
        "Note:\n",
        "\n",
        "A.length <= 30000\n",
        "0 <= S <= A.length\n",
        "A[i] is either 0 or 1.\n",
        "\"\"\"\n",
        "\n",
        "from collections import defaultdict\n",
        "class Solution:\n",
        "    def numSubarraysWithSum(self, A: List[int], S: int) -> int:\n",
        "        dic = defaultdict(int)\n",
        "        presum = 0\n",
        "        dic[0] = 1\n",
        "        res = 0\n",
        "        for a in A:\n",
        "            presum += a\n",
        "            if dic[presum - S]:\n",
        "                res += dic[presum - S]    \n",
        "            dic[presum] += 1\n",
        "        \n",
        "        return res"
      ],
      "execution_count": null,
      "outputs": []
    }
  ]
}