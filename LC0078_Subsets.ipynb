{
  "nbformat": 4,
  "nbformat_minor": 0,
  "metadata": {
    "colab": {
      "name": "LC0078 Subsets.ipynb",
      "provenance": [],
      "authorship_tag": "ABX9TyPLsp+Cd8fCba30HVqH1YLL",
      "include_colab_link": true
    },
    "kernelspec": {
      "name": "python3",
      "display_name": "Python 3"
    },
    "language_info": {
      "name": "python"
    }
  },
  "cells": [
    {
      "cell_type": "markdown",
      "metadata": {
        "id": "view-in-github",
        "colab_type": "text"
      },
      "source": [
        "<a href=\"https://colab.research.google.com/github/vonnan/Leetcode/blob/main/LC0078_Subsets.ipynb\" target=\"_parent\"><img src=\"https://colab.research.google.com/assets/colab-badge.svg\" alt=\"Open In Colab\"/></a>"
      ]
    },
    {
      "cell_type": "code",
      "metadata": {
        "id": "folh0D3XQ_dj"
      },
      "source": [
        "\"\"\"\n",
        "78. Subsets\n",
        "Medium\n",
        "\n",
        "5457\n",
        "\n",
        "110\n",
        "\n",
        "Add to List\n",
        "\n",
        "Share\n",
        "Given an integer array nums of unique elements, return all possible subsets (the power set).\n",
        "\n",
        "The solution set must not contain duplicate subsets. Return the solution in any order.\n",
        "\n",
        " \n",
        "\n",
        "Example 1:\n",
        "\n",
        "Input: nums = [1,2,3]\n",
        "Output: [[],[1],[2],[1,2],[3],[1,3],[2,3],[1,2,3]]\n",
        "Example 2:\n",
        "\n",
        "Input: nums = [0]\n",
        "Output: [[],[0]]\n",
        " \n",
        "\n",
        "Constraints:\n",
        "\n",
        "1 <= nums.length <= 10\n",
        "-10 <= nums[i] <= 10\n",
        "All the numbers of nums are unique.\n",
        "\n",
        "\"\"\"\n",
        "from itertools import combinations\n",
        "class Solution:\n",
        "    def subsets(self, nums: List[int]) -> List[List[int]]:\n",
        "        \n",
        "        res = [[]]\n",
        "        n = len(nums)\n",
        "        \n",
        "        if n==1:\n",
        "            return [[], nums]\n",
        "        \n",
        "        for i in range(1,n+1):\n",
        "            res.extend(list(combinations(nums, i)))\n",
        "        \n",
        "        return res\n",
        "        "
      ],
      "execution_count": null,
      "outputs": []
    }
  ]
}