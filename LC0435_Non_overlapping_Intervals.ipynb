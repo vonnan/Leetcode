{
  "nbformat": 4,
  "nbformat_minor": 0,
  "metadata": {
    "colab": {
      "name": "LC0435 Non-overlapping Intervals.ipynb",
      "provenance": [],
      "authorship_tag": "ABX9TyMe8CopgpftgXrCQB1FsDQd",
      "include_colab_link": true
    },
    "kernelspec": {
      "name": "python3",
      "display_name": "Python 3"
    },
    "language_info": {
      "name": "python"
    }
  },
  "cells": [
    {
      "cell_type": "markdown",
      "metadata": {
        "id": "view-in-github",
        "colab_type": "text"
      },
      "source": [
        "<a href=\"https://colab.research.google.com/github/vonnan/Leetcode/blob/main/LC0435_Non_overlapping_Intervals.ipynb\" target=\"_parent\"><img src=\"https://colab.research.google.com/assets/colab-badge.svg\" alt=\"Open In Colab\"/></a>"
      ]
    },
    {
      "cell_type": "code",
      "metadata": {
        "id": "HeOtKba9Qr-Y"
      },
      "source": [
        "\"\"\"\n",
        "435. Non-overlapping Intervals\n",
        "Medium\n",
        "\n",
        "1976\n",
        "\n",
        "55\n",
        "\n",
        "Add to List\n",
        "\n",
        "Share\n",
        "Given a collection of intervals, find the minimum number of intervals you need to remove to make the rest of the intervals non-overlapping.\n",
        "\n",
        " \n",
        "\n",
        "Example 1:\n",
        "\n",
        "Input: [[1,2],[2,3],[3,4],[1,3]]\n",
        "Output: 1\n",
        "Explanation: [1,3] can be removed and the rest of intervals are non-overlapping.\n",
        "Example 2:\n",
        "\n",
        "Input: [[1,2],[1,2],[1,2]]\n",
        "Output: 2\n",
        "Explanation: You need to remove two [1,2] to make the rest of intervals non-overlapping.\n",
        "Example 3:\n",
        "\n",
        "Input: [[1,2],[2,3]]\n",
        "Output: 0\n",
        "Explanation: You don't need to remove any of the intervals since they're already non-overlapping.\n",
        " \n",
        "\n",
        "Note:\n",
        "\n",
        "You may assume the interval's end point is always bigger than its start point.\n",
        "Intervals like [1,2] and [2,3] have borders \"touching\" but they don't overlap each other.\n",
        "\"\"\"\n",
        "class Solution:\n",
        "    def eraseOverlapIntervals(self, intervals: List[List[int]]) -> int:\n",
        "        if len(intervals) <=1:\n",
        "            return 0\n",
        "        \n",
        "        intervals.sort(key = lambda x: x[1])\n",
        "        \n",
        "        end = intervals[0][1]\n",
        "        count = 0\n",
        "        \n",
        "        for s, e in intervals[1:]:\n",
        "            if s >= end:\n",
        "                end = e\n",
        "            else:\n",
        "                count += 1\n",
        "                \n",
        "        return count\n"
      ],
      "execution_count": null,
      "outputs": []
    }
  ]
}