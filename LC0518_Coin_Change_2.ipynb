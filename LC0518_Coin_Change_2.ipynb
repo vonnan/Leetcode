{
  "nbformat": 4,
  "nbformat_minor": 0,
  "metadata": {
    "colab": {
      "name": "LC0518 Coin Change 2.ipynb",
      "provenance": [],
      "authorship_tag": "ABX9TyMkLcHwpXY2dZICnLst4xBv",
      "include_colab_link": true
    },
    "kernelspec": {
      "name": "python3",
      "display_name": "Python 3"
    },
    "language_info": {
      "name": "python"
    }
  },
  "cells": [
    {
      "cell_type": "markdown",
      "metadata": {
        "id": "view-in-github",
        "colab_type": "text"
      },
      "source": [
        "<a href=\"https://colab.research.google.com/github/vonnan/Leetcode/blob/main/LC0518_Coin_Change_2.ipynb\" target=\"_parent\"><img src=\"https://colab.research.google.com/assets/colab-badge.svg\" alt=\"Open In Colab\"/></a>"
      ]
    },
    {
      "cell_type": "code",
      "metadata": {
        "id": "OtlUFauD5Q_9"
      },
      "source": [
        "\"\"\"\n",
        "518. Coin Change 2\n",
        "Medium\n",
        "\n",
        "3011\n",
        "\n",
        "76\n",
        "\n",
        "Add to List\n",
        "\n",
        "Share\n",
        "You are given coins of different denominations and a total amount of money. Write a function to compute the number of combinations that make up that amount. You may assume that you have infinite number of each kind of coin.\n",
        "\n",
        " \n",
        "\n",
        "Example 1:\n",
        "\n",
        "Input: amount = 5, coins = [1, 2, 5]\n",
        "Output: 4\n",
        "Explanation: there are four ways to make up the amount:\n",
        "5=5\n",
        "5=2+2+1\n",
        "5=2+1+1+1\n",
        "5=1+1+1+1+1\n",
        "Example 2:\n",
        "\n",
        "Input: amount = 3, coins = [2]\n",
        "Output: 0\n",
        "Explanation: the amount of 3 cannot be made up just with coins of 2.\n",
        "Example 3:\n",
        "\n",
        "Input: amount = 10, coins = [10] \n",
        "Output: 1\n",
        " \n",
        "\n",
        "Note:\n",
        "\n",
        "You can assume that\n",
        "\n",
        "0 <= amount <= 5000\n",
        "1 <= coin <= 5000\n",
        "the number of coins is less than 500\n",
        "the answer is guaranteed to fit into signed 32-bit integer\n",
        "\"\"\"\n",
        "\n",
        "class Solution:\n",
        "    def change(self, amount: int, coins: List[int]) -> int:\n",
        "        \n",
        "        ways =[0]*(amount + 1)\n",
        "        ways[0] = 1\n",
        "        \n",
        "        for coin in coins:\n",
        "            for amt in range(1, amount + 1):\n",
        "                if coin <= amt:\n",
        "                    ways[amt] += ways[amt-coin] \n",
        "        \n",
        "        return ways[-1]\n",
        "        "
      ],
      "execution_count": null,
      "outputs": []
    }
  ]
}