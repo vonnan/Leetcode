{
  "nbformat": 4,
  "nbformat_minor": 0,
  "metadata": {
    "colab": {
      "name": "LC496_Next_Greater_Element_I.ipynb",
      "provenance": [],
      "authorship_tag": "ABX9TyNs7NPnSpV/AQBMqizbjpae",
      "include_colab_link": true
    },
    "kernelspec": {
      "name": "python3",
      "display_name": "Python 3"
    }
  },
  "cells": [
    {
      "cell_type": "markdown",
      "metadata": {
        "id": "view-in-github",
        "colab_type": "text"
      },
      "source": [
        "<a href=\"https://colab.research.google.com/github/vonnan/Leetcode/blob/main/LC496_Next_Greater_Element_I.ipynb\" target=\"_parent\"><img src=\"https://colab.research.google.com/assets/colab-badge.svg\" alt=\"Open In Colab\"/></a>"
      ]
    },
    {
      "cell_type": "code",
      "metadata": {
        "id": "PX6vbCW-wdN1"
      },
      "source": [
        "\"\"\"\n",
        "496. Next Greater Element I\n",
        "Easy\n",
        "\n",
        "2284\n",
        "\n",
        "2758\n",
        "\n",
        "Add to List\n",
        "\n",
        "Share\n",
        "You are given two integer arrays nums1 and nums2 both of unique elements, where nums1 is a subset of nums2.\n",
        "\n",
        "Find all the next greater numbers for nums1's elements in the corresponding places of nums2.\n",
        "\n",
        "The Next Greater Number of a number x in nums1 is the first greater number to its right in nums2. If it does not exist, return -1 for this number.\n",
        "\n",
        " \n",
        "\n",
        "Example 1:\n",
        "\n",
        "Input: nums1 = [4,1,2], nums2 = [1,3,4,2]\n",
        "Output: [-1,3,-1]\n",
        "Explanation:\n",
        "For number 4 in the first array, you cannot find the next greater number for it in the second array, so output -1.\n",
        "For number 1 in the first array, the next greater number for it in the second array is 3.\n",
        "For number 2 in the first array, there is no next greater number for it in the second array, so output -1.\n",
        "Example 2:\n",
        "\n",
        "Input: nums1 = [2,4], nums2 = [1,2,3,4]\n",
        "Output: [3,-1]\n",
        "Explanation:\n",
        "For number 2 in the first array, the next greater number for it in the second array is 3.\n",
        "For number 4 in the first array, there is no next greater number for it in the second array, so output -1.\n",
        " \n",
        "\n",
        "Constraints:\n",
        "\n",
        "1 <= nums1.length <= nums2.length <= 1000\n",
        "0 <= nums1[i], nums2[i] <= 104\n",
        "All integers in nums1 and nums2 are unique.\n",
        "All the integers of nums1 also appear in nums2.\n",
        "\n",
        "\"\"\"\n",
        "\n",
        "class Solution:\n",
        "    def nextGreaterElement(self, nums1: List[int], nums2: List[int]) -> List[int]:\n",
        "        res = []\n",
        "        for n1 in nums1:\n",
        "            idx = nums2.index(n1)\n",
        "            if idx ==len(nums2)-1:\n",
        "                res.append(-1)\n",
        "                continue\n",
        "            for j in range(idx, len(nums2)):\n",
        "                if nums2[j] > n1:\n",
        "                    res.append(nums2[j])\n",
        "                    break\n",
        "                if j == len(nums2)-1 and nums2[j] <= n1:\n",
        "                    res.append(-1)\n",
        "        return res\n",
        "                        \n",
        "        "
      ],
      "execution_count": null,
      "outputs": []
    }
  ]
}