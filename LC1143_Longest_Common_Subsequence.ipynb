{
  "nbformat": 4,
  "nbformat_minor": 0,
  "metadata": {
    "colab": {
      "name": "LC1143 Longest Common Subsequence.ipynb",
      "provenance": [],
      "authorship_tag": "ABX9TyNrpfgtUypS/LhaGNGuYwvG",
      "include_colab_link": true
    },
    "kernelspec": {
      "name": "python3",
      "display_name": "Python 3"
    },
    "language_info": {
      "name": "python"
    }
  },
  "cells": [
    {
      "cell_type": "markdown",
      "metadata": {
        "id": "view-in-github",
        "colab_type": "text"
      },
      "source": [
        "<a href=\"https://colab.research.google.com/github/vonnan/Leetcode/blob/main/LC1143_Longest_Common_Subsequence.ipynb\" target=\"_parent\"><img src=\"https://colab.research.google.com/assets/colab-badge.svg\" alt=\"Open In Colab\"/></a>"
      ]
    },
    {
      "cell_type": "code",
      "metadata": {
        "id": "fHm5alh_zP0X"
      },
      "source": [
        "\"\"\"\n",
        "1143. Longest Common Subsequence\n",
        "Medium\n",
        "\n",
        "2872\n",
        "\n",
        "37\n",
        "\n",
        "Add to List\n",
        "\n",
        "Share\n",
        "Given two strings text1 and text2, return the length of their longest common subsequence. If there is no common subsequence, return 0.\n",
        "\n",
        "A subsequence of a string is a new string generated from the original string with some characters (can be none) deleted without changing the relative order of the remaining characters.\n",
        "\n",
        "For example, \"ace\" is a subsequence of \"abcde\".\n",
        "A common subsequence of two strings is a subsequence that is common to both strings.\n",
        "\n",
        " \n",
        "\n",
        "Example 1:\n",
        "\n",
        "Input: text1 = \"abcde\", text2 = \"ace\" \n",
        "Output: 3  \n",
        "Explanation: The longest common subsequence is \"ace\" and its length is 3.\n",
        "Example 2:\n",
        "\n",
        "Input: text1 = \"abc\", text2 = \"abc\"\n",
        "Output: 3\n",
        "Explanation: The longest common subsequence is \"abc\" and its length is 3.\n",
        "Example 3:\n",
        "\n",
        "Input: text1 = \"abc\", text2 = \"def\"\n",
        "Output: 0\n",
        "Explanation: There is no such common subsequence, so the result is 0.\n",
        " \n",
        "\n",
        "Constraints:\n",
        "\n",
        "1 <= text1.length, text2.length <= 1000\n",
        "text1 and text2 consist of only lowercase English characters.\n",
        "\"\"\"\n",
        "\n",
        "from collections import Counter\n",
        "class Solution:\n",
        "    def longestCommonSubsequence(self, text1: str, text2: str) -> int:\n",
        "        memo = Counter()\n",
        "        \n",
        "        for i in range(len(text1)):\n",
        "            for j in range(len(text2)):\n",
        "                \n",
        "                if text1[i] == text2[j]:\n",
        "                    memo[(i+1, j+1)] = 1+ memo[(i,j)]\n",
        "                else:\n",
        "                    memo[(i+1,j+1)] = max(memo[(i+1,j)], memo[(i, j + 1)])\n",
        "        \n",
        "        return memo[(len(text1), len(text2))]\n",
        "                \n"
      ],
      "execution_count": null,
      "outputs": []
    },
    {
      "cell_type": "markdown",
      "metadata": {
        "id": "lfa3dSBifWFP"
      },
      "source": [
        "Runtime: 460 ms, faster than 41.02% of Python3 online submissions for Longest Common Subsequence.\n",
        "Memory Usage: 22 MB, less than 80.16% of Python3 online submissions for Longest Common Subsequence."
      ]
    },
    {
      "cell_type": "code",
      "metadata": {
        "id": "mEpiGVBYfll0"
      },
      "source": [
        "class Solution:\n",
        "    def longestCommonSubsequence(self, text1: str, text2: str) -> int:\n",
        "        m, n = len(text1), len(text2)\n",
        "        \n",
        "        dp = [[0] * (n+1) for i in range(m+1)]\n",
        "        \n",
        "        for i in range(m):\n",
        "            for j in range(n):\n",
        "                dp[i + 1][j + 1] = max(dp[i+1][j], dp[i][j+1], (text1[i] == text2[j]) + dp[i][j])\n",
        "        \n",
        "        return dp[m][n]\n",
        "                \n"
      ],
      "execution_count": null,
      "outputs": []
    }
  ]
}