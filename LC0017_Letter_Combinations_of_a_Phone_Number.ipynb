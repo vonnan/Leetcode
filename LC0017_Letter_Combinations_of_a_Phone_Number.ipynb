{
  "nbformat": 4,
  "nbformat_minor": 0,
  "metadata": {
    "colab": {
      "name": "LC0017 Letter Combinations of a Phone Number.ipynb",
      "provenance": [],
      "authorship_tag": "ABX9TyMmBbBtB/MAhz2hBFRJXGiC",
      "include_colab_link": true
    },
    "kernelspec": {
      "name": "python3",
      "display_name": "Python 3"
    },
    "language_info": {
      "name": "python"
    }
  },
  "cells": [
    {
      "cell_type": "markdown",
      "metadata": {
        "id": "view-in-github",
        "colab_type": "text"
      },
      "source": [
        "<a href=\"https://colab.research.google.com/github/vonnan/Leetcode/blob/main/LC0017_Letter_Combinations_of_a_Phone_Number.ipynb\" target=\"_parent\"><img src=\"https://colab.research.google.com/assets/colab-badge.svg\" alt=\"Open In Colab\"/></a>"
      ]
    },
    {
      "cell_type": "code",
      "metadata": {
        "id": "hGyjzUTSNHPI"
      },
      "source": [
        "\"\"\"\n",
        "17. Letter Combinations of a Phone Number\n",
        "Medium\n",
        "\n",
        "5605\n",
        "\n",
        "506\n",
        "\n",
        "Add to List\n",
        "\n",
        "Share\n",
        "Given a string containing digits from 2-9 inclusive, return all possible letter combinations that the number could represent. Return the answer in any order.\n",
        "\n",
        "A mapping of digit to letters (just like on the telephone buttons) is given below. Note that 1 does not map to any letters.\n",
        "\n",
        "\n",
        "\n",
        " \n",
        "\n",
        "Example 1:\n",
        "\n",
        "Input: digits = \"23\"\n",
        "Output: [\"ad\",\"ae\",\"af\",\"bd\",\"be\",\"bf\",\"cd\",\"ce\",\"cf\"]\n",
        "Example 2:\n",
        "\n",
        "Input: digits = \"\"\n",
        "Output: []\n",
        "Example 3:\n",
        "\n",
        "Input: digits = \"2\"\n",
        "Output: [\"a\",\"b\",\"c\"]\n",
        " \n",
        "\n",
        "Constraints:\n",
        "\n",
        "0 <= digits.length <= 4\n",
        "digits[i] is a digit in the range ['2', '9'].\n",
        "\n",
        "\"\"\"\n",
        "from itertools import product\n",
        "\n",
        "class Solution:\n",
        "    def letterCombinations(self, digits: str) -> List[str]:\n",
        "        dic ={\"2\":\"abc\",\n",
        "              \"3\":\"def\",\n",
        "              \"4\": \"ghi\",\n",
        "              \"5\": \"jkl\",\n",
        "              \"6\": \"mno\",\n",
        "              \"7\": \"pqrs\",\n",
        "              \"8\": \"tuv\",\n",
        "              \"9\": \"wxyz\"}\n",
        "        \n",
        "        if len(digits) ==0:\n",
        "            return []\n",
        "        \n",
        "        if len(digits) ==1:\n",
        "            return list(dic[digits[0]])\n",
        "        \n",
        "        head = digits[0]\n",
        "        rest = digits[1:]\n",
        "        \n",
        "        head_combo = dic[head]\n",
        "        rest_combo = self.letterCombinations(rest)\n",
        "        # recursive\n",
        "        \n",
        "        return [\"\".join(x) for x in product(head_combo, rest_combo)]\n",
        "        \n",
        "        \n",
        "\n"
      ],
      "execution_count": null,
      "outputs": []
    }
  ]
}