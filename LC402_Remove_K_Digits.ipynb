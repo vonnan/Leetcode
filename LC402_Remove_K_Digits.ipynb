{
  "nbformat": 4,
  "nbformat_minor": 0,
  "metadata": {
    "colab": {
      "name": "LC402_Remove_K Digits.ipynb",
      "provenance": [],
      "authorship_tag": "ABX9TyPgGipFeXIIKZro8Eke5JSN",
      "include_colab_link": true
    },
    "kernelspec": {
      "name": "python3",
      "display_name": "Python 3"
    },
    "language_info": {
      "name": "python"
    }
  },
  "cells": [
    {
      "cell_type": "markdown",
      "metadata": {
        "id": "view-in-github",
        "colab_type": "text"
      },
      "source": [
        "<a href=\"https://colab.research.google.com/github/vonnan/Leetcode/blob/main/LC402_Remove_K_Digits.ipynb\" target=\"_parent\"><img src=\"https://colab.research.google.com/assets/colab-badge.svg\" alt=\"Open In Colab\"/></a>"
      ]
    },
    {
      "cell_type": "code",
      "metadata": {
        "id": "kHeae7wDaj7n"
      },
      "source": [
        "\"\"\"\n",
        "402. Remove K Digits\n",
        "Medium\n",
        "\n",
        "3146\n",
        "\n",
        "133\n",
        "\n",
        "Add to List\n",
        "\n",
        "Share\n",
        "Given a non-negative integer num represented as a string, remove k digits from the number so that the new number is the smallest possible.\n",
        "\n",
        "Note:\n",
        "\n",
        "The length of num is less than 10002 and will be ≥ k.\n",
        "The given num does not contain any leading zero.\n",
        "Example 1:\n",
        "\n",
        "Input: num = \"1432219\", k = 3\n",
        "Output: \"1219\"\n",
        "Explanation: Remove the three digits 4, 3, and 2 to form the new number 1219 which is the smallest.\n",
        "Example 2:\n",
        "\n",
        "Input: num = \"10200\", k = 1\n",
        "Output: \"200\"\n",
        "Explanation: Remove the leading 1 and the number is 200. Note that the output must not contain leading zeroes.\n",
        "Example 3:\n",
        "\n",
        "Input: num = \"10\", k = 2\n",
        "Output: \"0\"\n",
        "Explanation: Remove all the digits from the number and it is left with nothing which is 0.\n",
        "Accepted\n",
        "174,423\n",
        "Submissions\n",
        "608,092\n",
        "\"\"\"\n",
        "class Solution:\n",
        "    def removeKdigits(self, num: str, k: int) -> str:\n",
        "        if len(num)==k:\n",
        "            return \"0\"\n",
        "        if len(num) == k+1:\n",
        "            return min(list(num))\n",
        "        stack = []\n",
        "        \n",
        "        N = len(num)\n",
        "        for i,n in enumerate(num):\n",
        "            while stack and stack[-1] > n and i-(len(stack)-1) <=k:\n",
        "                stack.pop()\n",
        "        \n",
        "                \n",
        "            if len(stack) < N-k:\n",
        "                stack.append(n)\n",
        "                \n",
        "        while stack and stack[0] == \"0\":\n",
        "            del stack[0]\n",
        "            \n",
        "        return \"\".join(stack) if stack else \"0\"\n",
        "            \n",
        "            \n",
        "            "
      ],
      "execution_count": null,
      "outputs": []
    }
  ]
}