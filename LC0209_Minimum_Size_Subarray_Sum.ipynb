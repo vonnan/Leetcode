{
  "nbformat": 4,
  "nbformat_minor": 0,
  "metadata": {
    "colab": {
      "name": "LC0209 Minimum Size Subarray Sum.ipynb",
      "provenance": [],
      "authorship_tag": "ABX9TyMKsfQc/IFXtT+ja5zVTKME",
      "include_colab_link": true
    },
    "kernelspec": {
      "name": "python3",
      "display_name": "Python 3"
    },
    "language_info": {
      "name": "python"
    }
  },
  "cells": [
    {
      "cell_type": "markdown",
      "metadata": {
        "id": "view-in-github",
        "colab_type": "text"
      },
      "source": [
        "<a href=\"https://colab.research.google.com/github/vonnan/Leetcode/blob/main/LC0209_Minimum_Size_Subarray_Sum.ipynb\" target=\"_parent\"><img src=\"https://colab.research.google.com/assets/colab-badge.svg\" alt=\"Open In Colab\"/></a>"
      ]
    },
    {
      "cell_type": "code",
      "metadata": {
        "id": "5R934qXEwhWG"
      },
      "source": [
        "\"\"\"\n",
        "209. Minimum Size Subarray Sum\n",
        "Medium\n",
        "https://leetcode.com/problems/minimum-size-subarray-sum/\n",
        "\n",
        "3537\n",
        "\n",
        "138\n",
        "\n",
        "Add to List\n",
        "\n",
        "Share\n",
        "Given an array of positive integers nums and a positive integer target, return the minimal length of a contiguous subarray [numsl, numsl+1, ..., numsr-1, numsr] of which the sum is greater than or equal to target. If there is no such subarray, return 0 instead.\n",
        "\n",
        " \n",
        "\n",
        "Example 1:\n",
        "\n",
        "Input: target = 7, nums = [2,3,1,2,4,3]\n",
        "Output: 2\n",
        "Explanation: The subarray [4,3] has the minimal length under the problem constraint.\n",
        "Example 2:\n",
        "\n",
        "Input: target = 4, nums = [1,4,4]\n",
        "Output: 1\n",
        "Example 3:\n",
        "\n",
        "Input: target = 11, nums = [1,1,1,1,1,1,1,1]\n",
        "Output: 0\n",
        " \n",
        "\n",
        "Constraints:\n",
        "\n",
        "1 <= target <= 109\n",
        "1 <= nums.length <= 105\n",
        "1 <= nums[i] <= 105\n",
        " \n",
        "\n",
        "Follow up: If you have figured out the O(n) solution, try coding another solution of which the time complexity is O(n log(n)).\"\"\"\n",
        "class Solution:\n",
        "    def minSubArrayLen(self, target: int, nums: List[int]) -> int:\n",
        "        i, res = 0, len(nums)+1\n",
        "        for j, num in enumerate(nums):\n",
        "            target -= num\n",
        "            while target <= 0 and i <= len(nums):\n",
        "                res = min(res, j-i+1)\n",
        "                target += nums[i]\n",
        "                i += 1\n",
        "        return res if res<= len(nums) else 0\n",
        "            "
      ],
      "execution_count": null,
      "outputs": []
    }
  ]
}