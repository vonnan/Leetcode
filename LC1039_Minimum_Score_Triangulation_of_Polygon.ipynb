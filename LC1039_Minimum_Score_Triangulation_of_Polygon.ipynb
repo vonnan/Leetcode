{
  "nbformat": 4,
  "nbformat_minor": 0,
  "metadata": {
    "colab": {
      "name": "LC1039 Minimum Score Triangulation of Polygon.ipynb",
      "provenance": [],
      "authorship_tag": "ABX9TyMtGO4tWXwzUirNpPYUkSjo",
      "include_colab_link": true
    },
    "kernelspec": {
      "name": "python3",
      "display_name": "Python 3"
    },
    "language_info": {
      "name": "python"
    }
  },
  "cells": [
    {
      "cell_type": "markdown",
      "metadata": {
        "id": "view-in-github",
        "colab_type": "text"
      },
      "source": [
        "<a href=\"https://colab.research.google.com/github/vonnan/Leetcode/blob/main/LC1039_Minimum_Score_Triangulation_of_Polygon.ipynb\" target=\"_parent\"><img src=\"https://colab.research.google.com/assets/colab-badge.svg\" alt=\"Open In Colab\"/></a>"
      ]
    },
    {
      "cell_type": "code",
      "metadata": {
        "id": "keKc4_QwSNX3"
      },
      "source": [
        "\"\"\"\n",
        "1039. Minimum Score Triangulation of Polygon\n",
        "Medium\n",
        "\n",
        "644\n",
        "\n",
        "86\n",
        "\n",
        "Add to List\n",
        "\n",
        "Share\n",
        "You have a convex n-sided polygon where each vertex has an integer value. You are given an integer array values where values[i] is the value of the ith vertex (i.e., clockwise order).\n",
        "\n",
        "You will triangulate the polygon into n - 2 triangles. For each triangle, the value of that triangle is the product of the values of its vertices, and the total score of the triangulation is the sum of these values over all n - 2 triangles in the triangulation.\n",
        "\n",
        "Return the smallest possible total score that you can achieve with some triangulation of the polygon.\n",
        "\n",
        " \n",
        "\n",
        "Example 1:\n",
        "\n",
        "\n",
        "Input: values = [1,2,3]\n",
        "Output: 6\n",
        "Explanation: The polygon is already triangulated, and the score of the only triangle is 6.\n",
        "Example 2:\n",
        "\n",
        "\n",
        "Input: values = [3,7,4,5]\n",
        "Output: 144\n",
        "Explanation: There are two triangulations, with possible scores: 3*7*5 + 4*5*7 = 245, or 3*4*5 + 3*4*7 = 144.\n",
        "The minimum score is 144.\n",
        "Example 3:\n",
        "\n",
        "\n",
        "Input: values = [1,3,1,4,1,5]\n",
        "Output: 13\n",
        "Explanation: The minimum score triangulation has score 1*1*3 + 1*1*4 + 1*1*5 + 1*1*1 = 13.\n",
        " \n",
        "\n",
        "Constraints:\n",
        "\n",
        "n == values.length\n",
        "3 <= n <= 50\n",
        "1 <= values[i] <= 100\n",
        "Runtime: 108 ms, faster than 82.76% of Python3 online submissions for Minimum Score Triangulation of Polygon.\n",
        "Memory Usage: 14.2 MB, less than 89.66% of Python3 online submissions for Minimum Score Triangulation of Polygon.\n",
        "\"\"\"\n",
        "\n",
        "class Solution:\n",
        "    def minScoreTriangulation(self, values: List[int]) -> int:\n",
        "        memo = {}\n",
        "        n = len(values)\n",
        "        \n",
        "        for i in range(n-1):\n",
        "            memo[i, i+1] = 0\n",
        "            \n",
        "        for delta in range(2, n):\n",
        "            for i in range(n - delta):\n",
        "                j = i + delta\n",
        "                memo[i, j] = min(memo[i, k] + memo[k, j] + values[i] * values[k] * values[j] for k in range(i+1, j))\n",
        "                \n",
        "        return memo[0, n-1]\n",
        "        \n",
        "        "
      ],
      "execution_count": null,
      "outputs": []
    }
  ]
}