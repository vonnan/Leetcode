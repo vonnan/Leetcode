{
  "nbformat": 4,
  "nbformat_minor": 0,
  "metadata": {
    "colab": {
      "name": "LC0227_Basic Calculator II.ipynb",
      "provenance": [],
      "authorship_tag": "ABX9TyM5caw+qcVrHeAYj9DxRfFj",
      "include_colab_link": true
    },
    "kernelspec": {
      "name": "python3",
      "display_name": "Python 3"
    },
    "language_info": {
      "name": "python"
    }
  },
  "cells": [
    {
      "cell_type": "markdown",
      "metadata": {
        "id": "view-in-github",
        "colab_type": "text"
      },
      "source": [
        "<a href=\"https://colab.research.google.com/github/vonnan/Leetcode/blob/main/LC0227_Basic_Calculator_II.ipynb\" target=\"_parent\"><img src=\"https://colab.research.google.com/assets/colab-badge.svg\" alt=\"Open In Colab\"/></a>"
      ]
    },
    {
      "cell_type": "code",
      "metadata": {
        "id": "Lz7kDOdKbhiv"
      },
      "source": [
        "\"\"\"\n",
        "227. Basic Calculator II\n",
        "Medium\n",
        "\n",
        "2233\n",
        "\n",
        "349\n",
        "\n",
        "Add to List\n",
        "\n",
        "Share\n",
        "Given a string s which represents an expression, evaluate this expression and return its value. \n",
        "\n",
        "The integer division should truncate toward zero.\n",
        "\n",
        " \n",
        "\n",
        "Example 1:\n",
        "\n",
        "Input: s = \"3+2*2\"\n",
        "Output: 7\n",
        "Example 2:\n",
        "\n",
        "Input: s = \" 3/2 \"\n",
        "Output: 1\n",
        "Example 3:\n",
        "\n",
        "Input: s = \" 3+5 / 2 \"\n",
        "Output: 5\n",
        " \n",
        "\n",
        "Constraints:\n",
        "\n",
        "1 <= s.length <= 3 * 105\n",
        "s consists of integers and operators ('+', '-', '*', '/') separated by some number of spaces.\n",
        "s represents a valid expression.\n",
        "All the integers in the expression are non-negative integers in the range [0, 231 - 1].\n",
        "The answer is guaranteed to fit in a 32-bit integer.\n",
        "\"\"\"\n",
        "\n",
        "class Solution:\n",
        "    def calculate(self, s: str) -> int:\n",
        "        s = s.replace(\"-\", \"+-\").replace(\"/\", \"*/\").replace(\" \", \"\")\n",
        "        lst = s.split(\"+\")\n",
        "        for i, v in enumerate(lst):\n",
        "            if \"*\" in v:\n",
        "                v = v.split(\"*\")\n",
        "                prod = 1\n",
        "                for x in v:\n",
        "                    if \"/\" not in x:\n",
        "                        prod *= int(x)\n",
        "                    else:\n",
        "                        prod = int(prod/int(x[1:]))\n",
        "                lst[i] = prod\n",
        "            \n",
        "        return sum(int(x) for x in lst)\n",
        "                        \n",
        "                        \n",
        "   "
      ],
      "execution_count": null,
      "outputs": []
    }
  ]
}