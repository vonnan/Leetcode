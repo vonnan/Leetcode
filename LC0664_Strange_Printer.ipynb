{
  "nbformat": 4,
  "nbformat_minor": 0,
  "metadata": {
    "colab": {
      "name": "LC0664 Strange Printer.ipynb",
      "provenance": [],
      "authorship_tag": "ABX9TyOR4d1xrdWvI+7KqIX5X/Rs",
      "include_colab_link": true
    },
    "kernelspec": {
      "name": "python3",
      "display_name": "Python 3"
    },
    "language_info": {
      "name": "python"
    }
  },
  "cells": [
    {
      "cell_type": "markdown",
      "metadata": {
        "id": "view-in-github",
        "colab_type": "text"
      },
      "source": [
        "<a href=\"https://colab.research.google.com/github/vonnan/Leetcode/blob/main/LC0664_Strange_Printer.ipynb\" target=\"_parent\"><img src=\"https://colab.research.google.com/assets/colab-badge.svg\" alt=\"Open In Colab\"/></a>"
      ]
    },
    {
      "cell_type": "code",
      "metadata": {
        "id": "LGF1zG7JFBTS"
      },
      "source": [
        "\"\"\"\n",
        "664. Strange Printer\n",
        "Hard\n",
        "\n",
        "569\n",
        "\n",
        "54\n",
        "\n",
        "Add to List\n",
        "\n",
        "Share\n",
        "There is a strange printer with the following two special requirements:\n",
        "\n",
        "The printer can only print a sequence of the same character each time.\n",
        "At each turn, the printer can print new characters starting from and ending at any places, and will cover the original existing characters.\n",
        "Given a string consists of lower English letters only, your job is to count the minimum number of turns the printer needed in order to print it.\n",
        "\n",
        "Example 1:\n",
        "Input: \"aaabbb\"\n",
        "Output: 2\n",
        "Explanation: Print \"aaa\" first and then print \"bbb\".\n",
        "Example 2:\n",
        "Input: \"aba\"\n",
        "Output: 2\n",
        "Explanation: Print \"aaa\" first and then print \"b\" from the second place of the string, which will cover the existing character 'a'.\n",
        "Hint: Length of the given string will not exceed 100.\n",
        "\n",
        "\"\"\"\n",
        "\n",
        "class Solution:\n",
        "    def strangePrinter(self, s: str) -> int:\n",
        "        if s== \"\":\n",
        "            return 0\n",
        "        \n",
        "        s = list(s)\n",
        "        c = [s.pop()]\n",
        "        while s:\n",
        "            if s[-1] ==c[-1]:\n",
        "                s.pop()\n",
        "            else:\n",
        "                c.append(s.pop())\n",
        "        \n",
        "        memo = {}\n",
        "        \n",
        "        def dp(i,j):\n",
        "            if i > j:\n",
        "                return 0\n",
        "            if (i, j) in memo:\n",
        "                return memo[(i,j)]\n",
        "            else:\n",
        "                ans = dp(i+1, j) + 1\n",
        "                for k in range(i + 1, j + 1):\n",
        "                    if c[k] == c[i]:\n",
        "                        ans = min(ans, dp(i, k-1) + dp(k+1, j))\n",
        "                memo[(i,j)] = ans\n",
        "                return ans\n",
        "                \n",
        "        return dp(0, len(c)-1)\n"
      ],
      "execution_count": null,
      "outputs": []
    }
  ]
}