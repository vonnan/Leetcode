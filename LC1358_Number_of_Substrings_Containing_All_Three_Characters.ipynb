{
  "nbformat": 4,
  "nbformat_minor": 0,
  "metadata": {
    "colab": {
      "name": "LC1358 Number of Substrings Containing All Three Characters.ipynb",
      "provenance": [],
      "authorship_tag": "ABX9TyPbD4KhRC2mRshwCgaazoB3",
      "include_colab_link": true
    },
    "kernelspec": {
      "name": "python3",
      "display_name": "Python 3"
    },
    "language_info": {
      "name": "python"
    }
  },
  "cells": [
    {
      "cell_type": "markdown",
      "metadata": {
        "id": "view-in-github",
        "colab_type": "text"
      },
      "source": [
        "<a href=\"https://colab.research.google.com/github/vonnan/Leetcode/blob/main/LC1358_Number_of_Substrings_Containing_All_Three_Characters.ipynb\" target=\"_parent\"><img src=\"https://colab.research.google.com/assets/colab-badge.svg\" alt=\"Open In Colab\"/></a>"
      ]
    },
    {
      "cell_type": "code",
      "metadata": {
        "id": "ZsthzGjHLrt3"
      },
      "source": [
        "\"\"\"\n",
        "1358. Number of Substrings Containing All Three Characters\n",
        "Medium\n",
        "\n",
        "https://leetcode.com/problems/number-of-substrings-containing-all-three-characters/\n",
        "\n",
        "\n",
        "642\n",
        "\n",
        "15\n",
        "\n",
        "Add to List\n",
        "\n",
        "Share\n",
        "Given a string s consisting only of characters a, b and c.\n",
        "\n",
        "Return the number of substrings containing at least one occurrence of all these characters a, b and c.\n",
        "\n",
        " \n",
        "\n",
        "Example 1:\n",
        "\n",
        "Input: s = \"abcabc\"\n",
        "Output: 10\n",
        "Explanation: The substrings containing at least one occurrence of the characters a, b and c are \"abc\", \"abca\", \"abcab\", \"abcabc\", \"bca\", \"bcab\", \"bcabc\", \"cab\", \"cabc\" and \"abc\" (again). \n",
        "Example 2:\n",
        "\n",
        "Input: s = \"aaacb\"\n",
        "Output: 3\n",
        "Explanation: The substrings containing at least one occurrence of the characters a, b and c are \"aaacb\", \"aacb\" and \"acb\". \n",
        "Example 3:\n",
        "\n",
        "Input: s = \"abc\"\n",
        "Output: 1\n",
        " \n",
        "\n",
        "Constraints:\n",
        "\n",
        "3 <= s.length <= 5 x 10^4\n",
        "s only consists of a, b or c characters.\n",
        "\n",
        "Runtime: 224 ms, faster than 81.08% of Python3 online submissions for Number of Substrings Containing All Three Characters.\n",
        "Memory Usage: 14.5 MB, less than 61.94% of Python3 online submissions for Number of Substrings Containing All Three Characters.\n",
        "\"\"\"\n",
        "\n",
        "class Solution:\n",
        "    def numberOfSubstrings(self, s: str) -> int:\n",
        "        counter = {x: 0 for x in \"abc\"}\n",
        "        i = res = 0\n",
        "        for char in s:\n",
        "            counter[char] += 1\n",
        "            while all(counter.values()):\n",
        "                counter[s[i]] -= 1\n",
        "                i += 1\n",
        "            res += i\n",
        "        return res"
      ],
      "execution_count": null,
      "outputs": []
    }
  ]
}