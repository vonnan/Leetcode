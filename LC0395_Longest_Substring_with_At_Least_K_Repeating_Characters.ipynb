{
  "nbformat": 4,
  "nbformat_minor": 0,
  "metadata": {
    "colab": {
      "name": "LC0395 Longest Substring with At Least K Repeating Characters.ipynb",
      "provenance": [],
      "authorship_tag": "ABX9TyO8mPNaO+3zmyVocx6K6jTa",
      "include_colab_link": true
    },
    "kernelspec": {
      "name": "python3",
      "display_name": "Python 3"
    },
    "language_info": {
      "name": "python"
    }
  },
  "cells": [
    {
      "cell_type": "markdown",
      "metadata": {
        "id": "view-in-github",
        "colab_type": "text"
      },
      "source": [
        "<a href=\"https://colab.research.google.com/github/vonnan/Leetcode/blob/main/LC0395_Longest_Substring_with_At_Least_K_Repeating_Characters.ipynb\" target=\"_parent\"><img src=\"https://colab.research.google.com/assets/colab-badge.svg\" alt=\"Open In Colab\"/></a>"
      ]
    },
    {
      "cell_type": "code",
      "metadata": {
        "id": "Id-RPxTCwyuJ"
      },
      "source": [
        "\"\"\"\n",
        "395. Longest Substring with At Least K Repeating Characters\n",
        "Medium\n",
        "\n",
        "2410\n",
        "\n",
        "261\n",
        "\n",
        "Add to List\n",
        "\n",
        "Share\n",
        "Given a string s and an integer k, return the length of the longest substring of s such that the frequency of each character in this substring is greater than or equal to k.\n",
        "\n",
        " \n",
        "\n",
        "Example 1:\n",
        "\n",
        "Input: s = \"aaabb\", k = 3\n",
        "Output: 3\n",
        "Explanation: The longest substring is \"aaa\", as 'a' is repeated 3 times.\n",
        "Example 2:\n",
        "\n",
        "Input: s = \"ababbc\", k = 2\n",
        "Output: 5\n",
        "Explanation: The longest substring is \"ababb\", as 'a' is repeated 2 times and 'b' is repeated 3 times.\n",
        " \n",
        "\n",
        "Constraints:\n",
        "\n",
        "1 <= s.length <= 104\n",
        "s consists of only lowercase English letters.\n",
        "1 <= k <= 105\n",
        "\n",
        "\"\"\"\n",
        "\n",
        "class Solution:\n",
        "    def longestSubstring(self, s: str, k: int) -> int:\n",
        "        \n",
        "        for ss in set(s):\n",
        "            if s.count(ss) <k:\n",
        "                return max(self.longestSubstring(c, k) for c in s.split(ss))\n",
        "        \n",
        "        return len(s)\n",
        "            "
      ],
      "execution_count": null,
      "outputs": []
    }
  ]
}