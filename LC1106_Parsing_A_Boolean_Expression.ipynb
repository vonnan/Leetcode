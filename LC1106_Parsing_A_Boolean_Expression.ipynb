{
  "nbformat": 4,
  "nbformat_minor": 0,
  "metadata": {
    "colab": {
      "name": "LC1106 Parsing A Boolean Expression.ipynb",
      "provenance": [],
      "authorship_tag": "ABX9TyMPQhHb9VRbST7RrQOjwdJk",
      "include_colab_link": true
    },
    "kernelspec": {
      "name": "python3",
      "display_name": "Python 3"
    },
    "language_info": {
      "name": "python"
    }
  },
  "cells": [
    {
      "cell_type": "markdown",
      "metadata": {
        "id": "view-in-github",
        "colab_type": "text"
      },
      "source": [
        "<a href=\"https://colab.research.google.com/github/vonnan/Leetcode/blob/main/LC1106_Parsing_A_Boolean_Expression.ipynb\" target=\"_parent\"><img src=\"https://colab.research.google.com/assets/colab-badge.svg\" alt=\"Open In Colab\"/></a>"
      ]
    },
    {
      "cell_type": "code",
      "metadata": {
        "id": "hfBpSWVltn9x"
      },
      "source": [
        "\"\"\"\n",
        "1106. Parsing A Boolean Expression\n",
        "Hard\n",
        "\n",
        "https://leetcode.com/problems/parsing-a-boolean-expression/\n",
        "\n",
        "337\n",
        "\n",
        "21\n",
        "\n",
        "Add to List\n",
        "\n",
        "Share\n",
        "Return the result of evaluating a given boolean expression, represented as a string.\n",
        "\n",
        "An expression can either be:\n",
        "\n",
        "\"t\", evaluating to True;\n",
        "\"f\", evaluating to False;\n",
        "\"!(expr)\", evaluating to the logical NOT of the inner expression expr;\n",
        "\"&(expr1,expr2,...)\", evaluating to the logical AND of 2 or more inner expressions expr1, expr2, ...;\n",
        "\"|(expr1,expr2,...)\", evaluating to the logical OR of 2 or more inner expressions expr1, expr2, ...\n",
        " \n",
        "\n",
        "Example 1:\n",
        "\n",
        "Input: expression = \"!(f)\"\n",
        "Output: true\n",
        "Example 2:\n",
        "\n",
        "Input: expression = \"|(f,t)\"\n",
        "Output: true\n",
        "Example 3:\n",
        "\n",
        "Input: expression = \"&(t,f)\"\n",
        "Output: false\n",
        "Example 4:\n",
        "\n",
        "Input: expression = \"|(&(t,f,t),!(t))\"\n",
        "Output: false\n",
        " \n",
        "\n",
        "Constraints:\n",
        "\n",
        "1 <= expression.length <= 20000\n",
        "expression[i] consists of characters in {'(', ')', '&', '|', '!', 't', 'f', ','}.\n",
        "expression is a valid expression representing a boolean, as given in the description.\n",
        "\"\"\"\n",
        "class Solution:\n",
        "    def parseBoolExpr(self, expression: str) -> bool:\n",
        "        stack = []\n",
        "        for s in expression:\n",
        "            if s == \")\":\n",
        "                lst = []\n",
        "                while stack[-1] != \"(\":\n",
        "                    if stack[-1] == \"t\" or stack[-1]==\"f\":\n",
        "                        lst.append(stack.pop())\n",
        "                    else:\n",
        "                        stack.pop()\n",
        "                stack.pop() #pop \"(\"\n",
        "                \n",
        "                boolean = stack.pop()\n",
        "                if boolean == \"&\":\n",
        "                    if \"f\" in lst:\n",
        "                        stack.append(\"f\")\n",
        "                    else:\n",
        "                        stack.append(\"t\")\n",
        "                elif boolean ==\"!\":\n",
        "                    if \"f\" in lst:\n",
        "                        stack.append(\"t\")\n",
        "                    else:\n",
        "                        stack.append(\"f\")\n",
        "                elif boolean == \"|\":\n",
        "                    if \"t\" in lst:\n",
        "                        stack.append(\"t\")\n",
        "                    else:\n",
        "                        stack.append(\"f\")\n",
        "                \n",
        "            elif s!= \",\" or s!=\" \":\n",
        "                stack.append(s)\n",
        "            \n",
        "        return True if stack[0] ==\"t\" else False\n",
        "                \n",
        "                        "
      ],
      "execution_count": null,
      "outputs": []
    }
  ]
}