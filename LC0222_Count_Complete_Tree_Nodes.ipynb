{
  "nbformat": 4,
  "nbformat_minor": 0,
  "metadata": {
    "colab": {
      "name": "LC0222 Count Complete Tree Nodes.ipynb",
      "provenance": [],
      "authorship_tag": "ABX9TyMcgS2XCziLtFDW5HFQtj/e",
      "include_colab_link": true
    },
    "kernelspec": {
      "name": "python3",
      "display_name": "Python 3"
    },
    "language_info": {
      "name": "python"
    }
  },
  "cells": [
    {
      "cell_type": "markdown",
      "metadata": {
        "id": "view-in-github",
        "colab_type": "text"
      },
      "source": [
        "<a href=\"https://colab.research.google.com/github/vonnan/Leetcode/blob/main/LC0222_Count_Complete_Tree_Nodes.ipynb\" target=\"_parent\"><img src=\"https://colab.research.google.com/assets/colab-badge.svg\" alt=\"Open In Colab\"/></a>"
      ]
    },
    {
      "cell_type": "code",
      "metadata": {
        "id": "RL24Iuj2Ivil"
      },
      "source": [
        "\"\"\"\n",
        "222. Count Complete Tree Nodes\n",
        "Medium\n",
        "\n",
        "2878\n",
        "\n",
        "258\n",
        "\n",
        "Add to List\n",
        "\n",
        "Share\n",
        "Given the root of a complete binary tree, return the number of the nodes in the tree.\n",
        "\n",
        "According to Wikipedia, every level, except possibly the last, is completely filled in a complete binary tree, and all nodes in the last level are as far left as possible. It can have between 1 and 2h nodes inclusive at the last level h.\n",
        "\n",
        " \n",
        "\n",
        "Example 1:\n",
        "\n",
        "\n",
        "Input: root = [1,2,3,4,5,6]\n",
        "Output: 6\n",
        "Example 2:\n",
        "\n",
        "Input: root = []\n",
        "Output: 0\n",
        "Example 3:\n",
        "\n",
        "Input: root = [1]\n",
        "Output: 1\n",
        " \n",
        "\n",
        "Constraints:\n",
        "\n",
        "The number of nodes in the tree is in the range [0, 5 * 104].\n",
        "0 <= Node.val <= 5 * 104\n",
        "The tree is guaranteed to be complete.\n",
        " \n",
        "\n",
        "Follow up: Traversing the tree to count the number of nodes in the tree is an easy solution but with O(n) complexity. Could you find a faster algorithm?\n",
        "\"\"\"\n",
        "\n",
        "# Definition for a binary tree node.\n",
        "# class TreeNode:\n",
        "#     def __init__(self, val=0, left=None, right=None):\n",
        "#         self.val = val\n",
        "#         self.left = left\n",
        "#         self.right = right\n",
        "class Solution:\n",
        "    def countNodes(self, root: TreeNode) -> int:\n",
        "        \n",
        "        def count(node):\n",
        "            if not node:\n",
        "                return 0\n",
        "            else:\n",
        "                return count(node.left) + count(node.right) + 1\n",
        "            \n",
        "        return count(root)\n",
        "            \n",
        "   "
      ],
      "execution_count": null,
      "outputs": []
    }
  ]
}