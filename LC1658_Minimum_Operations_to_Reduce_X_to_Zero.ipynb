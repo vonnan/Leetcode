{
  "nbformat": 4,
  "nbformat_minor": 0,
  "metadata": {
    "colab": {
      "name": "LC1658 Minimum Operations to Reduce X to Zero.ipynb",
      "provenance": [],
      "authorship_tag": "ABX9TyOra6OAcQr8zH2LWNpex9FK",
      "include_colab_link": true
    },
    "kernelspec": {
      "name": "python3",
      "display_name": "Python 3"
    },
    "language_info": {
      "name": "python"
    }
  },
  "cells": [
    {
      "cell_type": "markdown",
      "metadata": {
        "id": "view-in-github",
        "colab_type": "text"
      },
      "source": [
        "<a href=\"https://colab.research.google.com/github/vonnan/Leetcode/blob/main/LC1658_Minimum_Operations_to_Reduce_X_to_Zero.ipynb\" target=\"_parent\"><img src=\"https://colab.research.google.com/assets/colab-badge.svg\" alt=\"Open In Colab\"/></a>"
      ]
    },
    {
      "cell_type": "code",
      "metadata": {
        "id": "ju6s-TKzVqXY"
      },
      "source": [
        "\"\"\"\n",
        "1658. Minimum Operations to Reduce X to Zero\n",
        "Medium\n",
        "https://leetcode.com/problems/minimum-operations-to-reduce-x-to-zero/\n",
        "\n",
        "767\n",
        "\n",
        "17\n",
        "\n",
        "Add to List\n",
        "\n",
        "Share\n",
        "You are given an integer array nums and an integer x. In one operation, you can either remove the leftmost or the rightmost element from the array nums and subtract its value from x. Note that this modifies the array for future operations.\n",
        "\n",
        "Return the minimum number of operations to reduce x to exactly 0 if it's possible, otherwise, return -1.\n",
        "\n",
        " \n",
        "\n",
        "Example 1:\n",
        "\n",
        "Input: nums = [1,1,4,2,3], x = 5\n",
        "Output: 2\n",
        "Explanation: The optimal solution is to remove the last two elements to reduce x to zero.\n",
        "Example 2:\n",
        "\n",
        "Input: nums = [5,6,7,8,9], x = 4\n",
        "Output: -1\n",
        "Example 3:\n",
        "\n",
        "Input: nums = [3,2,20,1,1,3], x = 10\n",
        "Output: 5\n",
        "Explanation: The optimal solution is to remove the last three elements and the first two elements (5 operations in total) to reduce x to zero.\n",
        " \n",
        "\n",
        "Constraints:\n",
        "\n",
        "1 <= nums.length <= 105\n",
        "1 <= nums[i] <= 104\n",
        "1 <= x <= 109\n",
        "\"\"\"\n",
        "from collections import defaultdict\n",
        "class Solution:\n",
        "    def minOperations(self, nums: List[int], x: int) -> int:\n",
        "        res = len(nums) + 1\n",
        "        presum = defaultdict()\n",
        "        suffix = defaultdict()\n",
        "        presum[0] = 0\n",
        "        suffix[0] = 0\n",
        "        \n",
        "        temp = 0\n",
        "        for i, n in enumerate(nums):\n",
        "            temp += n\n",
        "            presum[temp] = i+1\n",
        "        \n",
        "        temp = 0\n",
        "        for j,n in enumerate(nums[::-1]):\n",
        "            temp += n\n",
        "            suffix[temp] = j+1\n",
        "        \n",
        "        for key, val in presum.items():\n",
        "            if val > x:\n",
        "                break\n",
        "            if x-key in suffix:\n",
        "                res = min(res, val+ suffix[x-key])\n",
        "        \n",
        "        return res if res <= len(nums) else -1\n",
        "\n"
      ],
      "execution_count": null,
      "outputs": []
    }
  ]
}