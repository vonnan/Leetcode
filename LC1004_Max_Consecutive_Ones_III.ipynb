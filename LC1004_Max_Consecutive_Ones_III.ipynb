{
  "nbformat": 4,
  "nbformat_minor": 0,
  "metadata": {
    "colab": {
      "name": "LC1004 Max Consecutive Ones III.ipynb",
      "provenance": [],
      "authorship_tag": "ABX9TyNYMaPzy854r5JYPSw+/Lt/",
      "include_colab_link": true
    },
    "kernelspec": {
      "name": "python3",
      "display_name": "Python 3"
    },
    "language_info": {
      "name": "python"
    }
  },
  "cells": [
    {
      "cell_type": "markdown",
      "metadata": {
        "id": "view-in-github",
        "colab_type": "text"
      },
      "source": [
        "<a href=\"https://colab.research.google.com/github/vonnan/Leetcode/blob/main/LC1004_Max_Consecutive_Ones_III.ipynb\" target=\"_parent\"><img src=\"https://colab.research.google.com/assets/colab-badge.svg\" alt=\"Open In Colab\"/></a>"
      ]
    },
    {
      "cell_type": "code",
      "metadata": {
        "id": "36qmvt745x9f"
      },
      "source": [
        "\"\"\"\n",
        "1004. Max Consecutive Ones III\n",
        "Medium\n",
        "\n",
        "https://leetcode.com/problems/max-consecutive-ones-iii/\n",
        "\n",
        "1976\n",
        "\n",
        "30\n",
        "\n",
        "Add to List\n",
        "\n",
        "Share\n",
        "Given an array A of 0s and 1s, we may change up to K values from 0 to 1.\n",
        "\n",
        "Return the length of the longest (contiguous) subarray that contains only 1s. \n",
        "\n",
        " \n",
        "\n",
        "Example 1:\n",
        "\n",
        "Input: A = [1,1,1,0,0,0,1,1,1,1,0], K = 2\n",
        "Output: 6\n",
        "Explanation: \n",
        "[1,1,1,0,0,1,1,1,1,1,1]\n",
        "Bolded numbers were flipped from 0 to 1.  The longest subarray is underlined.\n",
        "Example 2:\n",
        "\n",
        "Input: A = [0,0,1,1,0,0,1,1,1,0,1,1,0,0,0,1,1,1,1], K = 3\n",
        "Output: 10\n",
        "Explanation: \n",
        "[0,0,1,1,1,1,1,1,1,1,1,1,0,0,0,1,1,1,1]\n",
        "Bolded numbers were flipped from 0 to 1.  The longest subarray is underlined.\n",
        " \n",
        "\n",
        "Note:\n",
        "\n",
        "1 <= A.length <= 20000\n",
        "0 <= K <= A.length\n",
        "A[i] is 0 or 1 \n",
        "\"\"\"\n",
        "class Solution:\n",
        "    def longestOnes(self, A: List[int], K: int) -> int:\n",
        "        i , res = 0, 0\n",
        "        for j,a in enumerate(A):\n",
        "            K -= 1-a\n",
        "            if K >= 0:\n",
        "                res = max(res, j-i+1)\n",
        "            while K < 0 and i <= j+1:\n",
        "                K += 1-A[i]\n",
        "                i += 1\n",
        "            if K >= 0:\n",
        "                res = max(res, j-i+1)\n",
        "        return res\n",
        "        "
      ],
      "execution_count": null,
      "outputs": []
    }
  ]
}