{
  "nbformat": 4,
  "nbformat_minor": 0,
  "metadata": {
    "colab": {
      "name": "LC1499 Max Value of Equation.ipynb",
      "provenance": [],
      "authorship_tag": "ABX9TyNSOvhRpb3VR8m3WiQf0xly",
      "include_colab_link": true
    },
    "kernelspec": {
      "name": "python3",
      "display_name": "Python 3"
    },
    "language_info": {
      "name": "python"
    }
  },
  "cells": [
    {
      "cell_type": "markdown",
      "metadata": {
        "id": "view-in-github",
        "colab_type": "text"
      },
      "source": [
        "<a href=\"https://colab.research.google.com/github/vonnan/Leetcode/blob/main/LC1499_Max_Value_of_Equation.ipynb\" target=\"_parent\"><img src=\"https://colab.research.google.com/assets/colab-badge.svg\" alt=\"Open In Colab\"/></a>"
      ]
    },
    {
      "cell_type": "code",
      "metadata": {
        "id": "fw1WjOypsDAP"
      },
      "source": [
        "\"\"\"\n",
        "1499. Max Value of Equation\n",
        "Hard\n",
        "\n",
        "324\n",
        "\n",
        "13\n",
        "\n",
        "Add to List\n",
        "\n",
        "Share\n",
        "Given an array points containing the coordinates of points on a 2D plane, sorted by the x-values, where points[i] = [xi, yi] such that xi < xj for all 1 <= i < j <= points.length. You are also given an integer k.\n",
        "\n",
        "Find the maximum value of the equation yi + yj + |xi - xj| where |xi - xj| <= k and 1 <= i < j <= points.length. It is guaranteed that there exists at least one pair of points that satisfy the constraint |xi - xj| <= k.\n",
        "\n",
        " \n",
        "\n",
        "Example 1:\n",
        "\n",
        "Input: points = [[1,3],[2,0],[5,10],[6,-10]], k = 1\n",
        "Output: 4\n",
        "Explanation: The first two points satisfy the condition |xi - xj| <= 1 and if we calculate the equation we get 3 + 0 + |1 - 2| = 4. Third and fourth points also satisfy the condition and give a value of 10 + -10 + |5 - 6| = 1.\n",
        "No other pairs satisfy the condition, so we return the max of 4 and 1.\n",
        "Example 2:\n",
        "\n",
        "Input: points = [[0,0],[3,0],[9,2]], k = 3\n",
        "Output: 3\n",
        "Explanation: Only the first two points have an absolute difference of 3 or less in the x-values, and give the value of 0 + 0 + |0 - 3| = 3.\n",
        " \n",
        "\n",
        "Constraints:\n",
        "\n",
        "2 <= points.length <= 10^5\n",
        "points[i].length == 2\n",
        "-10^8 <= points[i][0], points[i][1] <= 10^8\n",
        "0 <= k <= 2 * 10^8\n",
        "points[i][0] < points[j][0] for all 1 <= i < j <= points.length\n",
        "xi form a strictly increasing sequence.\n",
        "\"\"\"\n",
        "\n",
        "from heapq import heappush\n",
        "from heapq import heappop\n",
        "\n",
        "class Solution:\n",
        "    def findMaxValueOfEquation(self, points: List[List[int]], k: int) -> int:\n",
        "        heap = []\n",
        "        #points.sort() already sorted, no need to sort...otherwise need to sort\n",
        "        res = -float(\"inf\")\n",
        "        \n",
        "        for x,y in points:\n",
        "            \n",
        "            while heap and x - heap[0][1] >k:\n",
        "                heappop(heap)\n",
        "            # pop out the points that have x values too far away\n",
        "            if heap:\n",
        "                res = max(res, -heap[0][0] + y + x)\n",
        "            # find the best so far\n",
        "            heappush(heap, (x-y, x))\n",
        "            \n",
        "        return res\n",
        "\n",
        "\n"
      ],
      "execution_count": null,
      "outputs": []
    }
  ]
}