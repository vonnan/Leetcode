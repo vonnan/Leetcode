{
  "nbformat": 4,
  "nbformat_minor": 0,
  "metadata": {
    "colab": {
      "name": "LC239 Sliding Window Maximum.ipynb",
      "provenance": [],
      "authorship_tag": "ABX9TyNW6mpLNl3MkttpUSXTukxE",
      "include_colab_link": true
    },
    "kernelspec": {
      "name": "python3",
      "display_name": "Python 3"
    },
    "language_info": {
      "name": "python"
    }
  },
  "cells": [
    {
      "cell_type": "markdown",
      "metadata": {
        "id": "view-in-github",
        "colab_type": "text"
      },
      "source": [
        "<a href=\"https://colab.research.google.com/github/vonnan/Leetcode/blob/main/LC239_Sliding_Window_Maximum.ipynb\" target=\"_parent\"><img src=\"https://colab.research.google.com/assets/colab-badge.svg\" alt=\"Open In Colab\"/></a>"
      ]
    },
    {
      "cell_type": "code",
      "metadata": {
        "id": "5IbzfFkT-AHL"
      },
      "source": [
        "\"\"\"\n",
        "239. Sliding Window Maximum\n",
        "Hard\n",
        "\n",
        "5428\n",
        "\n",
        "225\n",
        "\n",
        "Add to List\n",
        "\n",
        "Share\n",
        "You are given an array of integers nums, there is a sliding window of size k which is moving from the very left of the array to the very right. You can only see the k numbers in the window. Each time the sliding window moves right by one position.\n",
        "\n",
        "Return the max sliding window.\n",
        "\n",
        " \n",
        "\n",
        "Example 1:\n",
        "\n",
        "Input: nums = [1,3,-1,-3,5,3,6,7], k = 3\n",
        "Output: [3,3,5,5,6,7]\n",
        "Explanation: \n",
        "Window position                Max\n",
        "---------------               -----\n",
        "[1  3  -1] -3  5  3  6  7       3\n",
        " 1 [3  -1  -3] 5  3  6  7       3\n",
        " 1  3 [-1  -3  5] 3  6  7       5\n",
        " 1  3  -1 [-3  5  3] 6  7       5\n",
        " 1  3  -1  -3 [5  3  6] 7       6\n",
        " 1  3  -1  -3  5 [3  6  7]      7\n",
        "Example 2:\n",
        "\n",
        "Input: nums = [1], k = 1\n",
        "Output: [1]\n",
        "Example 3:\n",
        "\n",
        "Input: nums = [1,-1], k = 1\n",
        "Output: [1,-1]\n",
        "Example 4:\n",
        "\n",
        "Input: nums = [9,11], k = 2\n",
        "Output: [11]\n",
        "Example 5:\n",
        "\n",
        "Input: nums = [4,-2], k = 2\n",
        "Output: [4]\n",
        " \n",
        "\n",
        "Constraints:\n",
        "\n",
        "1 <= nums.length <= 105\n",
        "-104 <= nums[i] <= 104\n",
        "1 <= k <= nums.length\n",
        "\n",
        "\"\"\"\n",
        "from heapq import heappush\n",
        "from heapq import heappop\n",
        "class Solution:\n",
        "    def maxSlidingWindow(self, nums: List[int], k: int) -> List[int]:\n",
        "        res =[max(nums[:k])]\n",
        "        heap = []\n",
        "        seen = []\n",
        "        for i in range(k):\n",
        "            heappush(heap, -nums[i])\n",
        "        if len(nums) ==k:\n",
        "            return res\n",
        "        for i in range(len(nums) - k):\n",
        "            if nums[i] == res[-1]:\n",
        "                heappop(heap)   \n",
        "            else:\n",
        "                heappush(seen, -nums[i])\n",
        "            while heap and seen and heap[0]==seen[0]:\n",
        "                heappop(heap)\n",
        "                heappop(seen)\n",
        "                \n",
        "            heappush(heap, -nums[i+k])\n",
        "            res.append(-heap[0])\n",
        "        return res"
      ],
      "execution_count": null,
      "outputs": []
    }
  ]
}