{
  "nbformat": 4,
  "nbformat_minor": 0,
  "metadata": {
    "colab": {
      "name": "LC732_My_Calendar_III.ipynb",
      "provenance": [],
      "authorship_tag": "ABX9TyOjiWgvzffPdmZJVRC2JgDU",
      "include_colab_link": true
    },
    "kernelspec": {
      "name": "python3",
      "display_name": "Python 3"
    }
  },
  "cells": [
    {
      "cell_type": "markdown",
      "metadata": {
        "id": "view-in-github",
        "colab_type": "text"
      },
      "source": [
        "<a href=\"https://colab.research.google.com/github/vonnan/Leetcode/blob/main/LC732_My_Calendar_III.ipynb\" target=\"_parent\"><img src=\"https://colab.research.google.com/assets/colab-badge.svg\" alt=\"Open In Colab\"/></a>"
      ]
    },
    {
      "cell_type": "code",
      "metadata": {
        "id": "A7_jUGolkOOl"
      },
      "source": [
        "\"\"\"\n",
        "732. My Calendar III\n",
        "Hard\n",
        "\n",
        "456\n",
        "\n",
        "106\n",
        "\n",
        "Add to List\n",
        "\n",
        "Share\n",
        "A k-booking happens when k events have some non-empty intersection (i.e., there is some time that is common to all k events.)\n",
        "\n",
        "You are given some events [start, end), after each given event, return an integer k representing the maximum k-booking between all the previous events.\n",
        "\n",
        "Implement the MyCalendarThree class:\n",
        "\n",
        "MyCalendarThree() Initializes the object.\n",
        "int book(int start, int end) Returns an integer k representing the largest integer such that there exists a k-booking in the calendar.\n",
        " \n",
        "\n",
        "Example 1:\n",
        "\n",
        "Input\n",
        "[\"MyCalendarThree\", \"book\", \"book\", \"book\", \"book\", \"book\", \"book\"]\n",
        "[[], [10, 20], [50, 60], [10, 40], [5, 15], [5, 10], [25, 55]]\n",
        "Output\n",
        "[null, 1, 1, 2, 3, 3, 3]\n",
        "\n",
        "Explanation\n",
        "MyCalendarThree myCalendarThree = new MyCalendarThree();\n",
        "myCalendarThree.book(10, 20); // return 1, The first event can be booked and is disjoint, so the maximum k-booking is a 1-booking.\n",
        "myCalendarThree.book(50, 60); // return 1, The second event can be booked and is disjoint, so the maximum k-booking is a 1-booking.\n",
        "myCalendarThree.book(10, 40); // return 2, The third event [10, 40) intersects the first event, and the maximum k-booking is a 2-booking.\n",
        "myCalendarThree.book(5, 15); // return 3, The remaining events cause the maximum K-booking to be only a 3-booking.\n",
        "myCalendarThree.book(5, 10); // return 3\n",
        "myCalendarThree.book(25, 55); // return 3\n",
        " \n",
        "\n",
        "Constraints:\n",
        "\n",
        "0 <= start < end <= 109\n",
        "At most 400 calls will be made to book.\n",
        "\n",
        "\"\"\"\n",
        "from bisect import insort\n",
        "\n",
        "class MyCalendarThree:\n",
        "\n",
        "    def __init__(self):\n",
        "        self.calendar = []\n",
        "        \n",
        "\n",
        "    def book(self, start: int, end: int) -> int:\n",
        "        \n",
        "        insort(self.calendar, (start, 1))\n",
        "        insort(self.calendar, (end, -1))\n",
        "        return max(accumulate(c[1] for c in self.calendar))\n",
        "        \n",
        "\n",
        "\n",
        "# Your MyCalendarThree object will be instantiated and called as such:\n",
        "# obj = MyCalendarThree()\n",
        "# param_1 = obj.book(start,end)"
      ],
      "execution_count": null,
      "outputs": []
    }
  ]
}