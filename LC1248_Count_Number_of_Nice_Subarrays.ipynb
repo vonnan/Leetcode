{
  "nbformat": 4,
  "nbformat_minor": 0,
  "metadata": {
    "colab": {
      "name": "LC1248 Count Number of Nice Subarrays.ipynb",
      "provenance": [],
      "authorship_tag": "ABX9TyO4Az16fHF6Gp41wxeMdTNm",
      "include_colab_link": true
    },
    "kernelspec": {
      "name": "python3",
      "display_name": "Python 3"
    },
    "language_info": {
      "name": "python"
    }
  },
  "cells": [
    {
      "cell_type": "markdown",
      "metadata": {
        "id": "view-in-github",
        "colab_type": "text"
      },
      "source": [
        "<a href=\"https://colab.research.google.com/github/vonnan/Leetcode/blob/main/LC1248_Count_Number_of_Nice_Subarrays.ipynb\" target=\"_parent\"><img src=\"https://colab.research.google.com/assets/colab-badge.svg\" alt=\"Open In Colab\"/></a>"
      ]
    },
    {
      "cell_type": "code",
      "metadata": {
        "id": "Z6N_S7i5mGBR"
      },
      "source": [
        "\n",
        "\"\"\"\n",
        "1248. Count Number of Nice Subarrays\n",
        "Medium\n",
        "\n",
        "786\n",
        "\n",
        "23\n",
        "\n",
        "Add to List\n",
        "\n",
        "Share\n",
        "Given an array of integers nums and an integer k. A continuous subarray is called nice if there are k odd numbers on it.\n",
        "\n",
        "Return the number of nice sub-arrays.\n",
        "\n",
        " \n",
        "\n",
        "Example 1:\n",
        "\n",
        "Input: nums = [1,1,2,1,1], k = 3\n",
        "Output: 2\n",
        "Explanation: The only sub-arrays with 3 odd numbers are [1,1,2,1] and [1,2,1,1].\n",
        "Example 2:\n",
        "\n",
        "Input: nums = [2,4,6], k = 1\n",
        "Output: 0\n",
        "Explanation: There is no odd numbers in the array.\n",
        "Example 3:\n",
        "\n",
        "Input: nums = [2,2,2,1,2,2,1,2,2,2], k = 2\n",
        "Output: 16\n",
        " \n",
        "\n",
        "Constraints:\n",
        "\n",
        "1 <= nums.length <= 50000\n",
        "1 <= nums[i] <= 10^5\n",
        "1 <= k <= nums.length\n",
        "\"\"\"\n",
        "class Solution:\n",
        "    def numberOfSubarrays(self, nums: List[int], k: int) -> int:\n",
        "        i = res = 0\n",
        "        count = 0\n",
        "        \n",
        "        for j, num in enumerate(nums):\n",
        "            if num %2 ==1:\n",
        "                k -= 1\n",
        "                count = 0\n",
        "                \n",
        "            while k ==0:\n",
        "                k += nums[i] %2\n",
        "                count += 1\n",
        "                i += 1\n",
        "                \n",
        "            res += count\n",
        "            \n",
        "        return res"
      ],
      "execution_count": null,
      "outputs": []
    }
  ]
}