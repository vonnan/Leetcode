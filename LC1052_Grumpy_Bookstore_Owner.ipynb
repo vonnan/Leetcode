{
  "nbformat": 4,
  "nbformat_minor": 0,
  "metadata": {
    "colab": {
      "name": "LC1052 Grumpy Bookstore Owner.ipynb",
      "provenance": [],
      "authorship_tag": "ABX9TyN7zosS7VyfI5DJ0EuNnPSF",
      "include_colab_link": true
    },
    "kernelspec": {
      "name": "python3",
      "display_name": "Python 3"
    },
    "language_info": {
      "name": "python"
    }
  },
  "cells": [
    {
      "cell_type": "markdown",
      "metadata": {
        "id": "view-in-github",
        "colab_type": "text"
      },
      "source": [
        "<a href=\"https://colab.research.google.com/github/vonnan/Leetcode/blob/main/LC1052_Grumpy_Bookstore_Owner.ipynb\" target=\"_parent\"><img src=\"https://colab.research.google.com/assets/colab-badge.svg\" alt=\"Open In Colab\"/></a>"
      ]
    },
    {
      "cell_type": "code",
      "metadata": {
        "id": "bVlwUyLOVgWV"
      },
      "source": [
        "\"\"\"\n",
        "1052. Grumpy Bookstore Owner\n",
        "Medium\n",
        "\n",
        "703\n",
        "\n",
        "70\n",
        "\n",
        "Add to List\n",
        "\n",
        "Share\n",
        "Today, the bookstore owner has a store open for customers.length minutes.  Every minute, some number of customers (customers[i]) enter the store, and all those customers leave after the end of that minute.\n",
        "\n",
        "On some minutes, the bookstore owner is grumpy.  If the bookstore owner is grumpy on the i-th minute, grumpy[i] = 1, otherwise grumpy[i] = 0.  When the bookstore owner is grumpy, the customers of that minute are not satisfied, otherwise they are satisfied.\n",
        "\n",
        "The bookstore owner knows a secret technique to keep themselves not grumpy for X minutes straight, but can only use it once.\n",
        "\n",
        "Return the maximum number of customers that can be satisfied throughout the day.\n",
        "\n",
        " \n",
        "\n",
        "Example 1:\n",
        "\n",
        "Input: customers = [1,0,1,2,1,1,7,5], grumpy = [0,1,0,1,0,1,0,1], X = 3\n",
        "Output: 16\n",
        "Explanation: The bookstore owner keeps themselves not grumpy for the last 3 minutes. \n",
        "The maximum number of customers that can be satisfied = 1 + 1 + 1 + 1 + 7 + 5 = 16.\n",
        " \n",
        "\n",
        "Note:\n",
        "\n",
        "1 <= X <= customers.length == grumpy.length <= 20000\n",
        "0 <= customers[i] <= 1000\n",
        "0 <= grumpy[i] <= 1\n",
        "\"\"\"\n",
        "\n",
        "class Solution:\n",
        "    def maxSatisfied(self, customers: List[int], grumpy: List[int], X: int) -> int:\n",
        "        happy = sum(customers[i]*(1-grumpy[i]) for i in range(len(customers)))\n",
        "        \n",
        "        presum = sum(customers[i]*grumpy[i] for i in range(X))\n",
        "        extra = presum\n",
        "        \n",
        "        for i in range(1, len(customers)+1-X):\n",
        "            presum += customers[i + X -1]*grumpy[i + X -1] - customers[i-1]*grumpy[i-1]\n",
        "            extra = max(extra, presum)\n",
        "            \n",
        "        return happy + extra\n",
        "        \n"
      ],
      "execution_count": null,
      "outputs": []
    }
  ]
}