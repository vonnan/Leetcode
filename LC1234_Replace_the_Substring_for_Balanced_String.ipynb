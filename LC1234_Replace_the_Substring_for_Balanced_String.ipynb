{
  "nbformat": 4,
  "nbformat_minor": 0,
  "metadata": {
    "colab": {
      "name": "LC1234 Replace the Substring for Balanced String.ipynb",
      "provenance": [],
      "authorship_tag": "ABX9TyOytUYWbEZlrGapFIf8K2Sq",
      "include_colab_link": true
    },
    "kernelspec": {
      "name": "python3",
      "display_name": "Python 3"
    },
    "language_info": {
      "name": "python"
    }
  },
  "cells": [
    {
      "cell_type": "markdown",
      "metadata": {
        "id": "view-in-github",
        "colab_type": "text"
      },
      "source": [
        "<a href=\"https://colab.research.google.com/github/vonnan/Leetcode/blob/main/LC1234_Replace_the_Substring_for_Balanced_String.ipynb\" target=\"_parent\"><img src=\"https://colab.research.google.com/assets/colab-badge.svg\" alt=\"Open In Colab\"/></a>"
      ]
    },
    {
      "cell_type": "code",
      "metadata": {
        "id": "n2e7IKRGC0Sh"
      },
      "source": [
        "\"\"\"\n",
        "1234. Replace the Substring for Balanced String\n",
        "Medium\n",
        "\n",
        "481\n",
        "\n",
        "106\n",
        "\n",
        "Add to List\n",
        "\n",
        "Share\n",
        "You are given a string containing only 4 kinds of characters 'Q', 'W', 'E' and 'R'.\n",
        "\n",
        "A string is said to be balanced if each of its characters appears n/4 times where n is the length of the string.\n",
        "\n",
        "Return the minimum length of the substring that can be replaced with any other string of the same length to make the original string s balanced.\n",
        "\n",
        "Return 0 if the string is already balanced.\n",
        "\n",
        " \n",
        "\n",
        "Example 1:\n",
        "\n",
        "Input: s = \"QWER\"\n",
        "Output: 0\n",
        "Explanation: s is already balanced.\n",
        "Example 2:\n",
        "\n",
        "Input: s = \"QQWE\"\n",
        "Output: 1\n",
        "Explanation: We need to replace a 'Q' to 'R', so that \"RQWE\" (or \"QRWE\") is balanced.\n",
        "Example 3:\n",
        "\n",
        "Input: s = \"QQQW\"\n",
        "Output: 2\n",
        "Explanation: We can replace the first \"QQ\" to \"ER\". \n",
        "Example 4:\n",
        "\n",
        "Input: s = \"QQQQ\"\n",
        "Output: 3\n",
        "Explanation: We can replace the last 3 'Q' to make s = \"QWER\".\n",
        " \n",
        "\n",
        "Constraints:\n",
        "\n",
        "1 <= s.length <= 10^5\n",
        "s.length is a multiple of 4\n",
        "s contains only 'Q', 'W', 'E' and 'R'.\n",
        "\n",
        "\"\"\"\n",
        "\n",
        "from collections import Counter\n",
        "\n",
        "class Solution:\n",
        "    def balancedString(self, s: str) -> int:\n",
        "        \n",
        "        counter = Counter(s)\n",
        "        n = len(s)\n",
        "        i, res = 0, n\n",
        "        \n",
        "        for j, ss in enumerate(s):\n",
        "            counter[ss] -= 1\n",
        "            while all(counter[x]<= n//4 for x in \"QWER\") and i < n:\n",
        "                counter[s[i]] += 1\n",
        "                res = min(res, j-i+1)\n",
        "                i += 1\n",
        "                \n",
        "        return res\n",
        "                \n",
        "\n"
      ],
      "execution_count": null,
      "outputs": []
    }
  ]
}